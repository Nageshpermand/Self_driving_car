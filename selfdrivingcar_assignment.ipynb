{
 "cells": [
  {
   "cell_type": "markdown",
   "metadata": {},
   "source": [
    "# Self_Driving_Car"
   ]
  },
  {
   "cell_type": "markdown",
   "metadata": {},
   "source": [
    "*  Credits: https://github.com/SullyChen/Autopilot-TensorFlow\n",
    "*  Research paper: End to End Learning for Self-Driving Cars by Nvidia. [https://arxiv.org/pdf/1604.07316.pdf]\n",
    "\n",
    "*  NVidia dataset: 72 hrs of video => 72*60*60*30 = 7,776,000 images\n",
    "*  Nvidia blog: https://devblogs.nvidia.com/deep-learning-self-driving-cars/\n",
    "\n",
    "\n",
    "*  Our Dataset: https://github.com/SullyChen/Autopilot-TensorFlow [https://drive.google.com/file/d/0B-KJCaaF7elleG1RbzVPZWV4Tlk/view]\n",
    "*  Size: 25 minutes = 25*60*30 = 45,000 images ~ 2.3 GB\n",
    "\n",
    "\n",
    "*  If you want to try on a slightly large dataset: 70 minutes of data ~ 223GB\n",
    "*  Refer: https://medium.com/udacity/open-sourcing-223gb-of-mountain-view-driving-data-f6b5593fbfa5\n",
    "*  Format: Image, latitude, longitude, gear, brake, throttle, steering angles and speed\n",
    "\n",
    "\n",
    "\n",
    "* Additional Installations:\n",
    "*  pip3 install h5py\n",
    "\n",
    "\n",
    "*  AWS: https://aws.amazon.com/blogs/machine-learning/get-started-with-deep-learning-using-the-aws-deep-learning-ami/\n",
    "\n",
    "*  Youtube:https://www.youtube.com/watch?v=qhUvQiKec2U\n",
    "*  Further reading and extensions: https://medium.com/udacity/teaching-a-machine-to-steer-a-car-d73217f2492c\n",
    "*  More data: https://medium.com/udacity/open-sourcing-223gb-of-mountain-view-driving-data-f6b5593fbfa5"
   ]
  },
  {
   "cell_type": "markdown",
   "metadata": {},
   "source": [
    "#### Our Dataset: https://github.com/SullyChen/Autopilot-TensorFlow [https://drive.google.com/file/d/0B-KJCaaF7elleG1RbzVPZWV4Tlk/view]\n",
    "### Size: 25 minutes = 25*60*30 = 45,000 images ~ 2.3 GB\n"
   ]
  },
  {
   "cell_type": "markdown",
   "metadata": {},
   "source": [
    "## 1. Selp_driving_car Exploratory Data Analysis"
   ]
  },
  {
   "cell_type": "markdown",
   "metadata": {},
   "source": [
    "### Importing bunch of necessary libraries"
   ]
  },
  {
   "cell_type": "code",
   "execution_count": 2,
   "metadata": {},
   "outputs": [
    {
     "name": "stderr",
     "output_type": "stream",
     "text": [
      "/home/nagesh/.local/lib/python3.6/site-packages/tensorflow/python/framework/dtypes.py:516: FutureWarning: Passing (type, 1) or '1type' as a synonym of type is deprecated; in a future version of numpy, it will be understood as (type, (1,)) / '(1,)type'.\n",
      "  _np_qint8 = np.dtype([(\"qint8\", np.int8, 1)])\n",
      "/home/nagesh/.local/lib/python3.6/site-packages/tensorflow/python/framework/dtypes.py:517: FutureWarning: Passing (type, 1) or '1type' as a synonym of type is deprecated; in a future version of numpy, it will be understood as (type, (1,)) / '(1,)type'.\n",
      "  _np_quint8 = np.dtype([(\"quint8\", np.uint8, 1)])\n",
      "/home/nagesh/.local/lib/python3.6/site-packages/tensorflow/python/framework/dtypes.py:518: FutureWarning: Passing (type, 1) or '1type' as a synonym of type is deprecated; in a future version of numpy, it will be understood as (type, (1,)) / '(1,)type'.\n",
      "  _np_qint16 = np.dtype([(\"qint16\", np.int16, 1)])\n",
      "/home/nagesh/.local/lib/python3.6/site-packages/tensorflow/python/framework/dtypes.py:519: FutureWarning: Passing (type, 1) or '1type' as a synonym of type is deprecated; in a future version of numpy, it will be understood as (type, (1,)) / '(1,)type'.\n",
      "  _np_quint16 = np.dtype([(\"quint16\", np.uint16, 1)])\n",
      "/home/nagesh/.local/lib/python3.6/site-packages/tensorflow/python/framework/dtypes.py:520: FutureWarning: Passing (type, 1) or '1type' as a synonym of type is deprecated; in a future version of numpy, it will be understood as (type, (1,)) / '(1,)type'.\n",
      "  _np_qint32 = np.dtype([(\"qint32\", np.int32, 1)])\n",
      "/home/nagesh/.local/lib/python3.6/site-packages/tensorflow/python/framework/dtypes.py:525: FutureWarning: Passing (type, 1) or '1type' as a synonym of type is deprecated; in a future version of numpy, it will be understood as (type, (1,)) / '(1,)type'.\n",
      "  np_resource = np.dtype([(\"resource\", np.ubyte, 1)])\n",
      "/home/nagesh/.local/lib/python3.6/site-packages/tensorboard/compat/tensorflow_stub/dtypes.py:541: FutureWarning: Passing (type, 1) or '1type' as a synonym of type is deprecated; in a future version of numpy, it will be understood as (type, (1,)) / '(1,)type'.\n",
      "  _np_qint8 = np.dtype([(\"qint8\", np.int8, 1)])\n",
      "/home/nagesh/.local/lib/python3.6/site-packages/tensorboard/compat/tensorflow_stub/dtypes.py:542: FutureWarning: Passing (type, 1) or '1type' as a synonym of type is deprecated; in a future version of numpy, it will be understood as (type, (1,)) / '(1,)type'.\n",
      "  _np_quint8 = np.dtype([(\"quint8\", np.uint8, 1)])\n",
      "/home/nagesh/.local/lib/python3.6/site-packages/tensorboard/compat/tensorflow_stub/dtypes.py:543: FutureWarning: Passing (type, 1) or '1type' as a synonym of type is deprecated; in a future version of numpy, it will be understood as (type, (1,)) / '(1,)type'.\n",
      "  _np_qint16 = np.dtype([(\"qint16\", np.int16, 1)])\n",
      "/home/nagesh/.local/lib/python3.6/site-packages/tensorboard/compat/tensorflow_stub/dtypes.py:544: FutureWarning: Passing (type, 1) or '1type' as a synonym of type is deprecated; in a future version of numpy, it will be understood as (type, (1,)) / '(1,)type'.\n",
      "  _np_quint16 = np.dtype([(\"quint16\", np.uint16, 1)])\n",
      "/home/nagesh/.local/lib/python3.6/site-packages/tensorboard/compat/tensorflow_stub/dtypes.py:545: FutureWarning: Passing (type, 1) or '1type' as a synonym of type is deprecated; in a future version of numpy, it will be understood as (type, (1,)) / '(1,)type'.\n",
      "  _np_qint32 = np.dtype([(\"qint32\", np.int32, 1)])\n",
      "/home/nagesh/.local/lib/python3.6/site-packages/tensorboard/compat/tensorflow_stub/dtypes.py:550: FutureWarning: Passing (type, 1) or '1type' as a synonym of type is deprecated; in a future version of numpy, it will be understood as (type, (1,)) / '(1,)type'.\n",
      "  np_resource = np.dtype([(\"resource\", np.ubyte, 1)])\n",
      "WARNING: Logging before flag parsing goes to stderr.\n",
      "W1002 18:18:32.967722 140089816483648 deprecation_wrapper.py:119] From /home/nagesh/appliedaicourse/Assignments/self_driving_car/tensorflow/model.py:15: The name tf.placeholder is deprecated. Please use tf.compat.v1.placeholder instead.\n",
      "\n",
      "W1002 18:18:33.107144 140089816483648 deprecation_wrapper.py:119] From /home/nagesh/appliedaicourse/Assignments/self_driving_car/tensorflow/model.py:5: The name tf.truncated_normal is deprecated. Please use tf.random.truncated_normal instead.\n",
      "\n",
      "W1002 18:18:33.339570 140089816483648 deprecation.py:506] From /home/nagesh/appliedaicourse/Assignments/self_driving_car/tensorflow/model.py:58: calling dropout (from tensorflow.python.ops.nn_ops) with keep_prob is deprecated and will be removed in a future version.\n",
      "Instructions for updating:\n",
      "Please use `rate` instead of `keep_prob`. Rate should be set to `rate = 1 - keep_prob`.\n"
     ]
    }
   ],
   "source": [
    "\n",
    "from __future__ import division\n",
    "\n",
    "import os\n",
    "import numpy as np\n",
    "import random\n",
    "\n",
    "from scipy import pi\n",
    "from itertools import islice\n",
    "# pip3 install h5py\n",
    "#pip3 install opencv-python\n",
    "\n",
    "import scipy.misc\n",
    "import model\n",
    "import cv2\n",
    "from subprocess import call\n",
    "import math\n",
    "import tensorflow as tf\n",
    "import scipy\n",
    "import warnings\n",
    "warnings.filterwarnings('ignore')\n",
    "import os\n",
    "from tensorflow.core.protobuf import saver_pb2\n",
    "import driving_data\n",
    "import model"
   ]
  },
  {
   "cell_type": "code",
   "execution_count": 3,
   "metadata": {},
   "outputs": [
    {
     "name": "stdout",
     "output_type": "stream",
     "text": [
      "Completed processing data.txt\n"
     ]
    }
   ],
   "source": [
    "# read images and steering angles from driving_dataset folder\n",
    "\n",
    "DATA_FOLDER = './driving_dataset/' # change this to your folder\n",
    "TRAIN_FILE = os.path.join(DATA_FOLDER, 'data.txt')  #join the data.txt file to the driving_dataset\n",
    "\n",
    "\n",
    "split =0.8  #split the data train data = 80%\n",
    "X = []   \n",
    "y = []\n",
    "LIMIT = None\n",
    "# open the train file which is driving dataset  with data.txt files\n",
    "with open(TRAIN_FILE) as fp:\n",
    "    for line in islice(fp,LIMIT):\n",
    "        path, angle = line.strip().split()   #in data.txt we have each image corresponding with each angle so each line split into path and angle \n",
    "        full_path = os.path.join(DATA_FOLDER, path)\n",
    "        X.append(full_path)  # now X's are onli images ID's \n",
    "        \n",
    "        # converting angle from degrees to radians\n",
    "        y.append(float(angle) * pi / 180 )   # now yi's are only  radins(actual degrees converted into radians)\n",
    "\n",
    "\n",
    "y = np.array(y)     # alll radiens are in array \n",
    "print(\"Completed processing data.txt\")\n",
    "\n",
    "split_index = int(len(y)*0.8)   # split the yi's train dataset = 80%\n",
    "\n",
    "train_y = y[:split_index]   # train data set = 80%\n",
    "\n",
    "test_y = y[split_index:]   #test data = 20%"
   ]
  },
  {
   "cell_type": "code",
   "execution_count": 4,
   "metadata": {},
   "outputs": [
    {
     "name": "stdout",
     "output_type": "stream",
     "text": [
      "Using matplotlib backend: GTK3Agg\n"
     ]
    }
   ],
   "source": [
    "%matplotlib\n",
    "import numpy;\n",
    "import warnings\n",
    "warnings.filterwarnings('ignore')\n",
    "\n",
    "# PDF of train and test 'y' values. \n",
    "import matplotlib.pyplot as plt \n",
    "# plot histogram  for train angle (radians) and test angle(radiens)\n",
    "\n",
    "plt.hist(train_y, bins=50, normed=1, color='green', histtype ='step');\n",
    "plt.hist(test_y, bins=50, normed=1, color='red', histtype ='step');\n",
    "\n",
    "plt.show()"
   ]
  },
  {
   "cell_type": "markdown",
   "metadata": {},
   "source": [
    "* here green histogram plot implies train data and  red histogram plot implies test data \n",
    "* we can observe most often yi's are  0's\n",
    "* angles(degrees) converted into radiens"
   ]
  },
  {
   "cell_type": "code",
   "execution_count": 5,
   "metadata": {},
   "outputs": [
    {
     "name": "stdout",
     "output_type": "stream",
     "text": [
      "Test_MSE(MEAN):0.191127\n",
      "Test_MSE(ZERO):0.190891\n"
     ]
    }
   ],
   "source": [
    "#Model 0: Base line Model: y_test_pred = mean(y_train_i) \n",
    "train_mean_y = np.mean(train_y)\n",
    "\n",
    "print('Test_MSE(MEAN):%f' % np.mean(np.square(test_y-train_mean_y)) )\n",
    "\n",
    "print('Test_MSE(ZERO):%f' % np.mean(np.square(test_y-0.0)) )"
   ]
  },
  {
   "cell_type": "markdown",
   "metadata": {},
   "source": [
    "* mean value of yi's(mostly yi's are 0 degrees)  so  most of predicted yi^ test yi's are same\n",
    "* so that mean squered error  MSE= 1/n under root test yi's - train yi's\n",
    "          * then we got mse value around 0.19 "
   ]
  },
  {
   "cell_type": "markdown",
   "metadata": {},
   "source": [
    "## 2. Driving Data  (batch wise load the data)"
   ]
  },
  {
   "cell_type": "markdown",
   "metadata": {},
   "source": [
    "### 1. Load the Data"
   ]
  },
  {
   "cell_type": "markdown",
   "metadata": {},
   "source": [
    "* from diving_dataset images we have one text file with each image id and with angle representation for each image "
   ]
  },
  {
   "cell_type": "code",
   "execution_count": 6,
   "metadata": {},
   "outputs": [],
   "source": [
    "xs = []\n",
    "ys = []\n",
    "\n",
    "#points to the end of the last batch\n",
    "train_batch_pointer = 0\n",
    "val_batch_pointer = 0\n",
    "\n",
    "#read data.txt\n",
    "with open(\"driving_dataset/data.txt\") as f:\n",
    "    for line in f:\n",
    "        xs.append(\"driving_dataset/\" + line.split()[0])    #all image id's are append to empy list\n",
    "        #the paper by Nvidia uses the inverse of the turning radius,\n",
    "        #but steering wheel angle is proportional to the inverse of turning radius\n",
    "        #so the steering wheel angle in radians is used as the output\n",
    "        ys.append(float(line.split()[1]) * scipy.pi / 180)  # all angle values are append to ys list after angles converted into radans\n"
   ]
  },
  {
   "cell_type": "markdown",
   "metadata": {},
   "source": [
    "* now xs are all sequence images ids\n",
    "* now ys are all radians(all angles converted into radians)"
   ]
  },
  {
   "cell_type": "markdown",
   "metadata": {},
   "source": [
    "### 2.  Split the data into Train and Test/Validation"
   ]
  },
  {
   "cell_type": "markdown",
   "metadata": {},
   "source": [
    "as per assignment we have to split our data train data = 70% and test/validation data=30%"
   ]
  },
  {
   "cell_type": "code",
   "execution_count": 7,
   "metadata": {},
   "outputs": [
    {
     "name": "stdout",
     "output_type": "stream",
     "text": [
      "45406\n"
     ]
    }
   ],
   "source": [
    "#get number of images\n",
    "num_images = len(xs)    \n",
    "\n",
    "print(num_images)"
   ]
  },
  {
   "cell_type": "code",
   "execution_count": 8,
   "metadata": {},
   "outputs": [],
   "source": [
    "#get number of images\n",
    "num_images = len(xs)    \n",
    "\n",
    "# split 70% of train data and 30% of test data\n",
    "\n",
    "train_xs = xs[:int(len(xs) * 0.7)]\n",
    "train_ys = ys[:int(len(xs) * 0.7)]\n",
    "\n",
    "val_xs = xs[-int(len(xs) * 0.3):]\n",
    "val_ys = ys[-int(len(xs) * 0.3):]\n",
    "\n",
    "num_train_images = len(train_xs)\n",
    "num_val_images = len(val_xs)\n"
   ]
  },
  {
   "cell_type": "code",
   "execution_count": 9,
   "metadata": {},
   "outputs": [
    {
     "name": "stdout",
     "output_type": "stream",
     "text": [
      "train images: 36324\n",
      "test images: 9081\n"
     ]
    }
   ],
   "source": [
    "print(\"train images:\",num_train_images)\n",
    "print(\"test images:\",num_val_images)"
   ]
  },
  {
   "cell_type": "code",
   "execution_count": 10,
   "metadata": {},
   "outputs": [],
   "source": [
    "def LoadTrainBatch(batch_size):\n",
    "    global train_batch_pointer\n",
    "    x_out = []\n",
    "    y_out = []\n",
    "    for i in range(0, batch_size):\n",
    "        x_out.append(scipy.misc.imresize(scipy.misc.imread(train_xs[(train_batch_pointer + i) % num_train_images])[-150:], [66, 200]) / 255.0)\n",
    "        y_out.append([train_ys[(train_batch_pointer + i) % num_train_images]])\n",
    "    train_batch_pointer += batch_size\n",
    "    return x_out, y_out\n",
    "\n",
    "def LoadValBatch(batch_size):\n",
    "    global val_batch_pointer\n",
    "    x_out = []\n",
    "    y_out = []\n",
    "    for i in range(0, batch_size):\n",
    "        x_out.append(scipy.misc.imresize(scipy.misc.imread(val_xs[(val_batch_pointer + i) % num_val_images])[-150:], [66, 200]) / 255.0)\n",
    "        y_out.append([val_ys[(val_batch_pointer + i) % num_val_images]])\n",
    "    val_batch_pointer += batch_size\n",
    "    return x_out, y_out\n"
   ]
  },
  {
   "cell_type": "markdown",
   "metadata": {},
   "source": [
    "* we are selecting batch wise images  from train data and validation data"
   ]
  },
  {
   "cell_type": "markdown",
   "metadata": {},
   "source": [
    "## 3.Model"
   ]
  },
  {
   "cell_type": "code",
   "execution_count": 11,
   "metadata": {},
   "outputs": [],
   "source": [
    "# function for weights \n",
    "def weight_variable(shape):\n",
    "  initial = tf.truncated_normal(shape, stddev=0.1)\n",
    "  return tf.Variable(initial)\n",
    "\n",
    "def bias_variable(shape):\n",
    "  initial = tf.constant(0.1, shape=shape)\n",
    "  return tf.Variable(initial)\n",
    "\n",
    "def conv2d(x, W, stride):\n",
    "  return tf.nn.conv2d(x, W, strides=[1, stride, stride, 1], padding='VALID')\n"
   ]
  },
  {
   "cell_type": "code",
   "execution_count": 12,
   "metadata": {},
   "outputs": [],
   "source": [
    "x = tf.placeholder(tf.float32, shape=[None, 66, 200, 3])\n",
    "y_ = tf.placeholder(tf.float32, shape=[None, 1])"
   ]
  },
  {
   "cell_type": "code",
   "execution_count": 13,
   "metadata": {},
   "outputs": [],
   "source": [
    "x_image = x\n",
    "\n",
    "#first convolutional layer\n",
    "W_conv1 = weight_variable([5, 5, 3, 24])\n",
    "b_conv1 = bias_variable([24])\n",
    "\n",
    "h_conv1 = tf.nn.relu(conv2d(x_image, W_conv1, 2) + b_conv1)\n",
    "\n",
    "#second convolutional layer\n",
    "W_conv2 = weight_variable([5, 5, 24, 36])\n",
    "b_conv2 = bias_variable([36])\n",
    "\n",
    "h_conv2 = tf.nn.relu(conv2d(h_conv1, W_conv2, 2) + b_conv2)\n",
    "\n",
    "#third convolutional layer\n",
    "W_conv3 = weight_variable([5, 5, 36, 48])\n",
    "b_conv3 = bias_variable([48])\n",
    "\n",
    "h_conv3 = tf.nn.relu(conv2d(h_conv2, W_conv3, 2) + b_conv3)\n",
    "\n",
    "#fourth convolutional layer\n",
    "W_conv4 = weight_variable([3, 3, 48, 64])\n",
    "b_conv4 = bias_variable([64])\n",
    "\n",
    "h_conv4 = tf.nn.relu(conv2d(h_conv3, W_conv4, 1) + b_conv4)\n",
    "\n",
    "\n",
    "#fifth convolutional layer\n",
    "W_conv5 = weight_variable([3, 3, 64, 64])\n",
    "b_conv5 = bias_variable([64])\n",
    "\n",
    "h_conv5 = tf.nn.relu(conv2d(h_conv4, W_conv5, 1) + b_conv5)\n",
    "\n",
    "#FCL 1\n",
    "W_fc1 = weight_variable([1152, 1164])\n",
    "b_fc1 = bias_variable([1164])\n",
    "\n",
    "h_conv5_flat = tf.reshape(h_conv5, [-1, 1152])\n",
    "h_fc1 = tf.nn.relu(tf.matmul(h_conv5_flat, W_fc1) + b_fc1)\n",
    "\n",
    "keep_prob = tf.placeholder(tf.float32)\n",
    "h_fc1_drop = tf.nn.dropout(h_fc1, keep_prob)\n",
    "\n",
    "#FCL 2\n",
    "W_fc2 = weight_variable([1164, 100])\n",
    "b_fc2 = bias_variable([100])\n",
    "\n",
    "h_fc2 = tf.nn.relu(tf.matmul(h_fc1_drop, W_fc2) + b_fc2)\n",
    "\n",
    "h_fc2_drop = tf.nn.dropout(h_fc2, keep_prob)\n",
    "\n",
    "#FCL 3\n",
    "W_fc3 = weight_variable([100, 50])\n",
    "b_fc3 = bias_variable([50])\n",
    "\n",
    "h_fc3 = tf.nn.relu(tf.matmul(h_fc2_drop, W_fc3) + b_fc3)\n",
    "\n",
    "h_fc3_drop = tf.nn.dropout(h_fc3, keep_prob)\n",
    "\n",
    "#FCL 3\n",
    "W_fc4 = weight_variable([50, 10])\n",
    "b_fc4 = bias_variable([10])\n",
    "\n",
    "h_fc4 = tf.nn.relu(tf.matmul(h_fc3_drop, W_fc4) + b_fc4)\n",
    "\n",
    "h_fc4_drop = tf.nn.dropout(h_fc4, keep_prob)\n",
    "\n",
    "#Output\n",
    "W_fc5 = weight_variable([10, 1])\n",
    "b_fc5 = bias_variable([1])\n",
    "\n",
    "y = tf.multiply(tf.atan(tf.matmul(h_fc4_drop, W_fc5) + b_fc5), 2) #scale the output\n",
    "\n"
   ]
  },
  {
   "cell_type": "markdown",
   "metadata": {},
   "source": [
    "* we have 5 convlution networks"
   ]
  },
  {
   "cell_type": "markdown",
   "metadata": {},
   "source": [
    "# 4. train the model"
   ]
  },
  {
   "cell_type": "code",
   "execution_count": 14,
   "metadata": {},
   "outputs": [],
   "source": [
    "# file directory\n",
    "LOGDIR = './save'"
   ]
  },
  {
   "cell_type": "code",
   "execution_count": 15,
   "metadata": {},
   "outputs": [
    {
     "name": "stderr",
     "output_type": "stream",
     "text": [
      "W1002 07:36:34.192246 139821803878208 deprecation.py:323] From /home/nagesh/.local/lib/python3.6/site-packages/tensorflow/python/util/tf_should_use.py:193: initialize_all_variables (from tensorflow.python.ops.variables) is deprecated and will be removed after 2017-03-02.\n",
      "Instructions for updating:\n",
      "Use `tf.global_variables_initializer` instead.\n"
     ]
    }
   ],
   "source": [
    "sess = tf.InteractiveSession()\n",
    "\n",
    "L2NormConst = 0.001\n",
    "\n",
    "train_vars = tf.trainable_variables()\n",
    "\n",
    "loss = tf.reduce_mean(tf.square(tf.subtract(model.y_, model.y))) + tf.add_n([tf.nn.l2_loss(v) for v in train_vars]) * L2NormConst\n",
    "train_step = tf.train.AdamOptimizer(1e-3).minimize(loss)\n",
    "sess.run(tf.initialize_all_variables())\n"
   ]
  },
  {
   "cell_type": "code",
   "execution_count": 16,
   "metadata": {},
   "outputs": [],
   "source": [
    "# create a summary to monitor cost tensor\n",
    "tf.summary.scalar(\"loss\", loss)\n",
    "# merge all summaries into a single op\n",
    "merged_summary_op =  tf.summary.merge_all()\n",
    "\n",
    "saver = tf.train.Saver(write_version = saver_pb2.SaverDef.V1)\n",
    "\n",
    "# op to write logs to Tensorboard\n",
    "logs_path = './logs'\n",
    "summary_writer = tf.summary.FileWriter(logs_path, graph=tf.get_default_graph())\n"
   ]
  },
  {
   "cell_type": "code",
   "execution_count": 17,
   "metadata": {},
   "outputs": [],
   "source": [
    "epochs = 30  \n",
    "batch_size = 100\n"
   ]
  },
  {
   "cell_type": "code",
   "execution_count": 18,
   "metadata": {},
   "outputs": [
    {
     "name": "stderr",
     "output_type": "stream",
     "text": [
      "W1002 07:36:40.963131 139821803878208 saver.py:1134] *******************************************************\n",
      "W1002 07:36:40.964240 139821803878208 saver.py:1135] TensorFlow's V1 checkpoint format has been deprecated.\n",
      "W1002 07:36:40.965145 139821803878208 saver.py:1136] Consider switching to the more efficient V2 format:\n",
      "W1002 07:36:40.966065 139821803878208 saver.py:1137]    `tf.train.Saver(write_version=tf.train.SaverDef.V2)`\n",
      "W1002 07:36:40.966883 139821803878208 saver.py:1138] now on by default.\n",
      "W1002 07:36:40.967869 139821803878208 saver.py:1139] *******************************************************\n"
     ]
    },
    {
     "name": "stdout",
     "output_type": "stream",
     "text": [
      "Epoch: 0, Step: 0, Loss: 14.2811\n",
      "Epoch: 0, Step: 10, Loss: 12.202\n",
      "Epoch: 0, Step: 20, Loss: 12.0212\n",
      "Epoch: 0, Step: 30, Loss: 11.8651\n",
      "Epoch: 0, Step: 40, Loss: 11.6876\n",
      "Epoch: 0, Step: 50, Loss: 11.5989\n",
      "Epoch: 0, Step: 60, Loss: 11.5508\n",
      "Epoch: 0, Step: 70, Loss: 12.3692\n",
      "Epoch: 0, Step: 80, Loss: 13.0537\n",
      "Epoch: 0, Step: 90, Loss: 11.2532\n"
     ]
    },
    {
     "name": "stderr",
     "output_type": "stream",
     "text": [
      "W1002 07:38:42.049209 139821803878208 saver.py:1134] *******************************************************\n",
      "W1002 07:38:42.050610 139821803878208 saver.py:1135] TensorFlow's V1 checkpoint format has been deprecated.\n",
      "W1002 07:38:42.051404 139821803878208 saver.py:1136] Consider switching to the more efficient V2 format:\n",
      "W1002 07:38:42.052261 139821803878208 saver.py:1137]    `tf.train.Saver(write_version=tf.train.SaverDef.V2)`\n",
      "W1002 07:38:42.053132 139821803878208 saver.py:1138] now on by default.\n",
      "W1002 07:38:42.053979 139821803878208 saver.py:1139] *******************************************************\n"
     ]
    },
    {
     "name": "stdout",
     "output_type": "stream",
     "text": [
      "Epoch: 0, Step: 100, Loss: 10.8229\n",
      "Epoch: 0, Step: 110, Loss: 10.6581\n",
      "Epoch: 0, Step: 120, Loss: 10.5112\n",
      "Epoch: 0, Step: 130, Loss: 10.3864\n",
      "Epoch: 0, Step: 140, Loss: 10.285\n",
      "Epoch: 0, Step: 150, Loss: 10.1952\n",
      "Epoch: 0, Step: 160, Loss: 10.0655\n",
      "Epoch: 0, Step: 170, Loss: 9.87761\n",
      "Epoch: 0, Step: 180, Loss: 9.80307\n",
      "Epoch: 0, Step: 190, Loss: 9.97174\n"
     ]
    },
    {
     "name": "stderr",
     "output_type": "stream",
     "text": [
      "W1002 07:40:28.677311 139821803878208 saver.py:1134] *******************************************************\n",
      "W1002 07:40:28.678476 139821803878208 saver.py:1135] TensorFlow's V1 checkpoint format has been deprecated.\n",
      "W1002 07:40:28.679302 139821803878208 saver.py:1136] Consider switching to the more efficient V2 format:\n",
      "W1002 07:40:28.680051 139821803878208 saver.py:1137]    `tf.train.Saver(write_version=tf.train.SaverDef.V2)`\n",
      "W1002 07:40:28.680898 139821803878208 saver.py:1138] now on by default.\n",
      "W1002 07:40:28.681794 139821803878208 saver.py:1139] *******************************************************\n"
     ]
    },
    {
     "name": "stdout",
     "output_type": "stream",
     "text": [
      "Epoch: 0, Step: 200, Loss: 9.53524\n",
      "Epoch: 0, Step: 210, Loss: 9.50744\n",
      "Epoch: 0, Step: 220, Loss: 9.24949\n",
      "Epoch: 0, Step: 230, Loss: 9.13384\n",
      "Epoch: 0, Step: 240, Loss: 9.02195\n",
      "Epoch: 0, Step: 250, Loss: 8.91106\n",
      "Epoch: 0, Step: 260, Loss: 8.81684\n",
      "Epoch: 0, Step: 270, Loss: 13.4537\n",
      "Epoch: 0, Step: 280, Loss: 9.45566\n",
      "Epoch: 0, Step: 290, Loss: 8.49697\n"
     ]
    },
    {
     "name": "stderr",
     "output_type": "stream",
     "text": [
      "W1002 07:42:17.928353 139821803878208 saver.py:1134] *******************************************************\n",
      "W1002 07:42:17.929488 139821803878208 saver.py:1135] TensorFlow's V1 checkpoint format has been deprecated.\n",
      "W1002 07:42:17.930400 139821803878208 saver.py:1136] Consider switching to the more efficient V2 format:\n",
      "W1002 07:42:17.931244 139821803878208 saver.py:1137]    `tf.train.Saver(write_version=tf.train.SaverDef.V2)`\n",
      "W1002 07:42:17.932075 139821803878208 saver.py:1138] now on by default.\n",
      "W1002 07:42:17.932986 139821803878208 saver.py:1139] *******************************************************\n"
     ]
    },
    {
     "name": "stdout",
     "output_type": "stream",
     "text": [
      "Epoch: 0, Step: 300, Loss: 8.39189\n",
      "Epoch: 0, Step: 310, Loss: 8.29301\n",
      "Epoch: 0, Step: 320, Loss: 8.20285\n",
      "Epoch: 0, Step: 330, Loss: 8.10102\n",
      "Epoch: 0, Step: 340, Loss: 8.01667\n",
      "Epoch: 0, Step: 350, Loss: 7.91891\n",
      "Epoch: 0, Step: 360, Loss: 7.84232\n",
      "Epoch: 0, Step: 370, Loss: 7.75648\n",
      "Epoch: 0, Step: 380, Loss: 7.68949\n",
      "Epoch: 0, Step: 390, Loss: 7.57115\n"
     ]
    },
    {
     "name": "stderr",
     "output_type": "stream",
     "text": [
      "W1002 07:44:05.512534 139821803878208 saver.py:1134] *******************************************************\n",
      "W1002 07:44:05.514303 139821803878208 saver.py:1135] TensorFlow's V1 checkpoint format has been deprecated.\n",
      "W1002 07:44:05.515057 139821803878208 saver.py:1136] Consider switching to the more efficient V2 format:\n",
      "W1002 07:44:05.515799 139821803878208 saver.py:1137]    `tf.train.Saver(write_version=tf.train.SaverDef.V2)`\n",
      "W1002 07:44:05.516562 139821803878208 saver.py:1138] now on by default.\n",
      "W1002 07:44:05.517459 139821803878208 saver.py:1139] *******************************************************\n"
     ]
    },
    {
     "name": "stdout",
     "output_type": "stream",
     "text": [
      "Epoch: 0, Step: 400, Loss: 7.48696\n",
      "Epoch: 0, Step: 410, Loss: 7.40593\n",
      "Epoch: 0, Step: 420, Loss: 7.34206\n",
      "Epoch: 0, Step: 430, Loss: 7.24353\n",
      "Epoch: 0, Step: 440, Loss: 7.18192\n",
      "Epoch: 0, Step: 450, Loss: 7.09761\n",
      "Model saved in file: ./save/model2.ckpt\n"
     ]
    },
    {
     "name": "stderr",
     "output_type": "stream",
     "text": [
      "W1002 07:45:00.095080 139821803878208 saver.py:1134] *******************************************************\n",
      "W1002 07:45:00.096123 139821803878208 saver.py:1135] TensorFlow's V1 checkpoint format has been deprecated.\n",
      "W1002 07:45:00.096880 139821803878208 saver.py:1136] Consider switching to the more efficient V2 format:\n",
      "W1002 07:45:00.097652 139821803878208 saver.py:1137]    `tf.train.Saver(write_version=tf.train.SaverDef.V2)`\n",
      "W1002 07:45:00.098338 139821803878208 saver.py:1138] now on by default.\n",
      "W1002 07:45:00.099009 139821803878208 saver.py:1139] *******************************************************\n"
     ]
    },
    {
     "name": "stdout",
     "output_type": "stream",
     "text": [
      "Epoch: 1, Step: 100, Loss: 7.06753\n",
      "Epoch: 1, Step: 110, Loss: 6.99927\n",
      "Epoch: 1, Step: 120, Loss: 6.89817\n",
      "Epoch: 1, Step: 130, Loss: 6.82387\n",
      "Epoch: 1, Step: 140, Loss: 6.7692\n",
      "Epoch: 1, Step: 150, Loss: 6.69997\n",
      "Epoch: 1, Step: 160, Loss: 6.62127\n",
      "Epoch: 1, Step: 170, Loss: 6.54765\n",
      "Epoch: 1, Step: 180, Loss: 6.47589\n",
      "Epoch: 1, Step: 190, Loss: 6.41108\n"
     ]
    },
    {
     "name": "stderr",
     "output_type": "stream",
     "text": [
      "W1002 07:46:37.476178 139821803878208 saver.py:1134] *******************************************************\n",
      "W1002 07:46:37.477712 139821803878208 saver.py:1135] TensorFlow's V1 checkpoint format has been deprecated.\n",
      "W1002 07:46:37.478523 139821803878208 saver.py:1136] Consider switching to the more efficient V2 format:\n",
      "W1002 07:46:37.479683 139821803878208 saver.py:1137]    `tf.train.Saver(write_version=tf.train.SaverDef.V2)`\n",
      "W1002 07:46:37.480388 139821803878208 saver.py:1138] now on by default.\n",
      "W1002 07:46:37.481241 139821803878208 saver.py:1139] *******************************************************\n"
     ]
    },
    {
     "name": "stdout",
     "output_type": "stream",
     "text": [
      "Epoch: 1, Step: 200, Loss: 6.35364\n",
      "Epoch: 1, Step: 210, Loss: 6.34284\n",
      "Epoch: 1, Step: 220, Loss: 6.54062\n",
      "Epoch: 1, Step: 230, Loss: 11.5754\n",
      "Epoch: 1, Step: 240, Loss: 6.10346\n",
      "Epoch: 1, Step: 250, Loss: 6.01931\n",
      "Epoch: 1, Step: 260, Loss: 5.97444\n",
      "Epoch: 1, Step: 270, Loss: 5.9312\n",
      "Epoch: 1, Step: 280, Loss: 5.88126\n",
      "Epoch: 1, Step: 290, Loss: 5.7893\n"
     ]
    },
    {
     "name": "stderr",
     "output_type": "stream",
     "text": [
      "W1002 07:48:14.805385 139821803878208 saver.py:1134] *******************************************************\n",
      "W1002 07:48:14.806726 139821803878208 saver.py:1135] TensorFlow's V1 checkpoint format has been deprecated.\n",
      "W1002 07:48:14.807552 139821803878208 saver.py:1136] Consider switching to the more efficient V2 format:\n",
      "W1002 07:48:14.808399 139821803878208 saver.py:1137]    `tf.train.Saver(write_version=tf.train.SaverDef.V2)`\n",
      "W1002 07:48:14.809333 139821803878208 saver.py:1138] now on by default.\n",
      "W1002 07:48:14.810487 139821803878208 saver.py:1139] *******************************************************\n"
     ]
    },
    {
     "name": "stdout",
     "output_type": "stream",
     "text": [
      "Epoch: 1, Step: 300, Loss: 5.90973\n",
      "Epoch: 1, Step: 310, Loss: 5.70381\n",
      "Epoch: 1, Step: 320, Loss: 5.61239\n",
      "Epoch: 1, Step: 330, Loss: 5.58878\n",
      "Epoch: 1, Step: 340, Loss: 5.53009\n",
      "Epoch: 1, Step: 350, Loss: 5.45225\n",
      "Epoch: 1, Step: 360, Loss: 5.4415\n",
      "Epoch: 1, Step: 370, Loss: 5.38583\n",
      "Epoch: 1, Step: 380, Loss: 5.39057\n",
      "Epoch: 1, Step: 390, Loss: 5.46831\n"
     ]
    },
    {
     "name": "stderr",
     "output_type": "stream",
     "text": [
      "W1002 07:49:54.042709 139821803878208 saver.py:1134] *******************************************************\n",
      "W1002 07:49:54.043761 139821803878208 saver.py:1135] TensorFlow's V1 checkpoint format has been deprecated.\n",
      "W1002 07:49:54.045621 139821803878208 saver.py:1136] Consider switching to the more efficient V2 format:\n",
      "W1002 07:49:54.046609 139821803878208 saver.py:1137]    `tf.train.Saver(write_version=tf.train.SaverDef.V2)`\n",
      "W1002 07:49:54.047773 139821803878208 saver.py:1138] now on by default.\n",
      "W1002 07:49:54.048809 139821803878208 saver.py:1139] *******************************************************\n"
     ]
    },
    {
     "name": "stdout",
     "output_type": "stream",
     "text": [
      "Epoch: 1, Step: 400, Loss: 5.26862\n",
      "Epoch: 1, Step: 410, Loss: 5.15768\n",
      "Epoch: 1, Step: 420, Loss: 5.10902\n",
      "Epoch: 1, Step: 430, Loss: 5.06488\n",
      "Epoch: 1, Step: 440, Loss: 5.01432\n",
      "Epoch: 1, Step: 450, Loss: 4.96946\n",
      "Epoch: 1, Step: 460, Loss: 4.92563\n",
      "Epoch: 1, Step: 470, Loss: 4.88235\n",
      "Epoch: 1, Step: 480, Loss: 4.8437\n",
      "Epoch: 1, Step: 490, Loss: 4.82404\n"
     ]
    },
    {
     "name": "stderr",
     "output_type": "stream",
     "text": [
      "W1002 07:51:31.171171 139821803878208 saver.py:1134] *******************************************************\n",
      "W1002 07:51:31.172623 139821803878208 saver.py:1135] TensorFlow's V1 checkpoint format has been deprecated.\n",
      "W1002 07:51:31.173670 139821803878208 saver.py:1136] Consider switching to the more efficient V2 format:\n",
      "W1002 07:51:31.174496 139821803878208 saver.py:1137]    `tf.train.Saver(write_version=tf.train.SaverDef.V2)`\n",
      "W1002 07:51:31.175848 139821803878208 saver.py:1138] now on by default.\n",
      "W1002 07:51:31.177377 139821803878208 saver.py:1139] *******************************************************\n"
     ]
    },
    {
     "name": "stdout",
     "output_type": "stream",
     "text": [
      "Epoch: 1, Step: 500, Loss: 4.77796\n",
      "Epoch: 1, Step: 510, Loss: 4.727\n",
      "Epoch: 1, Step: 520, Loss: 4.68684\n",
      "Epoch: 1, Step: 530, Loss: 4.76732\n",
      "Epoch: 1, Step: 540, Loss: 4.64881\n",
      "Epoch: 1, Step: 550, Loss: 5.00944\n",
      "Model saved in file: ./save/model2.ckpt\n"
     ]
    },
    {
     "name": "stderr",
     "output_type": "stream",
     "text": [
      "W1002 07:52:25.664235 139821803878208 saver.py:1134] *******************************************************\n",
      "W1002 07:52:25.665357 139821803878208 saver.py:1135] TensorFlow's V1 checkpoint format has been deprecated.\n",
      "W1002 07:52:25.666144 139821803878208 saver.py:1136] Consider switching to the more efficient V2 format:\n",
      "W1002 07:52:25.666899 139821803878208 saver.py:1137]    `tf.train.Saver(write_version=tf.train.SaverDef.V2)`\n",
      "W1002 07:52:25.667631 139821803878208 saver.py:1138] now on by default.\n",
      "W1002 07:52:25.668402 139821803878208 saver.py:1139] *******************************************************\n"
     ]
    },
    {
     "name": "stdout",
     "output_type": "stream",
     "text": [
      "Epoch: 2, Step: 200, Loss: 5.16493\n",
      "Epoch: 2, Step: 210, Loss: 4.68518\n",
      "Epoch: 2, Step: 220, Loss: 4.50161\n",
      "Epoch: 2, Step: 230, Loss: 4.44681\n",
      "Epoch: 2, Step: 240, Loss: 4.40056\n",
      "Epoch: 2, Step: 250, Loss: 4.45969\n",
      "Epoch: 2, Step: 260, Loss: 5.35565\n",
      "Epoch: 2, Step: 270, Loss: 5.53925\n",
      "Epoch: 2, Step: 280, Loss: 4.297\n",
      "Epoch: 2, Step: 290, Loss: 4.29041\n"
     ]
    },
    {
     "name": "stderr",
     "output_type": "stream",
     "text": [
      "W1002 07:54:01.656692 139821803878208 saver.py:1134] *******************************************************\n",
      "W1002 07:54:01.657829 139821803878208 saver.py:1135] TensorFlow's V1 checkpoint format has been deprecated.\n",
      "W1002 07:54:01.658972 139821803878208 saver.py:1136] Consider switching to the more efficient V2 format:\n",
      "W1002 07:54:01.659847 139821803878208 saver.py:1137]    `tf.train.Saver(write_version=tf.train.SaverDef.V2)`\n",
      "W1002 07:54:01.660672 139821803878208 saver.py:1138] now on by default.\n",
      "W1002 07:54:01.662032 139821803878208 saver.py:1139] *******************************************************\n"
     ]
    },
    {
     "name": "stdout",
     "output_type": "stream",
     "text": [
      "Epoch: 2, Step: 300, Loss: 4.18173\n",
      "Epoch: 2, Step: 310, Loss: 4.15962\n",
      "Epoch: 2, Step: 320, Loss: 4.12406\n",
      "Epoch: 2, Step: 330, Loss: 4.09857\n",
      "Epoch: 2, Step: 340, Loss: 4.06444\n",
      "Epoch: 2, Step: 350, Loss: 4.05831\n",
      "Epoch: 2, Step: 360, Loss: 4.00586\n",
      "Epoch: 2, Step: 370, Loss: 4.04715\n",
      "Epoch: 2, Step: 380, Loss: 4.37114\n",
      "Epoch: 2, Step: 390, Loss: 4.18323\n"
     ]
    },
    {
     "name": "stderr",
     "output_type": "stream",
     "text": [
      "W1002 07:55:39.258644 139821803878208 saver.py:1134] *******************************************************\n",
      "W1002 07:55:39.259745 139821803878208 saver.py:1135] TensorFlow's V1 checkpoint format has been deprecated.\n",
      "W1002 07:55:39.261218 139821803878208 saver.py:1136] Consider switching to the more efficient V2 format:\n",
      "W1002 07:55:39.262412 139821803878208 saver.py:1137]    `tf.train.Saver(write_version=tf.train.SaverDef.V2)`\n",
      "W1002 07:55:39.263572 139821803878208 saver.py:1138] now on by default.\n",
      "W1002 07:55:39.264728 139821803878208 saver.py:1139] *******************************************************\n"
     ]
    },
    {
     "name": "stdout",
     "output_type": "stream",
     "text": [
      "Epoch: 2, Step: 400, Loss: 4.11092\n",
      "Epoch: 2, Step: 410, Loss: 3.88663\n",
      "Epoch: 2, Step: 420, Loss: 3.81789\n",
      "Epoch: 2, Step: 430, Loss: 3.79456\n",
      "Epoch: 2, Step: 440, Loss: 3.76334\n",
      "Epoch: 2, Step: 450, Loss: 3.81374\n",
      "Epoch: 2, Step: 460, Loss: 9.34663\n",
      "Epoch: 2, Step: 470, Loss: 3.88559\n",
      "Epoch: 2, Step: 480, Loss: 3.67853\n",
      "Epoch: 2, Step: 490, Loss: 3.63863\n"
     ]
    },
    {
     "name": "stderr",
     "output_type": "stream",
     "text": [
      "W1002 07:57:15.012974 139821803878208 saver.py:1134] *******************************************************\n",
      "W1002 07:57:15.014531 139821803878208 saver.py:1135] TensorFlow's V1 checkpoint format has been deprecated.\n",
      "W1002 07:57:15.015385 139821803878208 saver.py:1136] Consider switching to the more efficient V2 format:\n",
      "W1002 07:57:15.016209 139821803878208 saver.py:1137]    `tf.train.Saver(write_version=tf.train.SaverDef.V2)`\n",
      "W1002 07:57:15.018075 139821803878208 saver.py:1138] now on by default.\n",
      "W1002 07:57:15.019118 139821803878208 saver.py:1139] *******************************************************\n"
     ]
    },
    {
     "name": "stdout",
     "output_type": "stream",
     "text": [
      "Epoch: 2, Step: 500, Loss: 3.61861\n",
      "Epoch: 2, Step: 510, Loss: 3.60005\n",
      "Epoch: 2, Step: 520, Loss: 3.56956\n",
      "Epoch: 2, Step: 530, Loss: 3.56482\n",
      "Epoch: 2, Step: 540, Loss: 3.52078\n",
      "Epoch: 2, Step: 550, Loss: 3.49181\n",
      "Epoch: 2, Step: 560, Loss: 3.47504\n",
      "Epoch: 2, Step: 570, Loss: 3.45804\n",
      "Epoch: 2, Step: 580, Loss: 3.4329\n",
      "Epoch: 2, Step: 590, Loss: 3.43087\n"
     ]
    },
    {
     "name": "stderr",
     "output_type": "stream",
     "text": [
      "W1002 07:58:50.045236 139821803878208 saver.py:1134] *******************************************************\n",
      "W1002 07:58:50.046278 139821803878208 saver.py:1135] TensorFlow's V1 checkpoint format has been deprecated.\n",
      "W1002 07:58:50.047037 139821803878208 saver.py:1136] Consider switching to the more efficient V2 format:\n",
      "W1002 07:58:50.047885 139821803878208 saver.py:1137]    `tf.train.Saver(write_version=tf.train.SaverDef.V2)`\n",
      "W1002 07:58:50.048708 139821803878208 saver.py:1138] now on by default.\n",
      "W1002 07:58:50.049612 139821803878208 saver.py:1139] *******************************************************\n"
     ]
    },
    {
     "name": "stdout",
     "output_type": "stream",
     "text": [
      "Epoch: 2, Step: 600, Loss: 3.39458\n",
      "Epoch: 2, Step: 610, Loss: 3.35747\n",
      "Epoch: 2, Step: 620, Loss: 3.33527\n",
      "Epoch: 2, Step: 630, Loss: 3.31778\n",
      "Epoch: 2, Step: 640, Loss: 3.29792\n",
      "Epoch: 2, Step: 650, Loss: 3.27892\n",
      "Model saved in file: ./save/model2.ckpt\n"
     ]
    },
    {
     "name": "stderr",
     "output_type": "stream",
     "text": [
      "W1002 07:59:42.744402 139821803878208 saver.py:1134] *******************************************************\n",
      "W1002 07:59:42.745649 139821803878208 saver.py:1135] TensorFlow's V1 checkpoint format has been deprecated.\n",
      "W1002 07:59:42.746496 139821803878208 saver.py:1136] Consider switching to the more efficient V2 format:\n",
      "W1002 07:59:42.747364 139821803878208 saver.py:1137]    `tf.train.Saver(write_version=tf.train.SaverDef.V2)`\n",
      "W1002 07:59:42.748199 139821803878208 saver.py:1138] now on by default.\n",
      "W1002 07:59:42.749143 139821803878208 saver.py:1139] *******************************************************\n"
     ]
    },
    {
     "name": "stdout",
     "output_type": "stream",
     "text": [
      "Epoch: 3, Step: 300, Loss: 3.27684\n",
      "Epoch: 3, Step: 310, Loss: 3.28114\n",
      "Epoch: 3, Step: 320, Loss: 3.26613\n",
      "Epoch: 3, Step: 330, Loss: 3.22274\n",
      "Epoch: 3, Step: 340, Loss: 3.19491\n",
      "Epoch: 3, Step: 350, Loss: 3.18036\n",
      "Epoch: 3, Step: 360, Loss: 3.16463\n",
      "Epoch: 3, Step: 370, Loss: 3.15589\n",
      "Epoch: 3, Step: 380, Loss: 3.17757\n",
      "Epoch: 3, Step: 390, Loss: 3.16316\n"
     ]
    },
    {
     "name": "stderr",
     "output_type": "stream",
     "text": [
      "W1002 08:01:20.020985 139821803878208 saver.py:1134] *******************************************************\n",
      "W1002 08:01:20.022026 139821803878208 saver.py:1135] TensorFlow's V1 checkpoint format has been deprecated.\n",
      "W1002 08:01:20.022799 139821803878208 saver.py:1136] Consider switching to the more efficient V2 format:\n",
      "W1002 08:01:20.023534 139821803878208 saver.py:1137]    `tf.train.Saver(write_version=tf.train.SaverDef.V2)`\n",
      "W1002 08:01:20.024241 139821803878208 saver.py:1138] now on by default.\n",
      "W1002 08:01:20.024987 139821803878208 saver.py:1139] *******************************************************\n"
     ]
    },
    {
     "name": "stdout",
     "output_type": "stream",
     "text": [
      "Epoch: 3, Step: 400, Loss: 3.25337\n",
      "Epoch: 3, Step: 410, Loss: 5.60326\n",
      "Epoch: 3, Step: 420, Loss: 7.72379\n",
      "Epoch: 3, Step: 430, Loss: 3.03538\n",
      "Epoch: 3, Step: 440, Loss: 3.02621\n",
      "Epoch: 3, Step: 450, Loss: 3.01901\n",
      "Epoch: 3, Step: 460, Loss: 2.99249\n",
      "Epoch: 3, Step: 470, Loss: 2.97269\n",
      "Epoch: 3, Step: 480, Loss: 2.98468\n",
      "Epoch: 3, Step: 490, Loss: 3.02481\n"
     ]
    },
    {
     "name": "stderr",
     "output_type": "stream",
     "text": [
      "W1002 08:02:56.183811 139821803878208 saver.py:1134] *******************************************************\n",
      "W1002 08:02:56.184788 139821803878208 saver.py:1135] TensorFlow's V1 checkpoint format has been deprecated.\n",
      "W1002 08:02:56.185632 139821803878208 saver.py:1136] Consider switching to the more efficient V2 format:\n",
      "W1002 08:02:56.187003 139821803878208 saver.py:1137]    `tf.train.Saver(write_version=tf.train.SaverDef.V2)`\n",
      "W1002 08:02:56.187815 139821803878208 saver.py:1138] now on by default.\n",
      "W1002 08:02:56.188717 139821803878208 saver.py:1139] *******************************************************\n"
     ]
    },
    {
     "name": "stdout",
     "output_type": "stream",
     "text": [
      "Epoch: 3, Step: 500, Loss: 2.91931\n",
      "Epoch: 3, Step: 510, Loss: 2.90434\n",
      "Epoch: 3, Step: 520, Loss: 2.93143\n",
      "Epoch: 3, Step: 530, Loss: 2.87271\n",
      "Epoch: 3, Step: 540, Loss: 2.85987\n",
      "Epoch: 3, Step: 550, Loss: 2.99658\n",
      "Epoch: 3, Step: 560, Loss: 3.00716\n",
      "Epoch: 3, Step: 570, Loss: 2.87593\n",
      "Epoch: 3, Step: 580, Loss: 2.93266\n",
      "Epoch: 3, Step: 590, Loss: 2.80598\n"
     ]
    },
    {
     "name": "stderr",
     "output_type": "stream",
     "text": [
      "W1002 08:04:31.326506 139821803878208 saver.py:1134] *******************************************************\n",
      "W1002 08:04:31.327684 139821803878208 saver.py:1135] TensorFlow's V1 checkpoint format has been deprecated.\n",
      "W1002 08:04:31.328668 139821803878208 saver.py:1136] Consider switching to the more efficient V2 format:\n",
      "W1002 08:04:31.329812 139821803878208 saver.py:1137]    `tf.train.Saver(write_version=tf.train.SaverDef.V2)`\n",
      "W1002 08:04:31.330922 139821803878208 saver.py:1138] now on by default.\n",
      "W1002 08:04:31.332020 139821803878208 saver.py:1139] *******************************************************\n"
     ]
    },
    {
     "name": "stdout",
     "output_type": "stream",
     "text": [
      "Epoch: 3, Step: 600, Loss: 2.78588\n",
      "Epoch: 3, Step: 610, Loss: 2.7608\n",
      "Epoch: 3, Step: 620, Loss: 2.74484\n",
      "Epoch: 3, Step: 630, Loss: 2.73311\n",
      "Epoch: 3, Step: 640, Loss: 2.72127\n",
      "Epoch: 3, Step: 650, Loss: 2.74666\n",
      "Epoch: 3, Step: 660, Loss: 2.70358\n",
      "Epoch: 3, Step: 670, Loss: 2.6771\n",
      "Epoch: 3, Step: 680, Loss: 2.65867\n",
      "Epoch: 3, Step: 690, Loss: 2.64824\n"
     ]
    },
    {
     "name": "stderr",
     "output_type": "stream",
     "text": [
      "W1002 08:06:07.614475 139821803878208 saver.py:1134] *******************************************************\n",
      "W1002 08:06:07.615475 139821803878208 saver.py:1135] TensorFlow's V1 checkpoint format has been deprecated.\n",
      "W1002 08:06:07.616752 139821803878208 saver.py:1136] Consider switching to the more efficient V2 format:\n",
      "W1002 08:06:07.617558 139821803878208 saver.py:1137]    `tf.train.Saver(write_version=tf.train.SaverDef.V2)`\n",
      "W1002 08:06:07.618326 139821803878208 saver.py:1138] now on by default.\n",
      "W1002 08:06:07.619928 139821803878208 saver.py:1139] *******************************************************\n"
     ]
    },
    {
     "name": "stdout",
     "output_type": "stream",
     "text": [
      "Epoch: 3, Step: 700, Loss: 2.66655\n",
      "Epoch: 3, Step: 710, Loss: 2.62357\n",
      "Epoch: 3, Step: 720, Loss: 2.61328\n",
      "Epoch: 3, Step: 730, Loss: 2.66273\n",
      "Epoch: 3, Step: 740, Loss: 2.80773\n",
      "Epoch: 3, Step: 750, Loss: 2.7842\n",
      "Model saved in file: ./save/model2.ckpt\n"
     ]
    },
    {
     "name": "stderr",
     "output_type": "stream",
     "text": [
      "W1002 08:07:00.924251 139821803878208 saver.py:1134] *******************************************************\n",
      "W1002 08:07:00.925429 139821803878208 saver.py:1135] TensorFlow's V1 checkpoint format has been deprecated.\n",
      "W1002 08:07:00.926190 139821803878208 saver.py:1136] Consider switching to the more efficient V2 format:\n",
      "W1002 08:07:00.927759 139821803878208 saver.py:1137]    `tf.train.Saver(write_version=tf.train.SaverDef.V2)`\n",
      "W1002 08:07:00.928651 139821803878208 saver.py:1138] now on by default.\n",
      "W1002 08:07:00.929663 139821803878208 saver.py:1139] *******************************************************\n"
     ]
    },
    {
     "name": "stdout",
     "output_type": "stream",
     "text": [
      "Epoch: 4, Step: 400, Loss: 2.63386\n",
      "Epoch: 4, Step: 410, Loss: 2.58693\n",
      "Epoch: 4, Step: 420, Loss: 2.96135\n",
      "Epoch: 4, Step: 430, Loss: 2.6289\n",
      "Epoch: 4, Step: 440, Loss: 2.59592\n",
      "Epoch: 4, Step: 450, Loss: 3.35329\n",
      "Epoch: 4, Step: 460, Loss: 3.22025\n",
      "Epoch: 4, Step: 470, Loss: 2.53002\n",
      "Epoch: 4, Step: 480, Loss: 2.50022\n",
      "Epoch: 4, Step: 490, Loss: 2.48639\n"
     ]
    },
    {
     "name": "stderr",
     "output_type": "stream",
     "text": [
      "W1002 08:08:37.411432 139821803878208 saver.py:1134] *******************************************************\n",
      "W1002 08:08:37.412651 139821803878208 saver.py:1135] TensorFlow's V1 checkpoint format has been deprecated.\n",
      "W1002 08:08:37.413670 139821803878208 saver.py:1136] Consider switching to the more efficient V2 format:\n",
      "W1002 08:08:37.414751 139821803878208 saver.py:1137]    `tf.train.Saver(write_version=tf.train.SaverDef.V2)`\n",
      "W1002 08:08:37.415818 139821803878208 saver.py:1138] now on by default.\n",
      "W1002 08:08:37.416863 139821803878208 saver.py:1139] *******************************************************\n"
     ]
    },
    {
     "name": "stdout",
     "output_type": "stream",
     "text": [
      "Epoch: 4, Step: 500, Loss: 2.48112\n",
      "Epoch: 4, Step: 510, Loss: 2.46083\n",
      "Epoch: 4, Step: 520, Loss: 2.44645\n",
      "Epoch: 4, Step: 530, Loss: 2.49446\n",
      "Epoch: 4, Step: 540, Loss: 2.42738\n",
      "Epoch: 4, Step: 550, Loss: 2.42869\n",
      "Epoch: 4, Step: 560, Loss: 2.53682\n",
      "Epoch: 4, Step: 570, Loss: 2.82143\n",
      "Epoch: 4, Step: 580, Loss: 2.65152\n",
      "Epoch: 4, Step: 590, Loss: 2.37791\n"
     ]
    },
    {
     "name": "stderr",
     "output_type": "stream",
     "text": [
      "W1002 08:10:13.286422 139821803878208 saver.py:1134] *******************************************************\n",
      "W1002 08:10:13.287813 139821803878208 saver.py:1135] TensorFlow's V1 checkpoint format has been deprecated.\n",
      "W1002 08:10:13.288572 139821803878208 saver.py:1136] Consider switching to the more efficient V2 format:\n",
      "W1002 08:10:13.289401 139821803878208 saver.py:1137]    `tf.train.Saver(write_version=tf.train.SaverDef.V2)`\n",
      "W1002 08:10:13.290102 139821803878208 saver.py:1138] now on by default.\n",
      "W1002 08:10:13.290869 139821803878208 saver.py:1139] *******************************************************\n"
     ]
    },
    {
     "name": "stdout",
     "output_type": "stream",
     "text": [
      "Epoch: 4, Step: 600, Loss: 2.35816\n",
      "Epoch: 4, Step: 610, Loss: 2.34894\n",
      "Epoch: 4, Step: 620, Loss: 2.33967\n",
      "Epoch: 4, Step: 630, Loss: 2.33767\n",
      "Epoch: 4, Step: 640, Loss: 2.80196\n",
      "Epoch: 4, Step: 650, Loss: 7.30387\n",
      "Epoch: 4, Step: 660, Loss: 2.33598\n",
      "Epoch: 4, Step: 670, Loss: 2.32852\n",
      "Epoch: 4, Step: 680, Loss: 2.31322\n",
      "Epoch: 4, Step: 690, Loss: 2.30904\n"
     ]
    },
    {
     "name": "stderr",
     "output_type": "stream",
     "text": [
      "W1002 08:11:49.505174 139821803878208 saver.py:1134] *******************************************************\n",
      "W1002 08:11:49.506242 139821803878208 saver.py:1135] TensorFlow's V1 checkpoint format has been deprecated.\n",
      "W1002 08:11:49.507133 139821803878208 saver.py:1136] Consider switching to the more efficient V2 format:\n",
      "W1002 08:11:49.507997 139821803878208 saver.py:1137]    `tf.train.Saver(write_version=tf.train.SaverDef.V2)`\n",
      "W1002 08:11:49.508886 139821803878208 saver.py:1138] now on by default.\n",
      "W1002 08:11:49.509957 139821803878208 saver.py:1139] *******************************************************\n"
     ]
    },
    {
     "name": "stdout",
     "output_type": "stream",
     "text": [
      "Epoch: 4, Step: 700, Loss: 2.32693\n",
      "Epoch: 4, Step: 710, Loss: 2.31358\n",
      "Epoch: 4, Step: 720, Loss: 2.34111\n",
      "Epoch: 4, Step: 730, Loss: 2.27125\n",
      "Epoch: 4, Step: 740, Loss: 2.35362\n",
      "Epoch: 4, Step: 750, Loss: 2.34448\n",
      "Epoch: 4, Step: 760, Loss: 2.46813\n",
      "Epoch: 4, Step: 770, Loss: 2.2923\n",
      "Epoch: 4, Step: 780, Loss: 2.84606\n",
      "Epoch: 4, Step: 790, Loss: 2.59354\n"
     ]
    },
    {
     "name": "stderr",
     "output_type": "stream",
     "text": [
      "W1002 08:13:27.048310 139821803878208 saver.py:1134] *******************************************************\n",
      "W1002 08:13:27.049382 139821803878208 saver.py:1135] TensorFlow's V1 checkpoint format has been deprecated.\n",
      "W1002 08:13:27.050431 139821803878208 saver.py:1136] Consider switching to the more efficient V2 format:\n",
      "W1002 08:13:27.051505 139821803878208 saver.py:1137]    `tf.train.Saver(write_version=tf.train.SaverDef.V2)`\n",
      "W1002 08:13:27.052572 139821803878208 saver.py:1138] now on by default.\n",
      "W1002 08:13:27.054777 139821803878208 saver.py:1139] *******************************************************\n"
     ]
    },
    {
     "name": "stdout",
     "output_type": "stream",
     "text": [
      "Epoch: 4, Step: 800, Loss: 2.21967\n",
      "Epoch: 4, Step: 810, Loss: 2.23588\n",
      "Epoch: 4, Step: 820, Loss: 2.19338\n",
      "Epoch: 4, Step: 830, Loss: 2.19058\n",
      "Epoch: 4, Step: 840, Loss: 2.17961\n",
      "Epoch: 4, Step: 850, Loss: 2.21181\n",
      "Model saved in file: ./save/model2.ckpt\n"
     ]
    },
    {
     "name": "stderr",
     "output_type": "stream",
     "text": [
      "W1002 08:14:18.992275 139821803878208 saver.py:1134] *******************************************************\n",
      "W1002 08:14:18.993556 139821803878208 saver.py:1135] TensorFlow's V1 checkpoint format has been deprecated.\n",
      "W1002 08:14:18.994533 139821803878208 saver.py:1136] Consider switching to the more efficient V2 format:\n",
      "W1002 08:14:18.995289 139821803878208 saver.py:1137]    `tf.train.Saver(write_version=tf.train.SaverDef.V2)`\n",
      "W1002 08:14:18.996038 139821803878208 saver.py:1138] now on by default.\n",
      "W1002 08:14:18.996870 139821803878208 saver.py:1139] *******************************************************\n"
     ]
    },
    {
     "name": "stdout",
     "output_type": "stream",
     "text": [
      "Epoch: 5, Step: 500, Loss: 2.18381\n",
      "Epoch: 5, Step: 510, Loss: 2.15899\n",
      "Epoch: 5, Step: 520, Loss: 2.13322\n",
      "Epoch: 5, Step: 530, Loss: 2.11873\n",
      "Epoch: 5, Step: 540, Loss: 2.11362\n",
      "Epoch: 5, Step: 550, Loss: 2.11549\n",
      "Epoch: 5, Step: 560, Loss: 2.09543\n",
      "Epoch: 5, Step: 570, Loss: 2.08606\n",
      "Epoch: 5, Step: 580, Loss: 2.08591\n",
      "Epoch: 5, Step: 590, Loss: 2.13782\n"
     ]
    },
    {
     "name": "stderr",
     "output_type": "stream",
     "text": [
      "W1002 08:15:53.559806 139821803878208 saver.py:1134] *******************************************************\n",
      "W1002 08:15:53.560773 139821803878208 saver.py:1135] TensorFlow's V1 checkpoint format has been deprecated.\n",
      "W1002 08:15:53.561619 139821803878208 saver.py:1136] Consider switching to the more efficient V2 format:\n",
      "W1002 08:15:53.563135 139821803878208 saver.py:1137]    `tf.train.Saver(write_version=tf.train.SaverDef.V2)`\n",
      "W1002 08:15:53.564320 139821803878208 saver.py:1138] now on by default.\n",
      "W1002 08:15:53.565438 139821803878208 saver.py:1139] *******************************************************\n"
     ]
    },
    {
     "name": "stdout",
     "output_type": "stream",
     "text": [
      "Epoch: 5, Step: 600, Loss: 4.74614\n",
      "Epoch: 5, Step: 610, Loss: 4.96917\n",
      "Epoch: 5, Step: 620, Loss: 2.05398\n",
      "Epoch: 5, Step: 630, Loss: 2.04391\n",
      "Epoch: 5, Step: 640, Loss: 2.07867\n",
      "Epoch: 5, Step: 650, Loss: 2.07015\n",
      "Epoch: 5, Step: 660, Loss: 2.05752\n",
      "Epoch: 5, Step: 670, Loss: 2.02363\n",
      "Epoch: 5, Step: 680, Loss: 2.11445\n",
      "Epoch: 5, Step: 690, Loss: 2.01713\n"
     ]
    },
    {
     "name": "stderr",
     "output_type": "stream",
     "text": [
      "W1002 08:17:29.247059 139821803878208 saver.py:1134] *******************************************************\n",
      "W1002 08:17:29.248127 139821803878208 saver.py:1135] TensorFlow's V1 checkpoint format has been deprecated.\n",
      "W1002 08:17:29.249057 139821803878208 saver.py:1136] Consider switching to the more efficient V2 format:\n",
      "W1002 08:17:29.249949 139821803878208 saver.py:1137]    `tf.train.Saver(write_version=tf.train.SaverDef.V2)`\n",
      "W1002 08:17:29.250856 139821803878208 saver.py:1138] now on by default.\n",
      "W1002 08:17:29.252014 139821803878208 saver.py:1139] *******************************************************\n"
     ]
    },
    {
     "name": "stdout",
     "output_type": "stream",
     "text": [
      "Epoch: 5, Step: 700, Loss: 2.00108\n",
      "Epoch: 5, Step: 710, Loss: 2.00679\n",
      "Epoch: 5, Step: 720, Loss: 2.06502\n",
      "Epoch: 5, Step: 730, Loss: 2.08049\n",
      "Epoch: 5, Step: 740, Loss: 1.9804\n",
      "Epoch: 5, Step: 750, Loss: 1.98541\n",
      "Epoch: 5, Step: 760, Loss: 1.99634\n",
      "Epoch: 5, Step: 770, Loss: 1.95007\n",
      "Epoch: 5, Step: 780, Loss: 1.94353\n",
      "Epoch: 5, Step: 790, Loss: 2.23973\n"
     ]
    },
    {
     "name": "stderr",
     "output_type": "stream",
     "text": [
      "W1002 08:19:06.695396 139821803878208 saver.py:1134] *******************************************************\n",
      "W1002 08:19:06.696633 139821803878208 saver.py:1135] TensorFlow's V1 checkpoint format has been deprecated.\n",
      "W1002 08:19:06.698090 139821803878208 saver.py:1136] Consider switching to the more efficient V2 format:\n",
      "W1002 08:19:06.699266 139821803878208 saver.py:1137]    `tf.train.Saver(write_version=tf.train.SaverDef.V2)`\n",
      "W1002 08:19:06.700414 139821803878208 saver.py:1138] now on by default.\n",
      "W1002 08:19:06.701634 139821803878208 saver.py:1139] *******************************************************\n"
     ]
    },
    {
     "name": "stdout",
     "output_type": "stream",
     "text": [
      "Epoch: 5, Step: 800, Loss: 1.94074\n",
      "Epoch: 5, Step: 810, Loss: 1.92476\n",
      "Epoch: 5, Step: 820, Loss: 1.93861\n",
      "Epoch: 5, Step: 830, Loss: 1.91007\n",
      "Epoch: 5, Step: 840, Loss: 1.94444\n",
      "Epoch: 5, Step: 850, Loss: 1.90938\n",
      "Epoch: 5, Step: 860, Loss: 1.90069\n",
      "Epoch: 5, Step: 870, Loss: 1.88619\n",
      "Epoch: 5, Step: 880, Loss: 1.88561\n",
      "Epoch: 5, Step: 890, Loss: 1.89815\n"
     ]
    },
    {
     "name": "stderr",
     "output_type": "stream",
     "text": [
      "W1002 08:20:41.610816 139821803878208 saver.py:1134] *******************************************************\n",
      "W1002 08:20:41.612175 139821803878208 saver.py:1135] TensorFlow's V1 checkpoint format has been deprecated.\n",
      "W1002 08:20:41.612996 139821803878208 saver.py:1136] Consider switching to the more efficient V2 format:\n",
      "W1002 08:20:41.613773 139821803878208 saver.py:1137]    `tf.train.Saver(write_version=tf.train.SaverDef.V2)`\n",
      "W1002 08:20:41.614549 139821803878208 saver.py:1138] now on by default.\n",
      "W1002 08:20:41.615437 139821803878208 saver.py:1139] *******************************************************\n"
     ]
    },
    {
     "name": "stdout",
     "output_type": "stream",
     "text": [
      "Epoch: 5, Step: 900, Loss: 1.87549\n",
      "Epoch: 5, Step: 910, Loss: 1.88709\n",
      "Epoch: 5, Step: 920, Loss: 1.88899\n",
      "Epoch: 5, Step: 930, Loss: 2.36479\n",
      "Epoch: 5, Step: 940, Loss: 2.34427\n",
      "Epoch: 5, Step: 950, Loss: 1.99695\n",
      "Model saved in file: ./save/model2.ckpt\n"
     ]
    },
    {
     "name": "stderr",
     "output_type": "stream",
     "text": [
      "W1002 08:21:33.193238 139821803878208 saver.py:1134] *******************************************************\n",
      "W1002 08:21:33.194288 139821803878208 saver.py:1135] TensorFlow's V1 checkpoint format has been deprecated.\n",
      "W1002 08:21:33.195121 139821803878208 saver.py:1136] Consider switching to the more efficient V2 format:\n",
      "W1002 08:21:33.195978 139821803878208 saver.py:1137]    `tf.train.Saver(write_version=tf.train.SaverDef.V2)`\n",
      "W1002 08:21:33.196800 139821803878208 saver.py:1138] now on by default.\n",
      "W1002 08:21:33.197748 139821803878208 saver.py:1139] *******************************************************\n"
     ]
    },
    {
     "name": "stdout",
     "output_type": "stream",
     "text": [
      "Epoch: 6, Step: 600, Loss: 1.872\n",
      "Epoch: 6, Step: 610, Loss: 1.84752\n",
      "Epoch: 6, Step: 620, Loss: 1.85871\n",
      "Epoch: 6, Step: 630, Loss: 2.10795\n",
      "Epoch: 6, Step: 640, Loss: 2.97188\n",
      "Epoch: 6, Step: 650, Loss: 2.40531\n",
      "Epoch: 6, Step: 660, Loss: 1.85214\n",
      "Epoch: 6, Step: 670, Loss: 1.81692\n",
      "Epoch: 6, Step: 680, Loss: 1.79859\n",
      "Epoch: 6, Step: 690, Loss: 1.8109\n"
     ]
    },
    {
     "name": "stderr",
     "output_type": "stream",
     "text": [
      "W1002 08:23:09.021684 139821803878208 saver.py:1134] *******************************************************\n",
      "W1002 08:23:09.022723 139821803878208 saver.py:1135] TensorFlow's V1 checkpoint format has been deprecated.\n",
      "W1002 08:23:09.023504 139821803878208 saver.py:1136] Consider switching to the more efficient V2 format:\n",
      "W1002 08:23:09.024290 139821803878208 saver.py:1137]    `tf.train.Saver(write_version=tf.train.SaverDef.V2)`\n",
      "W1002 08:23:09.025028 139821803878208 saver.py:1138] now on by default.\n",
      "W1002 08:23:09.025731 139821803878208 saver.py:1139] *******************************************************\n"
     ]
    },
    {
     "name": "stdout",
     "output_type": "stream",
     "text": [
      "Epoch: 6, Step: 700, Loss: 1.86641\n",
      "Epoch: 6, Step: 710, Loss: 1.96487\n",
      "Epoch: 6, Step: 720, Loss: 1.811\n",
      "Epoch: 6, Step: 730, Loss: 2.02644\n",
      "Epoch: 6, Step: 740, Loss: 2.09618\n",
      "Epoch: 6, Step: 750, Loss: 1.9097\n",
      "Epoch: 6, Step: 760, Loss: 2.06951\n",
      "Epoch: 6, Step: 770, Loss: 2.4522\n",
      "Epoch: 6, Step: 780, Loss: 1.80167\n",
      "Epoch: 6, Step: 790, Loss: 1.73431\n"
     ]
    },
    {
     "name": "stderr",
     "output_type": "stream",
     "text": [
      "W1002 08:24:46.784407 139821803878208 saver.py:1134] *******************************************************\n",
      "W1002 08:24:46.785550 139821803878208 saver.py:1135] TensorFlow's V1 checkpoint format has been deprecated.\n",
      "W1002 08:24:46.786421 139821803878208 saver.py:1136] Consider switching to the more efficient V2 format:\n",
      "W1002 08:24:46.787296 139821803878208 saver.py:1137]    `tf.train.Saver(write_version=tf.train.SaverDef.V2)`\n",
      "W1002 08:24:46.788127 139821803878208 saver.py:1138] now on by default.\n",
      "W1002 08:24:46.789134 139821803878208 saver.py:1139] *******************************************************\n"
     ]
    },
    {
     "name": "stdout",
     "output_type": "stream",
     "text": [
      "Epoch: 6, Step: 800, Loss: 2.3414\n",
      "Epoch: 6, Step: 810, Loss: 1.74124\n",
      "Epoch: 6, Step: 820, Loss: 1.79727\n",
      "Epoch: 6, Step: 830, Loss: 3.512\n",
      "Epoch: 6, Step: 840, Loss: 5.97268\n",
      "Epoch: 6, Step: 850, Loss: 1.71091\n",
      "Epoch: 6, Step: 860, Loss: 1.72787\n",
      "Epoch: 6, Step: 870, Loss: 1.72206\n",
      "Epoch: 6, Step: 880, Loss: 1.69099\n",
      "Epoch: 6, Step: 890, Loss: 1.69925\n"
     ]
    },
    {
     "name": "stderr",
     "output_type": "stream",
     "text": [
      "W1002 08:26:22.362710 139821803878208 saver.py:1134] *******************************************************\n",
      "W1002 08:26:22.363746 139821803878208 saver.py:1135] TensorFlow's V1 checkpoint format has been deprecated.\n",
      "W1002 08:26:22.364567 139821803878208 saver.py:1136] Consider switching to the more efficient V2 format:\n",
      "W1002 08:26:22.365389 139821803878208 saver.py:1137]    `tf.train.Saver(write_version=tf.train.SaverDef.V2)`\n",
      "W1002 08:26:22.366101 139821803878208 saver.py:1138] now on by default.\n",
      "W1002 08:26:22.366836 139821803878208 saver.py:1139] *******************************************************\n"
     ]
    },
    {
     "name": "stdout",
     "output_type": "stream",
     "text": [
      "Epoch: 6, Step: 900, Loss: 1.68485\n",
      "Epoch: 6, Step: 910, Loss: 1.68706\n",
      "Epoch: 6, Step: 920, Loss: 1.68162\n",
      "Epoch: 6, Step: 930, Loss: 1.69188\n",
      "Epoch: 6, Step: 940, Loss: 1.65254\n",
      "Epoch: 6, Step: 950, Loss: 1.653\n",
      "Epoch: 6, Step: 960, Loss: 1.69624\n",
      "Epoch: 6, Step: 970, Loss: 1.69238\n",
      "Epoch: 6, Step: 980, Loss: 1.64129\n",
      "Epoch: 6, Step: 990, Loss: 1.62479\n"
     ]
    },
    {
     "name": "stderr",
     "output_type": "stream",
     "text": [
      "W1002 08:27:57.342194 139821803878208 saver.py:1134] *******************************************************\n",
      "W1002 08:27:57.343357 139821803878208 saver.py:1135] TensorFlow's V1 checkpoint format has been deprecated.\n",
      "W1002 08:27:57.344271 139821803878208 saver.py:1136] Consider switching to the more efficient V2 format:\n",
      "W1002 08:27:57.345375 139821803878208 saver.py:1137]    `tf.train.Saver(write_version=tf.train.SaverDef.V2)`\n",
      "W1002 08:27:57.346436 139821803878208 saver.py:1138] now on by default.\n",
      "W1002 08:27:57.347498 139821803878208 saver.py:1139] *******************************************************\n"
     ]
    },
    {
     "name": "stdout",
     "output_type": "stream",
     "text": [
      "Epoch: 6, Step: 1000, Loss: 1.62116\n",
      "Epoch: 6, Step: 1010, Loss: 1.61648\n",
      "Epoch: 6, Step: 1020, Loss: 1.61218\n",
      "Epoch: 6, Step: 1030, Loss: 1.61139\n",
      "Epoch: 6, Step: 1040, Loss: 1.64286\n",
      "Epoch: 6, Step: 1050, Loss: 1.66435\n",
      "Model saved in file: ./save/model2.ckpt\n"
     ]
    },
    {
     "name": "stderr",
     "output_type": "stream",
     "text": [
      "W1002 08:28:49.536008 139821803878208 saver.py:1134] *******************************************************\n",
      "W1002 08:28:49.537136 139821803878208 saver.py:1135] TensorFlow's V1 checkpoint format has been deprecated.\n",
      "W1002 08:28:49.538219 139821803878208 saver.py:1136] Consider switching to the more efficient V2 format:\n",
      "W1002 08:28:49.539298 139821803878208 saver.py:1137]    `tf.train.Saver(write_version=tf.train.SaverDef.V2)`\n",
      "W1002 08:28:49.540361 139821803878208 saver.py:1138] now on by default.\n",
      "W1002 08:28:49.541524 139821803878208 saver.py:1139] *******************************************************\n"
     ]
    },
    {
     "name": "stdout",
     "output_type": "stream",
     "text": [
      "Epoch: 7, Step: 700, Loss: 1.67208\n",
      "Epoch: 7, Step: 710, Loss: 1.69048\n",
      "Epoch: 7, Step: 720, Loss: 1.68377\n",
      "Epoch: 7, Step: 730, Loss: 1.61278\n",
      "Epoch: 7, Step: 740, Loss: 1.65304\n",
      "Epoch: 7, Step: 750, Loss: 1.62524\n",
      "Epoch: 7, Step: 760, Loss: 1.56817\n",
      "Epoch: 7, Step: 770, Loss: 1.72685\n",
      "Epoch: 7, Step: 780, Loss: 1.66495\n",
      "Epoch: 7, Step: 790, Loss: 6.38615\n"
     ]
    },
    {
     "name": "stderr",
     "output_type": "stream",
     "text": [
      "W1002 08:30:26.764758 139821803878208 saver.py:1134] *******************************************************\n",
      "W1002 08:30:26.765873 139821803878208 saver.py:1135] TensorFlow's V1 checkpoint format has been deprecated.\n",
      "W1002 08:30:26.766770 139821803878208 saver.py:1136] Consider switching to the more efficient V2 format:\n",
      "W1002 08:30:26.767575 139821803878208 saver.py:1137]    `tf.train.Saver(write_version=tf.train.SaverDef.V2)`\n",
      "W1002 08:30:26.768496 139821803878208 saver.py:1138] now on by default.\n",
      "W1002 08:30:26.769437 139821803878208 saver.py:1139] *******************************************************\n"
     ]
    },
    {
     "name": "stdout",
     "output_type": "stream",
     "text": [
      "Epoch: 7, Step: 800, Loss: 3.45485\n",
      "Epoch: 7, Step: 810, Loss: 2.17367\n",
      "Epoch: 7, Step: 820, Loss: 1.56152\n",
      "Epoch: 7, Step: 830, Loss: 1.53647\n",
      "Epoch: 7, Step: 840, Loss: 1.53657\n",
      "Epoch: 7, Step: 850, Loss: 1.53928\n",
      "Epoch: 7, Step: 860, Loss: 1.62869\n",
      "Epoch: 7, Step: 870, Loss: 1.67079\n",
      "Epoch: 7, Step: 880, Loss: 1.52622\n",
      "Epoch: 7, Step: 890, Loss: 1.564\n"
     ]
    },
    {
     "name": "stderr",
     "output_type": "stream",
     "text": [
      "W1002 08:32:02.543741 139821803878208 saver.py:1134] *******************************************************\n",
      "W1002 08:32:02.544794 139821803878208 saver.py:1135] TensorFlow's V1 checkpoint format has been deprecated.\n",
      "W1002 08:32:02.545579 139821803878208 saver.py:1136] Consider switching to the more efficient V2 format:\n",
      "W1002 08:32:02.547029 139821803878208 saver.py:1137]    `tf.train.Saver(write_version=tf.train.SaverDef.V2)`\n",
      "W1002 08:32:02.547781 139821803878208 saver.py:1138] now on by default.\n",
      "W1002 08:32:02.550085 139821803878208 saver.py:1139] *******************************************************\n"
     ]
    },
    {
     "name": "stdout",
     "output_type": "stream",
     "text": [
      "Epoch: 7, Step: 900, Loss: 1.50968\n",
      "Epoch: 7, Step: 910, Loss: 1.51167\n",
      "Epoch: 7, Step: 920, Loss: 1.49622\n",
      "Epoch: 7, Step: 930, Loss: 1.50622\n",
      "Epoch: 7, Step: 940, Loss: 1.50255\n",
      "Epoch: 7, Step: 950, Loss: 1.57142\n",
      "Epoch: 7, Step: 960, Loss: 1.54383\n",
      "Epoch: 7, Step: 970, Loss: 1.49014\n",
      "Epoch: 7, Step: 980, Loss: 1.47748\n",
      "Epoch: 7, Step: 990, Loss: 1.47406\n"
     ]
    },
    {
     "name": "stderr",
     "output_type": "stream",
     "text": [
      "W1002 08:33:37.222146 139821803878208 saver.py:1134] *******************************************************\n",
      "W1002 08:33:37.223263 139821803878208 saver.py:1135] TensorFlow's V1 checkpoint format has been deprecated.\n",
      "W1002 08:33:37.224727 139821803878208 saver.py:1136] Consider switching to the more efficient V2 format:\n",
      "W1002 08:33:37.226326 139821803878208 saver.py:1137]    `tf.train.Saver(write_version=tf.train.SaverDef.V2)`\n",
      "W1002 08:33:37.227571 139821803878208 saver.py:1138] now on by default.\n",
      "W1002 08:33:37.228845 139821803878208 saver.py:1139] *******************************************************\n"
     ]
    },
    {
     "name": "stdout",
     "output_type": "stream",
     "text": [
      "Epoch: 7, Step: 1000, Loss: 1.46195\n",
      "Epoch: 7, Step: 1010, Loss: 1.45626\n",
      "Epoch: 7, Step: 1020, Loss: 1.45069\n",
      "Epoch: 7, Step: 1030, Loss: 1.44599\n",
      "Epoch: 7, Step: 1040, Loss: 1.43961\n",
      "Epoch: 7, Step: 1050, Loss: 1.4378\n",
      "Epoch: 7, Step: 1060, Loss: 1.46502\n",
      "Epoch: 7, Step: 1070, Loss: 1.52299\n",
      "Epoch: 7, Step: 1080, Loss: 1.60382\n",
      "Epoch: 7, Step: 1090, Loss: 1.45078\n"
     ]
    },
    {
     "name": "stderr",
     "output_type": "stream",
     "text": [
      "W1002 08:35:12.918662 139821803878208 saver.py:1134] *******************************************************\n",
      "W1002 08:35:12.919827 139821803878208 saver.py:1135] TensorFlow's V1 checkpoint format has been deprecated.\n",
      "W1002 08:35:12.920546 139821803878208 saver.py:1136] Consider switching to the more efficient V2 format:\n",
      "W1002 08:35:12.922069 139821803878208 saver.py:1137]    `tf.train.Saver(write_version=tf.train.SaverDef.V2)`\n",
      "W1002 08:35:12.922817 139821803878208 saver.py:1138] now on by default.\n",
      "W1002 08:35:12.923800 139821803878208 saver.py:1139] *******************************************************\n"
     ]
    },
    {
     "name": "stdout",
     "output_type": "stream",
     "text": [
      "Epoch: 7, Step: 1100, Loss: 1.49338\n",
      "Epoch: 7, Step: 1110, Loss: 1.54451\n",
      "Epoch: 7, Step: 1120, Loss: 1.57312\n",
      "Epoch: 7, Step: 1130, Loss: 1.48567\n",
      "Epoch: 7, Step: 1140, Loss: 1.40915\n",
      "Epoch: 7, Step: 1150, Loss: 1.58998\n",
      "Model saved in file: ./save/model2.ckpt\n"
     ]
    },
    {
     "name": "stderr",
     "output_type": "stream",
     "text": [
      "W1002 08:36:05.991060 139821803878208 saver.py:1134] *******************************************************\n",
      "W1002 08:36:05.992091 139821803878208 saver.py:1135] TensorFlow's V1 checkpoint format has been deprecated.\n",
      "W1002 08:36:05.992877 139821803878208 saver.py:1136] Consider switching to the more efficient V2 format:\n",
      "W1002 08:36:05.993668 139821803878208 saver.py:1137]    `tf.train.Saver(write_version=tf.train.SaverDef.V2)`\n",
      "W1002 08:36:05.994357 139821803878208 saver.py:1138] now on by default.\n",
      "W1002 08:36:05.995020 139821803878208 saver.py:1139] *******************************************************\n"
     ]
    },
    {
     "name": "stdout",
     "output_type": "stream",
     "text": [
      "Epoch: 8, Step: 800, Loss: 1.51784\n",
      "Epoch: 8, Step: 810, Loss: 2.1274\n",
      "Epoch: 8, Step: 820, Loss: 3.37221\n",
      "Epoch: 8, Step: 830, Loss: 2.77537\n",
      "Epoch: 8, Step: 840, Loss: 2.24629\n",
      "Epoch: 8, Step: 850, Loss: 2.11478\n",
      "Epoch: 8, Step: 860, Loss: 1.37676\n",
      "Epoch: 8, Step: 870, Loss: 1.38573\n",
      "Epoch: 8, Step: 880, Loss: 1.40636\n",
      "Epoch: 8, Step: 890, Loss: 1.38183\n"
     ]
    },
    {
     "name": "stderr",
     "output_type": "stream",
     "text": [
      "W1002 08:37:42.149581 139821803878208 saver.py:1134] *******************************************************\n",
      "W1002 08:37:42.150566 139821803878208 saver.py:1135] TensorFlow's V1 checkpoint format has been deprecated.\n",
      "W1002 08:37:42.151378 139821803878208 saver.py:1136] Consider switching to the more efficient V2 format:\n",
      "W1002 08:37:42.152134 139821803878208 saver.py:1137]    `tf.train.Saver(write_version=tf.train.SaverDef.V2)`\n",
      "W1002 08:37:42.152967 139821803878208 saver.py:1138] now on by default.\n",
      "W1002 08:37:42.153777 139821803878208 saver.py:1139] *******************************************************\n"
     ]
    },
    {
     "name": "stdout",
     "output_type": "stream",
     "text": [
      "Epoch: 8, Step: 900, Loss: 1.37099\n",
      "Epoch: 8, Step: 910, Loss: 1.45964\n",
      "Epoch: 8, Step: 920, Loss: 1.41528\n",
      "Epoch: 8, Step: 930, Loss: 1.43358\n",
      "Epoch: 8, Step: 940, Loss: 1.56997\n",
      "Epoch: 8, Step: 950, Loss: 1.53575\n",
      "Epoch: 8, Step: 960, Loss: 1.90731\n",
      "Epoch: 8, Step: 970, Loss: 1.46204\n",
      "Epoch: 8, Step: 980, Loss: 1.33117\n",
      "Epoch: 8, Step: 990, Loss: 1.31515\n"
     ]
    },
    {
     "name": "stderr",
     "output_type": "stream",
     "text": [
      "W1002 08:39:17.137980 139821803878208 saver.py:1134] *******************************************************\n",
      "W1002 08:39:17.139016 139821803878208 saver.py:1135] TensorFlow's V1 checkpoint format has been deprecated.\n",
      "W1002 08:39:17.140057 139821803878208 saver.py:1136] Consider switching to the more efficient V2 format:\n",
      "W1002 08:39:17.141963 139821803878208 saver.py:1137]    `tf.train.Saver(write_version=tf.train.SaverDef.V2)`\n",
      "W1002 08:39:17.143016 139821803878208 saver.py:1138] now on by default.\n",
      "W1002 08:39:17.144091 139821803878208 saver.py:1139] *******************************************************\n"
     ]
    },
    {
     "name": "stdout",
     "output_type": "stream",
     "text": [
      "Epoch: 8, Step: 1000, Loss: 1.30852\n",
      "Epoch: 8, Step: 1010, Loss: 1.32348\n",
      "Epoch: 8, Step: 1020, Loss: 4.11405\n",
      "Epoch: 8, Step: 1030, Loss: 3.88435\n",
      "Epoch: 8, Step: 1040, Loss: 1.29794\n",
      "Epoch: 8, Step: 1050, Loss: 1.29474\n",
      "Epoch: 8, Step: 1060, Loss: 1.31416\n",
      "Epoch: 8, Step: 1070, Loss: 1.31637\n",
      "Epoch: 8, Step: 1080, Loss: 1.48586\n",
      "Epoch: 8, Step: 1090, Loss: 1.44118\n"
     ]
    },
    {
     "name": "stderr",
     "output_type": "stream",
     "text": [
      "W1002 08:40:53.206253 139821803878208 saver.py:1134] *******************************************************\n",
      "W1002 08:40:53.207330 139821803878208 saver.py:1135] TensorFlow's V1 checkpoint format has been deprecated.\n",
      "W1002 08:40:53.208150 139821803878208 saver.py:1136] Consider switching to the more efficient V2 format:\n",
      "W1002 08:40:53.209487 139821803878208 saver.py:1137]    `tf.train.Saver(write_version=tf.train.SaverDef.V2)`\n",
      "W1002 08:40:53.210198 139821803878208 saver.py:1138] now on by default.\n",
      "W1002 08:40:53.210960 139821803878208 saver.py:1139] *******************************************************\n"
     ]
    },
    {
     "name": "stdout",
     "output_type": "stream",
     "text": [
      "Epoch: 8, Step: 1100, Loss: 1.35302\n",
      "Epoch: 8, Step: 1110, Loss: 1.32692\n",
      "Epoch: 8, Step: 1120, Loss: 1.34821\n",
      "Epoch: 8, Step: 1130, Loss: 1.299\n",
      "Epoch: 8, Step: 1140, Loss: 1.45159\n",
      "Epoch: 8, Step: 1150, Loss: 1.37388\n",
      "Epoch: 8, Step: 1160, Loss: 1.57766\n",
      "Epoch: 8, Step: 1170, Loss: 2.00669\n",
      "Epoch: 8, Step: 1180, Loss: 1.52443\n",
      "Epoch: 8, Step: 1190, Loss: 1.25056\n"
     ]
    },
    {
     "name": "stderr",
     "output_type": "stream",
     "text": [
      "W1002 08:42:31.053866 139821803878208 saver.py:1134] *******************************************************\n",
      "W1002 08:42:31.054912 139821803878208 saver.py:1135] TensorFlow's V1 checkpoint format has been deprecated.\n",
      "W1002 08:42:31.055704 139821803878208 saver.py:1136] Consider switching to the more efficient V2 format:\n",
      "W1002 08:42:31.056530 139821803878208 saver.py:1137]    `tf.train.Saver(write_version=tf.train.SaverDef.V2)`\n",
      "W1002 08:42:31.057303 139821803878208 saver.py:1138] now on by default.\n",
      "W1002 08:42:31.058140 139821803878208 saver.py:1139] *******************************************************\n"
     ]
    },
    {
     "name": "stdout",
     "output_type": "stream",
     "text": [
      "Epoch: 8, Step: 1200, Loss: 1.25278\n",
      "Epoch: 8, Step: 1210, Loss: 1.32401\n",
      "Epoch: 8, Step: 1220, Loss: 1.24836\n",
      "Epoch: 8, Step: 1230, Loss: 1.22902\n",
      "Epoch: 8, Step: 1240, Loss: 1.23725\n",
      "Epoch: 8, Step: 1250, Loss: 1.25293\n",
      "Model saved in file: ./save/model2.ckpt\n"
     ]
    },
    {
     "name": "stderr",
     "output_type": "stream",
     "text": [
      "W1002 08:43:23.029320 139821803878208 saver.py:1134] *******************************************************\n",
      "W1002 08:43:23.030578 139821803878208 saver.py:1135] TensorFlow's V1 checkpoint format has been deprecated.\n",
      "W1002 08:43:23.031512 139821803878208 saver.py:1136] Consider switching to the more efficient V2 format:\n",
      "W1002 08:43:23.032346 139821803878208 saver.py:1137]    `tf.train.Saver(write_version=tf.train.SaverDef.V2)`\n",
      "W1002 08:43:23.033185 139821803878208 saver.py:1138] now on by default.\n",
      "W1002 08:43:23.034066 139821803878208 saver.py:1139] *******************************************************\n"
     ]
    },
    {
     "name": "stdout",
     "output_type": "stream",
     "text": [
      "Epoch: 9, Step: 900, Loss: 1.24303\n",
      "Epoch: 9, Step: 910, Loss: 1.21908\n",
      "Epoch: 9, Step: 920, Loss: 1.20869\n",
      "Epoch: 9, Step: 930, Loss: 1.2003\n",
      "Epoch: 9, Step: 940, Loss: 1.19895\n",
      "Epoch: 9, Step: 950, Loss: 1.19952\n",
      "Epoch: 9, Step: 960, Loss: 1.2378\n",
      "Epoch: 9, Step: 970, Loss: 1.23633\n",
      "Epoch: 9, Step: 980, Loss: 6.07644\n",
      "Epoch: 9, Step: 990, Loss: 1.5827\n"
     ]
    },
    {
     "name": "stderr",
     "output_type": "stream",
     "text": [
      "W1002 08:44:57.657259 139821803878208 saver.py:1134] *******************************************************\n",
      "W1002 08:44:57.658304 139821803878208 saver.py:1135] TensorFlow's V1 checkpoint format has been deprecated.\n",
      "W1002 08:44:57.659130 139821803878208 saver.py:1136] Consider switching to the more efficient V2 format:\n",
      "W1002 08:44:57.659914 139821803878208 saver.py:1137]    `tf.train.Saver(write_version=tf.train.SaverDef.V2)`\n",
      "W1002 08:44:57.660619 139821803878208 saver.py:1138] now on by default.\n",
      "W1002 08:44:57.662581 139821803878208 saver.py:1139] *******************************************************\n"
     ]
    },
    {
     "name": "stdout",
     "output_type": "stream",
     "text": [
      "Epoch: 9, Step: 1000, Loss: 1.17468\n",
      "Epoch: 9, Step: 1010, Loss: 1.18704\n",
      "Epoch: 9, Step: 1020, Loss: 1.21767\n",
      "Epoch: 9, Step: 1030, Loss: 1.22497\n",
      "Epoch: 9, Step: 1040, Loss: 1.16676\n",
      "Epoch: 9, Step: 1050, Loss: 1.25335\n",
      "Epoch: 9, Step: 1060, Loss: 1.21469\n",
      "Epoch: 9, Step: 1070, Loss: 1.19578\n",
      "Epoch: 9, Step: 1080, Loss: 1.66026\n",
      "Epoch: 9, Step: 1090, Loss: 1.60849\n"
     ]
    },
    {
     "name": "stderr",
     "output_type": "stream",
     "text": [
      "W1002 08:46:33.316015 139821803878208 saver.py:1134] *******************************************************\n",
      "W1002 08:46:33.317255 139821803878208 saver.py:1135] TensorFlow's V1 checkpoint format has been deprecated.\n",
      "W1002 08:46:33.318120 139821803878208 saver.py:1136] Consider switching to the more efficient V2 format:\n",
      "W1002 08:46:33.319008 139821803878208 saver.py:1137]    `tf.train.Saver(write_version=tf.train.SaverDef.V2)`\n",
      "W1002 08:46:33.319825 139821803878208 saver.py:1138] now on by default.\n",
      "W1002 08:46:33.320647 139821803878208 saver.py:1139] *******************************************************\n"
     ]
    },
    {
     "name": "stdout",
     "output_type": "stream",
     "text": [
      "Epoch: 9, Step: 1100, Loss: 1.5429\n",
      "Epoch: 9, Step: 1110, Loss: 1.29403\n",
      "Epoch: 9, Step: 1120, Loss: 1.19855\n",
      "Epoch: 9, Step: 1130, Loss: 1.1487\n",
      "Epoch: 9, Step: 1140, Loss: 1.19923\n",
      "Epoch: 9, Step: 1150, Loss: 1.1288\n",
      "Epoch: 9, Step: 1160, Loss: 1.20319\n",
      "Epoch: 9, Step: 1170, Loss: 1.14739\n",
      "Epoch: 9, Step: 1180, Loss: 1.2793\n",
      "Epoch: 9, Step: 1190, Loss: 2.03253\n"
     ]
    },
    {
     "name": "stderr",
     "output_type": "stream",
     "text": [
      "W1002 08:48:10.934191 139821803878208 saver.py:1134] *******************************************************\n",
      "W1002 08:48:10.935515 139821803878208 saver.py:1135] TensorFlow's V1 checkpoint format has been deprecated.\n",
      "W1002 08:48:10.936303 139821803878208 saver.py:1136] Consider switching to the more efficient V2 format:\n",
      "W1002 08:48:10.937136 139821803878208 saver.py:1137]    `tf.train.Saver(write_version=tf.train.SaverDef.V2)`\n",
      "W1002 08:48:10.937952 139821803878208 saver.py:1138] now on by default.\n",
      "W1002 08:48:10.938764 139821803878208 saver.py:1139] *******************************************************\n"
     ]
    },
    {
     "name": "stdout",
     "output_type": "stream",
     "text": [
      "Epoch: 9, Step: 1200, Loss: 1.30966\n",
      "Epoch: 9, Step: 1210, Loss: 1.15883\n",
      "Epoch: 9, Step: 1220, Loss: 1.15324\n",
      "Epoch: 9, Step: 1230, Loss: 1.10109\n",
      "Epoch: 9, Step: 1240, Loss: 1.10806\n",
      "Epoch: 9, Step: 1250, Loss: 1.09382\n",
      "Epoch: 9, Step: 1260, Loss: 1.09416\n",
      "Epoch: 9, Step: 1270, Loss: 1.09475\n",
      "Epoch: 9, Step: 1280, Loss: 1.15786\n",
      "Epoch: 9, Step: 1290, Loss: 1.15089\n"
     ]
    },
    {
     "name": "stderr",
     "output_type": "stream",
     "text": [
      "W1002 08:49:45.946173 139821803878208 saver.py:1134] *******************************************************\n",
      "W1002 08:49:45.947486 139821803878208 saver.py:1135] TensorFlow's V1 checkpoint format has been deprecated.\n",
      "W1002 08:49:45.948324 139821803878208 saver.py:1136] Consider switching to the more efficient V2 format:\n",
      "W1002 08:49:45.949194 139821803878208 saver.py:1137]    `tf.train.Saver(write_version=tf.train.SaverDef.V2)`\n",
      "W1002 08:49:45.949993 139821803878208 saver.py:1138] now on by default.\n",
      "W1002 08:49:45.950863 139821803878208 saver.py:1139] *******************************************************\n"
     ]
    },
    {
     "name": "stdout",
     "output_type": "stream",
     "text": [
      "Epoch: 9, Step: 1300, Loss: 1.33744\n",
      "Epoch: 9, Step: 1310, Loss: 1.5641\n",
      "Epoch: 9, Step: 1320, Loss: 1.30682\n",
      "Epoch: 9, Step: 1330, Loss: 1.13829\n",
      "Epoch: 9, Step: 1340, Loss: 1.09874\n",
      "Epoch: 9, Step: 1350, Loss: 1.06243\n",
      "Model saved in file: ./save/model2.ckpt\n"
     ]
    },
    {
     "name": "stderr",
     "output_type": "stream",
     "text": [
      "W1002 08:50:37.506939 139821803878208 saver.py:1134] *******************************************************\n",
      "W1002 08:50:37.507977 139821803878208 saver.py:1135] TensorFlow's V1 checkpoint format has been deprecated.\n",
      "W1002 08:50:37.509096 139821803878208 saver.py:1136] Consider switching to the more efficient V2 format:\n",
      "W1002 08:50:37.510177 139821803878208 saver.py:1137]    `tf.train.Saver(write_version=tf.train.SaverDef.V2)`\n",
      "W1002 08:50:37.511216 139821803878208 saver.py:1138] now on by default.\n",
      "W1002 08:50:37.512259 139821803878208 saver.py:1139] *******************************************************\n"
     ]
    },
    {
     "name": "stdout",
     "output_type": "stream",
     "text": [
      "Epoch: 10, Step: 1000, Loss: 1.12891\n",
      "Epoch: 10, Step: 1010, Loss: 1.63747\n",
      "Epoch: 10, Step: 1020, Loss: 2.20389\n",
      "Epoch: 10, Step: 1030, Loss: 1.24484\n",
      "Epoch: 10, Step: 1040, Loss: 1.1502\n",
      "Epoch: 10, Step: 1050, Loss: 1.04105\n",
      "Epoch: 10, Step: 1060, Loss: 1.04269\n",
      "Epoch: 10, Step: 1070, Loss: 1.03712\n",
      "Epoch: 10, Step: 1080, Loss: 1.08018\n",
      "Epoch: 10, Step: 1090, Loss: 1.33373\n"
     ]
    },
    {
     "name": "stderr",
     "output_type": "stream",
     "text": [
      "W1002 08:52:13.329648 139821803878208 saver.py:1134] *******************************************************\n",
      "W1002 08:52:13.330712 139821803878208 saver.py:1135] TensorFlow's V1 checkpoint format has been deprecated.\n",
      "W1002 08:52:13.331609 139821803878208 saver.py:1136] Consider switching to the more efficient V2 format:\n",
      "W1002 08:52:13.332440 139821803878208 saver.py:1137]    `tf.train.Saver(write_version=tf.train.SaverDef.V2)`\n",
      "W1002 08:52:13.333350 139821803878208 saver.py:1138] now on by default.\n",
      "W1002 08:52:13.334244 139821803878208 saver.py:1139] *******************************************************\n"
     ]
    },
    {
     "name": "stdout",
     "output_type": "stream",
     "text": [
      "Epoch: 10, Step: 1100, Loss: 1.63454\n",
      "Epoch: 10, Step: 1110, Loss: 1.38769\n",
      "Epoch: 10, Step: 1120, Loss: 1.46287\n",
      "Epoch: 10, Step: 1130, Loss: 1.39373\n",
      "Epoch: 10, Step: 1140, Loss: 1.43779\n",
      "Epoch: 10, Step: 1150, Loss: 1.63357\n",
      "Epoch: 10, Step: 1160, Loss: 1.3045\n",
      "Epoch: 10, Step: 1170, Loss: 1.24445\n",
      "Epoch: 10, Step: 1180, Loss: 1.00991\n",
      "Epoch: 10, Step: 1190, Loss: 1.01471\n"
     ]
    },
    {
     "name": "stderr",
     "output_type": "stream",
     "text": [
      "W1002 08:53:50.926300 139821803878208 saver.py:1134] *******************************************************\n",
      "W1002 08:53:50.927411 139821803878208 saver.py:1135] TensorFlow's V1 checkpoint format has been deprecated.\n",
      "W1002 08:53:50.928712 139821803878208 saver.py:1136] Consider switching to the more efficient V2 format:\n",
      "W1002 08:53:50.929561 139821803878208 saver.py:1137]    `tf.train.Saver(write_version=tf.train.SaverDef.V2)`\n",
      "W1002 08:53:50.930449 139821803878208 saver.py:1138] now on by default.\n",
      "W1002 08:53:50.931576 139821803878208 saver.py:1139] *******************************************************\n"
     ]
    },
    {
     "name": "stdout",
     "output_type": "stream",
     "text": [
      "Epoch: 10, Step: 1200, Loss: 1.38804\n",
      "Epoch: 10, Step: 1210, Loss: 8.29745\n",
      "Epoch: 10, Step: 1220, Loss: 2.31643\n",
      "Epoch: 10, Step: 1230, Loss: 1.53046\n",
      "Epoch: 10, Step: 1240, Loss: 1.01022\n",
      "Epoch: 10, Step: 1250, Loss: 0.982489\n",
      "Epoch: 10, Step: 1260, Loss: 0.979825\n",
      "Epoch: 10, Step: 1270, Loss: 0.98082\n",
      "Epoch: 10, Step: 1280, Loss: 0.991405\n",
      "Epoch: 10, Step: 1290, Loss: 0.974735\n"
     ]
    },
    {
     "name": "stderr",
     "output_type": "stream",
     "text": [
      "W1002 08:55:26.358448 139821803878208 saver.py:1134] *******************************************************\n",
      "W1002 08:55:26.359683 139821803878208 saver.py:1135] TensorFlow's V1 checkpoint format has been deprecated.\n",
      "W1002 08:55:26.360747 139821803878208 saver.py:1136] Consider switching to the more efficient V2 format:\n",
      "W1002 08:55:26.362073 139821803878208 saver.py:1137]    `tf.train.Saver(write_version=tf.train.SaverDef.V2)`\n",
      "W1002 08:55:26.363224 139821803878208 saver.py:1138] now on by default.\n",
      "W1002 08:55:26.364397 139821803878208 saver.py:1139] *******************************************************\n"
     ]
    },
    {
     "name": "stdout",
     "output_type": "stream",
     "text": [
      "Epoch: 10, Step: 1300, Loss: 0.967459\n",
      "Epoch: 10, Step: 1310, Loss: 0.966059\n",
      "Epoch: 10, Step: 1320, Loss: 0.967063\n",
      "Epoch: 10, Step: 1330, Loss: 0.971665\n",
      "Epoch: 10, Step: 1340, Loss: 0.996143\n",
      "Epoch: 10, Step: 1350, Loss: 0.998229\n",
      "Epoch: 10, Step: 1360, Loss: 0.94935\n",
      "Epoch: 10, Step: 1370, Loss: 0.945302\n",
      "Epoch: 10, Step: 1380, Loss: 0.945071\n",
      "Epoch: 10, Step: 1390, Loss: 0.943412\n"
     ]
    },
    {
     "name": "stderr",
     "output_type": "stream",
     "text": [
      "W1002 08:57:01.759617 139821803878208 saver.py:1134] *******************************************************\n",
      "W1002 08:57:01.760853 139821803878208 saver.py:1135] TensorFlow's V1 checkpoint format has been deprecated.\n",
      "W1002 08:57:01.761912 139821803878208 saver.py:1136] Consider switching to the more efficient V2 format:\n",
      "W1002 08:57:01.762986 139821803878208 saver.py:1137]    `tf.train.Saver(write_version=tf.train.SaverDef.V2)`\n",
      "W1002 08:57:01.765413 139821803878208 saver.py:1138] now on by default.\n",
      "W1002 08:57:01.766596 139821803878208 saver.py:1139] *******************************************************\n"
     ]
    },
    {
     "name": "stdout",
     "output_type": "stream",
     "text": [
      "Epoch: 10, Step: 1400, Loss: 0.938306\n",
      "Epoch: 10, Step: 1410, Loss: 0.935825\n",
      "Epoch: 10, Step: 1420, Loss: 0.932054\n",
      "Epoch: 10, Step: 1430, Loss: 0.931702\n",
      "Epoch: 10, Step: 1440, Loss: 0.933891\n",
      "Epoch: 10, Step: 1450, Loss: 1.0388\n",
      "Model saved in file: ./save/model2.ckpt\n"
     ]
    },
    {
     "name": "stderr",
     "output_type": "stream",
     "text": [
      "W1002 08:57:54.046256 139821803878208 saver.py:1134] *******************************************************\n",
      "W1002 08:57:54.047375 139821803878208 saver.py:1135] TensorFlow's V1 checkpoint format has been deprecated.\n",
      "W1002 08:57:54.048223 139821803878208 saver.py:1136] Consider switching to the more efficient V2 format:\n",
      "W1002 08:57:54.049136 139821803878208 saver.py:1137]    `tf.train.Saver(write_version=tf.train.SaverDef.V2)`\n",
      "W1002 08:57:54.049956 139821803878208 saver.py:1138] now on by default.\n",
      "W1002 08:57:54.050826 139821803878208 saver.py:1139] *******************************************************\n"
     ]
    },
    {
     "name": "stdout",
     "output_type": "stream",
     "text": [
      "Epoch: 11, Step: 1100, Loss: 0.95993\n",
      "Epoch: 11, Step: 1110, Loss: 1.07538\n",
      "Epoch: 11, Step: 1120, Loss: 1.17455\n",
      "Epoch: 11, Step: 1130, Loss: 1.03282\n",
      "Epoch: 11, Step: 1140, Loss: 0.928303\n",
      "Epoch: 11, Step: 1150, Loss: 1.1785\n",
      "Epoch: 11, Step: 1160, Loss: 1.18531\n",
      "Epoch: 11, Step: 1170, Loss: 6.73892\n",
      "Epoch: 11, Step: 1180, Loss: 1.02952\n",
      "Epoch: 11, Step: 1190, Loss: 0.904517\n"
     ]
    },
    {
     "name": "stderr",
     "output_type": "stream",
     "text": [
      "W1002 08:59:31.228209 139821803878208 saver.py:1134] *******************************************************\n",
      "W1002 08:59:31.229374 139821803878208 saver.py:1135] TensorFlow's V1 checkpoint format has been deprecated.\n",
      "W1002 08:59:31.230273 139821803878208 saver.py:1136] Consider switching to the more efficient V2 format:\n",
      "W1002 08:59:31.231139 139821803878208 saver.py:1137]    `tf.train.Saver(write_version=tf.train.SaverDef.V2)`\n",
      "W1002 08:59:31.232023 139821803878208 saver.py:1138] now on by default.\n",
      "W1002 08:59:31.232898 139821803878208 saver.py:1139] *******************************************************\n"
     ]
    },
    {
     "name": "stdout",
     "output_type": "stream",
     "text": [
      "Epoch: 11, Step: 1200, Loss: 1.11762\n",
      "Epoch: 11, Step: 1210, Loss: 2.387\n",
      "Epoch: 11, Step: 1220, Loss: 1.05814\n",
      "Epoch: 11, Step: 1230, Loss: 0.894485\n",
      "Epoch: 11, Step: 1240, Loss: 1.00763\n",
      "Epoch: 11, Step: 1250, Loss: 0.933009\n",
      "Epoch: 11, Step: 1260, Loss: 0.882086\n",
      "Epoch: 11, Step: 1270, Loss: 0.947421\n",
      "Epoch: 11, Step: 1280, Loss: 0.880454\n",
      "Epoch: 11, Step: 1290, Loss: 0.883052\n"
     ]
    },
    {
     "name": "stderr",
     "output_type": "stream",
     "text": [
      "W1002 09:01:06.769574 139821803878208 saver.py:1134] *******************************************************\n",
      "W1002 09:01:06.770629 139821803878208 saver.py:1135] TensorFlow's V1 checkpoint format has been deprecated.\n",
      "W1002 09:01:06.771478 139821803878208 saver.py:1136] Consider switching to the more efficient V2 format:\n",
      "W1002 09:01:06.772335 139821803878208 saver.py:1137]    `tf.train.Saver(write_version=tf.train.SaverDef.V2)`\n",
      "W1002 09:01:06.773194 139821803878208 saver.py:1138] now on by default.\n",
      "W1002 09:01:06.774046 139821803878208 saver.py:1139] *******************************************************\n"
     ]
    },
    {
     "name": "stdout",
     "output_type": "stream",
     "text": [
      "Epoch: 11, Step: 1300, Loss: 0.905287\n",
      "Epoch: 11, Step: 1310, Loss: 0.994535\n",
      "Epoch: 11, Step: 1320, Loss: 0.907041\n",
      "Epoch: 11, Step: 1330, Loss: 0.985066\n",
      "Epoch: 11, Step: 1340, Loss: 0.904614\n",
      "Epoch: 11, Step: 1350, Loss: 0.888921\n",
      "Epoch: 11, Step: 1360, Loss: 0.87572\n",
      "Epoch: 11, Step: 1370, Loss: 0.863368\n",
      "Epoch: 11, Step: 1380, Loss: 0.857176\n",
      "Epoch: 11, Step: 1390, Loss: 0.852296\n"
     ]
    },
    {
     "name": "stderr",
     "output_type": "stream",
     "text": [
      "W1002 09:02:41.400842 139821803878208 saver.py:1134] *******************************************************\n",
      "W1002 09:02:41.401941 139821803878208 saver.py:1135] TensorFlow's V1 checkpoint format has been deprecated.\n",
      "W1002 09:02:41.402717 139821803878208 saver.py:1136] Consider switching to the more efficient V2 format:\n",
      "W1002 09:02:41.403488 139821803878208 saver.py:1137]    `tf.train.Saver(write_version=tf.train.SaverDef.V2)`\n",
      "W1002 09:02:41.404205 139821803878208 saver.py:1138] now on by default.\n",
      "W1002 09:02:41.404886 139821803878208 saver.py:1139] *******************************************************\n"
     ]
    },
    {
     "name": "stdout",
     "output_type": "stream",
     "text": [
      "Epoch: 11, Step: 1400, Loss: 0.850932\n",
      "Epoch: 11, Step: 1410, Loss: 0.848114\n",
      "Epoch: 11, Step: 1420, Loss: 0.843317\n",
      "Epoch: 11, Step: 1430, Loss: 0.848642\n",
      "Epoch: 11, Step: 1440, Loss: 0.849388\n",
      "Epoch: 11, Step: 1450, Loss: 0.873943\n",
      "Epoch: 11, Step: 1460, Loss: 0.931784\n",
      "Epoch: 11, Step: 1470, Loss: 0.877237\n",
      "Epoch: 11, Step: 1480, Loss: 1.05203\n",
      "Epoch: 11, Step: 1490, Loss: 0.891543\n"
     ]
    },
    {
     "name": "stderr",
     "output_type": "stream",
     "text": [
      "W1002 09:04:17.564593 139821803878208 saver.py:1134] *******************************************************\n",
      "W1002 09:04:17.565690 139821803878208 saver.py:1135] TensorFlow's V1 checkpoint format has been deprecated.\n",
      "W1002 09:04:17.566457 139821803878208 saver.py:1136] Consider switching to the more efficient V2 format:\n",
      "W1002 09:04:17.567931 139821803878208 saver.py:1137]    `tf.train.Saver(write_version=tf.train.SaverDef.V2)`\n",
      "W1002 09:04:17.568676 139821803878208 saver.py:1138] now on by default.\n",
      "W1002 09:04:17.569504 139821803878208 saver.py:1139] *******************************************************\n"
     ]
    },
    {
     "name": "stdout",
     "output_type": "stream",
     "text": [
      "Epoch: 11, Step: 1500, Loss: 0.904976\n",
      "Epoch: 11, Step: 1510, Loss: 1.01897\n",
      "Epoch: 11, Step: 1520, Loss: 0.867367\n",
      "Epoch: 11, Step: 1530, Loss: 0.824916\n",
      "Epoch: 11, Step: 1540, Loss: 0.814784\n",
      "Epoch: 11, Step: 1550, Loss: 0.86295\n",
      "Model saved in file: ./save/model2.ckpt\n"
     ]
    },
    {
     "name": "stderr",
     "output_type": "stream",
     "text": [
      "W1002 09:05:10.699431 139821803878208 saver.py:1134] *******************************************************\n",
      "W1002 09:05:10.700961 139821803878208 saver.py:1135] TensorFlow's V1 checkpoint format has been deprecated.\n",
      "W1002 09:05:10.701727 139821803878208 saver.py:1136] Consider switching to the more efficient V2 format:\n",
      "W1002 09:05:10.703141 139821803878208 saver.py:1137]    `tf.train.Saver(write_version=tf.train.SaverDef.V2)`\n",
      "W1002 09:05:10.703867 139821803878208 saver.py:1138] now on by default.\n",
      "W1002 09:05:10.704799 139821803878208 saver.py:1139] *******************************************************\n"
     ]
    },
    {
     "name": "stdout",
     "output_type": "stream",
     "text": [
      "Epoch: 12, Step: 1200, Loss: 0.928156\n",
      "Epoch: 12, Step: 1210, Loss: 1.02502\n",
      "Epoch: 12, Step: 1220, Loss: 2.877\n",
      "Epoch: 12, Step: 1230, Loss: 1.64391\n",
      "Epoch: 12, Step: 1240, Loss: 0.85477\n",
      "Epoch: 12, Step: 1250, Loss: 0.859168\n",
      "Epoch: 12, Step: 1260, Loss: 0.824164\n",
      "Epoch: 12, Step: 1270, Loss: 0.817359\n",
      "Epoch: 12, Step: 1280, Loss: 0.852974\n",
      "Epoch: 12, Step: 1290, Loss: 0.848521\n"
     ]
    },
    {
     "name": "stderr",
     "output_type": "stream",
     "text": [
      "W1002 09:06:46.803544 139821803878208 saver.py:1134] *******************************************************\n",
      "W1002 09:06:46.804585 139821803878208 saver.py:1135] TensorFlow's V1 checkpoint format has been deprecated.\n",
      "W1002 09:06:46.805481 139821803878208 saver.py:1136] Consider switching to the more efficient V2 format:\n",
      "W1002 09:06:46.806327 139821803878208 saver.py:1137]    `tf.train.Saver(write_version=tf.train.SaverDef.V2)`\n",
      "W1002 09:06:46.807137 139821803878208 saver.py:1138] now on by default.\n",
      "W1002 09:06:46.808064 139821803878208 saver.py:1139] *******************************************************\n"
     ]
    },
    {
     "name": "stdout",
     "output_type": "stream",
     "text": [
      "Epoch: 12, Step: 1300, Loss: 0.813059\n",
      "Epoch: 12, Step: 1310, Loss: 0.888058\n",
      "Epoch: 12, Step: 1320, Loss: 1.19852\n",
      "Epoch: 12, Step: 1330, Loss: 0.938543\n",
      "Epoch: 12, Step: 1340, Loss: 0.983938\n",
      "Epoch: 12, Step: 1350, Loss: 0.799843\n",
      "Epoch: 12, Step: 1360, Loss: 0.800912\n",
      "Epoch: 12, Step: 1370, Loss: 0.796797\n",
      "Epoch: 12, Step: 1380, Loss: 0.810215\n",
      "Epoch: 12, Step: 1390, Loss: 0.826254\n"
     ]
    },
    {
     "name": "stderr",
     "output_type": "stream",
     "text": [
      "W1002 09:08:21.288014 139821803878208 saver.py:1134] *******************************************************\n",
      "W1002 09:08:21.289136 139821803878208 saver.py:1135] TensorFlow's V1 checkpoint format has been deprecated.\n",
      "W1002 09:08:21.289984 139821803878208 saver.py:1136] Consider switching to the more efficient V2 format:\n",
      "W1002 09:08:21.290815 139821803878208 saver.py:1137]    `tf.train.Saver(write_version=tf.train.SaverDef.V2)`\n",
      "W1002 09:08:21.291642 139821803878208 saver.py:1138] now on by default.\n",
      "W1002 09:08:21.292611 139821803878208 saver.py:1139] *******************************************************\n"
     ]
    },
    {
     "name": "stdout",
     "output_type": "stream",
     "text": [
      "Epoch: 12, Step: 1400, Loss: 6.07781\n",
      "Epoch: 12, Step: 1410, Loss: 1.02025\n",
      "Epoch: 12, Step: 1420, Loss: 0.762723\n",
      "Epoch: 12, Step: 1430, Loss: 0.760077\n",
      "Epoch: 12, Step: 1440, Loss: 0.757622\n",
      "Epoch: 12, Step: 1450, Loss: 0.762332\n",
      "Epoch: 12, Step: 1460, Loss: 0.757494\n",
      "Epoch: 12, Step: 1470, Loss: 0.79474\n",
      "Epoch: 12, Step: 1480, Loss: 0.766241\n",
      "Epoch: 12, Step: 1490, Loss: 0.911328\n"
     ]
    },
    {
     "name": "stderr",
     "output_type": "stream",
     "text": [
      "W1002 09:09:56.745202 139821803878208 saver.py:1134] *******************************************************\n",
      "W1002 09:09:56.746244 139821803878208 saver.py:1135] TensorFlow's V1 checkpoint format has been deprecated.\n",
      "W1002 09:09:56.746963 139821803878208 saver.py:1136] Consider switching to the more efficient V2 format:\n",
      "W1002 09:09:56.748412 139821803878208 saver.py:1137]    `tf.train.Saver(write_version=tf.train.SaverDef.V2)`\n",
      "W1002 09:09:56.749180 139821803878208 saver.py:1138] now on by default.\n",
      "W1002 09:09:56.749972 139821803878208 saver.py:1139] *******************************************************\n"
     ]
    },
    {
     "name": "stdout",
     "output_type": "stream",
     "text": [
      "Epoch: 12, Step: 1500, Loss: 0.967584\n",
      "Epoch: 12, Step: 1510, Loss: 0.945996\n",
      "Epoch: 12, Step: 1520, Loss: 0.783681\n",
      "Epoch: 12, Step: 1530, Loss: 0.764331\n",
      "Epoch: 12, Step: 1540, Loss: 0.783003\n",
      "Epoch: 12, Step: 1550, Loss: 0.740348\n",
      "Epoch: 12, Step: 1560, Loss: 0.742776\n",
      "Epoch: 12, Step: 1570, Loss: 0.746418\n",
      "Epoch: 12, Step: 1580, Loss: 1.03107\n",
      "Epoch: 12, Step: 1590, Loss: 1.37969\n"
     ]
    },
    {
     "name": "stderr",
     "output_type": "stream",
     "text": [
      "W1002 09:11:33.911697 139821803878208 saver.py:1134] *******************************************************\n",
      "W1002 09:11:33.913156 139821803878208 saver.py:1135] TensorFlow's V1 checkpoint format has been deprecated.\n",
      "W1002 09:11:33.913920 139821803878208 saver.py:1136] Consider switching to the more efficient V2 format:\n",
      "W1002 09:11:33.914833 139821803878208 saver.py:1137]    `tf.train.Saver(write_version=tf.train.SaverDef.V2)`\n",
      "W1002 09:11:33.915544 139821803878208 saver.py:1138] now on by default.\n",
      "W1002 09:11:33.916341 139821803878208 saver.py:1139] *******************************************************\n"
     ]
    },
    {
     "name": "stdout",
     "output_type": "stream",
     "text": [
      "Epoch: 12, Step: 1600, Loss: 0.800884\n",
      "Epoch: 12, Step: 1610, Loss: 1.0365\n",
      "Epoch: 12, Step: 1620, Loss: 0.775915\n",
      "Epoch: 12, Step: 1630, Loss: 0.736334\n",
      "Epoch: 12, Step: 1640, Loss: 0.750204\n",
      "Epoch: 12, Step: 1650, Loss: 0.743861\n",
      "Model saved in file: ./save/model2.ckpt\n"
     ]
    },
    {
     "name": "stderr",
     "output_type": "stream",
     "text": [
      "W1002 09:12:25.786134 139821803878208 saver.py:1134] *******************************************************\n",
      "W1002 09:12:25.787174 139821803878208 saver.py:1135] TensorFlow's V1 checkpoint format has been deprecated.\n",
      "W1002 09:12:25.787948 139821803878208 saver.py:1136] Consider switching to the more efficient V2 format:\n",
      "W1002 09:12:25.788685 139821803878208 saver.py:1137]    `tf.train.Saver(write_version=tf.train.SaverDef.V2)`\n",
      "W1002 09:12:25.789469 139821803878208 saver.py:1138] now on by default.\n",
      "W1002 09:12:25.790402 139821803878208 saver.py:1139] *******************************************************\n"
     ]
    },
    {
     "name": "stdout",
     "output_type": "stream",
     "text": [
      "Epoch: 13, Step: 1300, Loss: 0.741906\n",
      "Epoch: 13, Step: 1310, Loss: 0.735135\n",
      "Epoch: 13, Step: 1320, Loss: 0.709583\n",
      "Epoch: 13, Step: 1330, Loss: 0.707711\n",
      "Epoch: 13, Step: 1340, Loss: 0.803786\n",
      "Epoch: 13, Step: 1350, Loss: 1.91772\n",
      "Epoch: 13, Step: 1360, Loss: 4.76286\n",
      "Epoch: 13, Step: 1370, Loss: 0.705059\n",
      "Epoch: 13, Step: 1380, Loss: 0.698212\n",
      "Epoch: 13, Step: 1390, Loss: 0.728898\n"
     ]
    },
    {
     "name": "stderr",
     "output_type": "stream",
     "text": [
      "W1002 09:14:00.638233 139821803878208 saver.py:1134] *******************************************************\n",
      "W1002 09:14:00.639275 139821803878208 saver.py:1135] TensorFlow's V1 checkpoint format has been deprecated.\n",
      "W1002 09:14:00.641143 139821803878208 saver.py:1136] Consider switching to the more efficient V2 format:\n",
      "W1002 09:14:00.642144 139821803878208 saver.py:1137]    `tf.train.Saver(write_version=tf.train.SaverDef.V2)`\n",
      "W1002 09:14:00.643308 139821803878208 saver.py:1138] now on by default.\n",
      "W1002 09:14:00.644365 139821803878208 saver.py:1139] *******************************************************\n"
     ]
    },
    {
     "name": "stdout",
     "output_type": "stream",
     "text": [
      "Epoch: 13, Step: 1400, Loss: 0.741875\n",
      "Epoch: 13, Step: 1410, Loss: 0.740846\n",
      "Epoch: 13, Step: 1420, Loss: 0.707686\n",
      "Epoch: 13, Step: 1430, Loss: 0.813483\n",
      "Epoch: 13, Step: 1440, Loss: 0.706774\n",
      "Epoch: 13, Step: 1450, Loss: 0.692299\n",
      "Epoch: 13, Step: 1460, Loss: 0.692548\n",
      "Epoch: 13, Step: 1470, Loss: 0.937523\n",
      "Epoch: 13, Step: 1480, Loss: 0.81772\n",
      "Epoch: 13, Step: 1490, Loss: 0.897756\n"
     ]
    },
    {
     "name": "stderr",
     "output_type": "stream",
     "text": [
      "W1002 09:15:36.135624 139821803878208 saver.py:1134] *******************************************************\n",
      "W1002 09:15:36.137007 139821803878208 saver.py:1135] TensorFlow's V1 checkpoint format has been deprecated.\n",
      "W1002 09:15:36.137786 139821803878208 saver.py:1136] Consider switching to the more efficient V2 format:\n",
      "W1002 09:15:36.138527 139821803878208 saver.py:1137]    `tf.train.Saver(write_version=tf.train.SaverDef.V2)`\n",
      "W1002 09:15:36.139252 139821803878208 saver.py:1138] now on by default.\n",
      "W1002 09:15:36.139941 139821803878208 saver.py:1139] *******************************************************\n"
     ]
    },
    {
     "name": "stdout",
     "output_type": "stream",
     "text": [
      "Epoch: 13, Step: 1500, Loss: 0.839938\n",
      "Epoch: 13, Step: 1510, Loss: 0.728456\n",
      "Epoch: 13, Step: 1520, Loss: 0.858958\n",
      "Epoch: 13, Step: 1530, Loss: 0.967889\n",
      "Epoch: 13, Step: 1540, Loss: 0.746954\n",
      "Epoch: 13, Step: 1550, Loss: 0.712609\n",
      "Epoch: 13, Step: 1560, Loss: 1.02978\n",
      "Epoch: 13, Step: 1570, Loss: 1.02468\n",
      "Epoch: 13, Step: 1580, Loss: 1.12817\n",
      "Epoch: 13, Step: 1590, Loss: 1.31388\n"
     ]
    },
    {
     "name": "stderr",
     "output_type": "stream",
     "text": [
      "W1002 09:17:13.537797 139821803878208 saver.py:1134] *******************************************************\n",
      "W1002 09:17:13.539157 139821803878208 saver.py:1135] TensorFlow's V1 checkpoint format has been deprecated.\n",
      "W1002 09:17:13.540194 139821803878208 saver.py:1136] Consider switching to the more efficient V2 format:\n",
      "W1002 09:17:13.541313 139821803878208 saver.py:1137]    `tf.train.Saver(write_version=tf.train.SaverDef.V2)`\n",
      "W1002 09:17:13.542394 139821803878208 saver.py:1138] now on by default.\n",
      "W1002 09:17:13.543437 139821803878208 saver.py:1139] *******************************************************\n"
     ]
    },
    {
     "name": "stdout",
     "output_type": "stream",
     "text": [
      "Epoch: 13, Step: 1600, Loss: 1.56852\n",
      "Epoch: 13, Step: 1610, Loss: 0.692859\n",
      "Epoch: 13, Step: 1620, Loss: 0.947625\n",
      "Epoch: 13, Step: 1630, Loss: 0.655654\n",
      "Epoch: 13, Step: 1640, Loss: 0.681145\n",
      "Epoch: 13, Step: 1650, Loss: 0.651322\n",
      "Epoch: 13, Step: 1660, Loss: 0.658968\n",
      "Epoch: 13, Step: 1670, Loss: 0.693722\n",
      "Epoch: 13, Step: 1680, Loss: 0.919367\n",
      "Epoch: 13, Step: 1690, Loss: 0.987048\n"
     ]
    },
    {
     "name": "stderr",
     "output_type": "stream",
     "text": [
      "W1002 09:18:48.490660 139821803878208 saver.py:1134] *******************************************************\n",
      "W1002 09:18:48.491921 139821803878208 saver.py:1135] TensorFlow's V1 checkpoint format has been deprecated.\n",
      "W1002 09:18:48.492841 139821803878208 saver.py:1136] Consider switching to the more efficient V2 format:\n",
      "W1002 09:18:48.493792 139821803878208 saver.py:1137]    `tf.train.Saver(write_version=tf.train.SaverDef.V2)`\n",
      "W1002 09:18:48.494519 139821803878208 saver.py:1138] now on by default.\n",
      "W1002 09:18:48.495282 139821803878208 saver.py:1139] *******************************************************\n"
     ]
    },
    {
     "name": "stdout",
     "output_type": "stream",
     "text": [
      "Epoch: 13, Step: 1700, Loss: 0.75351\n",
      "Epoch: 13, Step: 1710, Loss: 0.646774\n",
      "Epoch: 13, Step: 1720, Loss: 0.642081\n",
      "Epoch: 13, Step: 1730, Loss: 0.653459\n",
      "Epoch: 13, Step: 1740, Loss: 0.715211\n",
      "Epoch: 13, Step: 1750, Loss: 0.790497\n",
      "Model saved in file: ./save/model2.ckpt\n"
     ]
    },
    {
     "name": "stderr",
     "output_type": "stream",
     "text": [
      "W1002 09:19:40.163324 139821803878208 saver.py:1134] *******************************************************\n",
      "W1002 09:19:40.164424 139821803878208 saver.py:1135] TensorFlow's V1 checkpoint format has been deprecated.\n",
      "W1002 09:19:40.165555 139821803878208 saver.py:1136] Consider switching to the more efficient V2 format:\n",
      "W1002 09:19:40.166700 139821803878208 saver.py:1137]    `tf.train.Saver(write_version=tf.train.SaverDef.V2)`\n",
      "W1002 09:19:40.167790 139821803878208 saver.py:1138] now on by default.\n",
      "W1002 09:19:40.168938 139821803878208 saver.py:1139] *******************************************************\n"
     ]
    },
    {
     "name": "stdout",
     "output_type": "stream",
     "text": [
      "Epoch: 14, Step: 1400, Loss: 0.831079\n",
      "Epoch: 14, Step: 1410, Loss: 0.652916\n",
      "Epoch: 14, Step: 1420, Loss: 0.673962\n",
      "Epoch: 14, Step: 1430, Loss: 0.632059\n",
      "Epoch: 14, Step: 1440, Loss: 0.632607\n",
      "Epoch: 14, Step: 1450, Loss: 0.630889\n",
      "Epoch: 14, Step: 1460, Loss: 0.6393\n",
      "Epoch: 14, Step: 1470, Loss: 0.681901\n",
      "Epoch: 14, Step: 1480, Loss: 0.676296\n",
      "Epoch: 14, Step: 1490, Loss: 0.67269\n"
     ]
    },
    {
     "name": "stderr",
     "output_type": "stream",
     "text": [
      "W1002 09:21:15.949631 139821803878208 saver.py:1134] *******************************************************\n",
      "W1002 09:21:15.950934 139821803878208 saver.py:1135] TensorFlow's V1 checkpoint format has been deprecated.\n",
      "W1002 09:21:15.951655 139821803878208 saver.py:1136] Consider switching to the more efficient V2 format:\n",
      "W1002 09:21:15.952494 139821803878208 saver.py:1137]    `tf.train.Saver(write_version=tf.train.SaverDef.V2)`\n",
      "W1002 09:21:15.953241 139821803878208 saver.py:1138] now on by default.\n",
      "W1002 09:21:15.953933 139821803878208 saver.py:1139] *******************************************************\n"
     ]
    },
    {
     "name": "stdout",
     "output_type": "stream",
     "text": [
      "Epoch: 14, Step: 1500, Loss: 0.806405\n",
      "Epoch: 14, Step: 1510, Loss: 0.921272\n",
      "Epoch: 14, Step: 1520, Loss: 1.76013\n",
      "Epoch: 14, Step: 1530, Loss: 1.00521\n",
      "Epoch: 14, Step: 1540, Loss: 0.834693\n",
      "Epoch: 14, Step: 1550, Loss: 0.709067\n",
      "Epoch: 14, Step: 1560, Loss: 0.7239\n",
      "Epoch: 14, Step: 1570, Loss: 0.974583\n",
      "Epoch: 14, Step: 1580, Loss: 1.15391\n",
      "Epoch: 14, Step: 1590, Loss: 6.91916\n"
     ]
    },
    {
     "name": "stderr",
     "output_type": "stream",
     "text": [
      "W1002 09:22:53.644333 139821803878208 saver.py:1134] *******************************************************\n",
      "W1002 09:22:53.645346 139821803878208 saver.py:1135] TensorFlow's V1 checkpoint format has been deprecated.\n",
      "W1002 09:22:53.646306 139821803878208 saver.py:1136] Consider switching to the more efficient V2 format:\n",
      "W1002 09:22:53.647378 139821803878208 saver.py:1137]    `tf.train.Saver(write_version=tf.train.SaverDef.V2)`\n",
      "W1002 09:22:53.648458 139821803878208 saver.py:1138] now on by default.\n",
      "W1002 09:22:53.649556 139821803878208 saver.py:1139] *******************************************************\n"
     ]
    },
    {
     "name": "stdout",
     "output_type": "stream",
     "text": [
      "Epoch: 14, Step: 1600, Loss: 1.86832\n",
      "Epoch: 14, Step: 1610, Loss: 3.09953\n",
      "Epoch: 14, Step: 1620, Loss: 0.638883\n",
      "Epoch: 14, Step: 1630, Loss: 0.610815\n",
      "Epoch: 14, Step: 1640, Loss: 0.618852\n",
      "Epoch: 14, Step: 1650, Loss: 0.62\n",
      "Epoch: 14, Step: 1660, Loss: 0.992385\n",
      "Epoch: 14, Step: 1670, Loss: 0.65386\n",
      "Epoch: 14, Step: 1680, Loss: 0.632128\n",
      "Epoch: 14, Step: 1690, Loss: 0.600881\n"
     ]
    },
    {
     "name": "stderr",
     "output_type": "stream",
     "text": [
      "W1002 09:24:29.208728 139821803878208 saver.py:1134] *******************************************************\n",
      "W1002 09:24:29.209831 139821803878208 saver.py:1135] TensorFlow's V1 checkpoint format has been deprecated.\n",
      "W1002 09:24:29.210660 139821803878208 saver.py:1136] Consider switching to the more efficient V2 format:\n",
      "W1002 09:24:29.211943 139821803878208 saver.py:1137]    `tf.train.Saver(write_version=tf.train.SaverDef.V2)`\n",
      "W1002 09:24:29.212650 139821803878208 saver.py:1138] now on by default.\n",
      "W1002 09:24:29.213452 139821803878208 saver.py:1139] *******************************************************\n"
     ]
    },
    {
     "name": "stdout",
     "output_type": "stream",
     "text": [
      "Epoch: 14, Step: 1700, Loss: 0.601352\n",
      "Epoch: 14, Step: 1710, Loss: 0.60634\n",
      "Epoch: 14, Step: 1720, Loss: 0.600012\n",
      "Epoch: 14, Step: 1730, Loss: 0.599925\n",
      "Epoch: 14, Step: 1740, Loss: 0.590136\n",
      "Epoch: 14, Step: 1750, Loss: 0.585678\n",
      "Epoch: 14, Step: 1760, Loss: 0.592516\n",
      "Epoch: 14, Step: 1770, Loss: 0.589978\n",
      "Epoch: 14, Step: 1780, Loss: 0.579166\n",
      "Epoch: 14, Step: 1790, Loss: 0.583457\n"
     ]
    },
    {
     "name": "stderr",
     "output_type": "stream",
     "text": [
      "W1002 09:26:04.463094 139821803878208 saver.py:1134] *******************************************************\n",
      "W1002 09:26:04.464145 139821803878208 saver.py:1135] TensorFlow's V1 checkpoint format has been deprecated.\n",
      "W1002 09:26:04.465034 139821803878208 saver.py:1136] Consider switching to the more efficient V2 format:\n",
      "W1002 09:26:04.465775 139821803878208 saver.py:1137]    `tf.train.Saver(write_version=tf.train.SaverDef.V2)`\n",
      "W1002 09:26:04.466546 139821803878208 saver.py:1138] now on by default.\n",
      "W1002 09:26:04.467329 139821803878208 saver.py:1139] *******************************************************\n"
     ]
    },
    {
     "name": "stdout",
     "output_type": "stream",
     "text": [
      "Epoch: 14, Step: 1800, Loss: 0.576221\n",
      "Epoch: 14, Step: 1810, Loss: 0.586536\n",
      "Epoch: 14, Step: 1820, Loss: 0.58531\n",
      "Epoch: 14, Step: 1830, Loss: 0.583652\n",
      "Epoch: 14, Step: 1840, Loss: 0.592794\n",
      "Epoch: 14, Step: 1850, Loss: 0.650797\n",
      "Model saved in file: ./save/model2.ckpt\n"
     ]
    },
    {
     "name": "stderr",
     "output_type": "stream",
     "text": [
      "W1002 09:26:56.745138 139821803878208 saver.py:1134] *******************************************************\n",
      "W1002 09:26:56.746220 139821803878208 saver.py:1135] TensorFlow's V1 checkpoint format has been deprecated.\n",
      "W1002 09:26:56.746981 139821803878208 saver.py:1136] Consider switching to the more efficient V2 format:\n",
      "W1002 09:26:56.747746 139821803878208 saver.py:1137]    `tf.train.Saver(write_version=tf.train.SaverDef.V2)`\n",
      "W1002 09:26:56.748548 139821803878208 saver.py:1138] now on by default.\n",
      "W1002 09:26:56.749887 139821803878208 saver.py:1139] *******************************************************\n"
     ]
    },
    {
     "name": "stdout",
     "output_type": "stream",
     "text": [
      "Epoch: 15, Step: 1500, Loss: 0.83472\n",
      "Epoch: 15, Step: 1510, Loss: 0.711374\n",
      "Epoch: 15, Step: 1520, Loss: 0.62219\n",
      "Epoch: 15, Step: 1530, Loss: 1.22662\n",
      "Epoch: 15, Step: 1540, Loss: 3.81802\n",
      "Epoch: 15, Step: 1550, Loss: 3.2507\n",
      "Epoch: 15, Step: 1560, Loss: 0.593581\n",
      "Epoch: 15, Step: 1570, Loss: 0.706719\n",
      "Epoch: 15, Step: 1580, Loss: 0.896845\n",
      "Epoch: 15, Step: 1590, Loss: 0.780359\n"
     ]
    },
    {
     "name": "stderr",
     "output_type": "stream",
     "text": [
      "W1002 09:28:33.712738 139821803878208 saver.py:1134] *******************************************************\n",
      "W1002 09:28:33.713865 139821803878208 saver.py:1135] TensorFlow's V1 checkpoint format has been deprecated.\n",
      "W1002 09:28:33.714725 139821803878208 saver.py:1136] Consider switching to the more efficient V2 format:\n",
      "W1002 09:28:33.715603 139821803878208 saver.py:1137]    `tf.train.Saver(write_version=tf.train.SaverDef.V2)`\n",
      "W1002 09:28:33.716431 139821803878208 saver.py:1138] now on by default.\n",
      "W1002 09:28:33.717531 139821803878208 saver.py:1139] *******************************************************\n"
     ]
    },
    {
     "name": "stdout",
     "output_type": "stream",
     "text": [
      "Epoch: 15, Step: 1600, Loss: 0.644375\n",
      "Epoch: 15, Step: 1610, Loss: 0.654653\n",
      "Epoch: 15, Step: 1620, Loss: 0.789761\n",
      "Epoch: 15, Step: 1630, Loss: 0.561466\n",
      "Epoch: 15, Step: 1640, Loss: 0.574056\n",
      "Epoch: 15, Step: 1650, Loss: 0.635091\n",
      "Epoch: 15, Step: 1660, Loss: 0.554218\n",
      "Epoch: 15, Step: 1670, Loss: 0.570203\n",
      "Epoch: 15, Step: 1680, Loss: 0.580387\n",
      "Epoch: 15, Step: 1690, Loss: 0.559882\n"
     ]
    },
    {
     "name": "stderr",
     "output_type": "stream",
     "text": [
      "W1002 09:30:09.382910 139821803878208 saver.py:1134] *******************************************************\n",
      "W1002 09:30:09.384428 139821803878208 saver.py:1135] TensorFlow's V1 checkpoint format has been deprecated.\n",
      "W1002 09:30:09.385330 139821803878208 saver.py:1136] Consider switching to the more efficient V2 format:\n",
      "W1002 09:30:09.386226 139821803878208 saver.py:1137]    `tf.train.Saver(write_version=tf.train.SaverDef.V2)`\n",
      "W1002 09:30:09.387691 139821803878208 saver.py:1138] now on by default.\n",
      "W1002 09:30:09.389065 139821803878208 saver.py:1139] *******************************************************\n"
     ]
    },
    {
     "name": "stdout",
     "output_type": "stream",
     "text": [
      "Epoch: 15, Step: 1700, Loss: 0.644987\n",
      "Epoch: 15, Step: 1710, Loss: 0.623825\n",
      "Epoch: 15, Step: 1720, Loss: 0.555752\n",
      "Epoch: 15, Step: 1730, Loss: 0.557143\n",
      "Epoch: 15, Step: 1740, Loss: 0.553009\n",
      "Epoch: 15, Step: 1750, Loss: 0.553207\n",
      "Epoch: 15, Step: 1760, Loss: 0.548525\n",
      "Epoch: 15, Step: 1770, Loss: 0.548224\n",
      "Epoch: 15, Step: 1780, Loss: 0.541237\n",
      "Epoch: 15, Step: 1790, Loss: 0.536833\n"
     ]
    },
    {
     "name": "stderr",
     "output_type": "stream",
     "text": [
      "W1002 09:31:44.176892 139821803878208 saver.py:1134] *******************************************************\n",
      "W1002 09:31:44.177973 139821803878208 saver.py:1135] TensorFlow's V1 checkpoint format has been deprecated.\n",
      "W1002 09:31:44.178786 139821803878208 saver.py:1136] Consider switching to the more efficient V2 format:\n",
      "W1002 09:31:44.179580 139821803878208 saver.py:1137]    `tf.train.Saver(write_version=tf.train.SaverDef.V2)`\n",
      "W1002 09:31:44.180317 139821803878208 saver.py:1138] now on by default.\n",
      "W1002 09:31:44.181086 139821803878208 saver.py:1139] *******************************************************\n"
     ]
    },
    {
     "name": "stdout",
     "output_type": "stream",
     "text": [
      "Epoch: 15, Step: 1800, Loss: 0.542653\n",
      "Epoch: 15, Step: 1810, Loss: 0.539978\n",
      "Epoch: 15, Step: 1820, Loss: 0.53702\n",
      "Epoch: 15, Step: 1830, Loss: 0.543355\n",
      "Epoch: 15, Step: 1840, Loss: 0.537461\n",
      "Epoch: 15, Step: 1850, Loss: 0.56031\n",
      "Epoch: 15, Step: 1860, Loss: 0.604025\n",
      "Epoch: 15, Step: 1870, Loss: 0.761081\n",
      "Epoch: 15, Step: 1880, Loss: 0.737702\n",
      "Epoch: 15, Step: 1890, Loss: 0.669576\n"
     ]
    },
    {
     "name": "stderr",
     "output_type": "stream",
     "text": [
      "W1002 09:33:20.374996 139821803878208 saver.py:1134] *******************************************************\n",
      "W1002 09:33:20.376188 139821803878208 saver.py:1135] TensorFlow's V1 checkpoint format has been deprecated.\n",
      "W1002 09:33:20.377084 139821803878208 saver.py:1136] Consider switching to the more efficient V2 format:\n",
      "W1002 09:33:20.377926 139821803878208 saver.py:1137]    `tf.train.Saver(write_version=tf.train.SaverDef.V2)`\n",
      "W1002 09:33:20.378739 139821803878208 saver.py:1138] now on by default.\n",
      "W1002 09:33:20.379595 139821803878208 saver.py:1139] *******************************************************\n"
     ]
    },
    {
     "name": "stdout",
     "output_type": "stream",
     "text": [
      "Epoch: 15, Step: 1900, Loss: 0.542028\n",
      "Epoch: 15, Step: 1910, Loss: 0.537442\n",
      "Epoch: 15, Step: 1920, Loss: 0.527834\n",
      "Epoch: 15, Step: 1930, Loss: 0.599624\n",
      "Epoch: 15, Step: 1940, Loss: 0.674434\n",
      "Epoch: 15, Step: 1950, Loss: 0.638361\n",
      "Model saved in file: ./save/model2.ckpt\n"
     ]
    },
    {
     "name": "stderr",
     "output_type": "stream",
     "text": [
      "W1002 09:34:13.551562 139821803878208 saver.py:1134] *******************************************************\n",
      "W1002 09:34:13.552568 139821803878208 saver.py:1135] TensorFlow's V1 checkpoint format has been deprecated.\n",
      "W1002 09:34:13.553393 139821803878208 saver.py:1136] Consider switching to the more efficient V2 format:\n",
      "W1002 09:34:13.554811 139821803878208 saver.py:1137]    `tf.train.Saver(write_version=tf.train.SaverDef.V2)`\n",
      "W1002 09:34:13.555578 139821803878208 saver.py:1138] now on by default.\n",
      "W1002 09:34:13.556374 139821803878208 saver.py:1139] *******************************************************\n"
     ]
    },
    {
     "name": "stdout",
     "output_type": "stream",
     "text": [
      "Epoch: 16, Step: 1600, Loss: 0.537849\n",
      "Epoch: 16, Step: 1610, Loss: 0.673619\n",
      "Epoch: 16, Step: 1620, Loss: 0.646741\n",
      "Epoch: 16, Step: 1630, Loss: 0.561304\n",
      "Epoch: 16, Step: 1640, Loss: 0.564611\n",
      "Epoch: 16, Step: 1650, Loss: 0.538577\n",
      "Epoch: 16, Step: 1660, Loss: 0.609082\n",
      "Epoch: 16, Step: 1670, Loss: 0.511869\n",
      "Epoch: 16, Step: 1680, Loss: 0.626776\n",
      "Epoch: 16, Step: 1690, Loss: 0.885186\n"
     ]
    },
    {
     "name": "stderr",
     "output_type": "stream",
     "text": [
      "W1002 09:35:49.766034 139821803878208 saver.py:1134] *******************************************************\n",
      "W1002 09:35:49.767093 139821803878208 saver.py:1135] TensorFlow's V1 checkpoint format has been deprecated.\n",
      "W1002 09:35:49.767850 139821803878208 saver.py:1136] Consider switching to the more efficient V2 format:\n",
      "W1002 09:35:49.768595 139821803878208 saver.py:1137]    `tf.train.Saver(write_version=tf.train.SaverDef.V2)`\n",
      "W1002 09:35:49.769344 139821803878208 saver.py:1138] now on by default.\n",
      "W1002 09:35:49.770045 139821803878208 saver.py:1139] *******************************************************\n"
     ]
    },
    {
     "name": "stdout",
     "output_type": "stream",
     "text": [
      "Epoch: 16, Step: 1700, Loss: 0.600228\n",
      "Epoch: 16, Step: 1710, Loss: 0.795475\n",
      "Epoch: 16, Step: 1720, Loss: 0.870262\n",
      "Epoch: 16, Step: 1730, Loss: 0.939544\n",
      "Epoch: 16, Step: 1740, Loss: 0.869634\n",
      "Epoch: 16, Step: 1750, Loss: 1.1238\n",
      "Epoch: 16, Step: 1760, Loss: 1.34102\n",
      "Epoch: 16, Step: 1770, Loss: 1.41447\n",
      "Epoch: 16, Step: 1780, Loss: 4.7426\n",
      "Epoch: 16, Step: 1790, Loss: 0.516116\n"
     ]
    },
    {
     "name": "stderr",
     "output_type": "stream",
     "text": [
      "W1002 09:37:24.945881 139821803878208 saver.py:1134] *******************************************************\n",
      "W1002 09:37:24.947078 139821803878208 saver.py:1135] TensorFlow's V1 checkpoint format has been deprecated.\n",
      "W1002 09:37:24.947928 139821803878208 saver.py:1136] Consider switching to the more efficient V2 format:\n",
      "W1002 09:37:24.948786 139821803878208 saver.py:1137]    `tf.train.Saver(write_version=tf.train.SaverDef.V2)`\n",
      "W1002 09:37:24.949655 139821803878208 saver.py:1138] now on by default.\n",
      "W1002 09:37:24.950515 139821803878208 saver.py:1139] *******************************************************\n"
     ]
    },
    {
     "name": "stdout",
     "output_type": "stream",
     "text": [
      "Epoch: 16, Step: 1800, Loss: 0.505366\n",
      "Epoch: 16, Step: 1810, Loss: 0.501367\n",
      "Epoch: 16, Step: 1820, Loss: 0.498802\n",
      "Epoch: 16, Step: 1830, Loss: 0.509029\n",
      "Epoch: 16, Step: 1840, Loss: 0.50861\n",
      "Epoch: 16, Step: 1850, Loss: 0.515984\n",
      "Epoch: 16, Step: 1860, Loss: 0.498909\n",
      "Epoch: 16, Step: 1870, Loss: 0.560845\n",
      "Epoch: 16, Step: 1880, Loss: 0.519329\n",
      "Epoch: 16, Step: 1890, Loss: 0.615518\n"
     ]
    },
    {
     "name": "stderr",
     "output_type": "stream",
     "text": [
      "W1002 09:39:00.800654 139821803878208 saver.py:1134] *******************************************************\n",
      "W1002 09:39:00.801797 139821803878208 saver.py:1135] TensorFlow's V1 checkpoint format has been deprecated.\n",
      "W1002 09:39:00.802703 139821803878208 saver.py:1136] Consider switching to the more efficient V2 format:\n",
      "W1002 09:39:00.803707 139821803878208 saver.py:1137]    `tf.train.Saver(write_version=tf.train.SaverDef.V2)`\n",
      "W1002 09:39:00.804764 139821803878208 saver.py:1138] now on by default.\n",
      "W1002 09:39:00.805860 139821803878208 saver.py:1139] *******************************************************\n"
     ]
    },
    {
     "name": "stdout",
     "output_type": "stream",
     "text": [
      "Epoch: 16, Step: 1900, Loss: 0.499094\n",
      "Epoch: 16, Step: 1910, Loss: 0.496535\n",
      "Epoch: 16, Step: 1920, Loss: 0.523302\n",
      "Epoch: 16, Step: 1930, Loss: 0.496467\n",
      "Epoch: 16, Step: 1940, Loss: 0.491363\n",
      "Epoch: 16, Step: 1950, Loss: 0.499998\n",
      "Epoch: 16, Step: 1960, Loss: 0.666831\n",
      "Epoch: 16, Step: 1970, Loss: 0.521948\n",
      "Epoch: 16, Step: 1980, Loss: 1.32909\n",
      "Epoch: 16, Step: 1990, Loss: 0.557594\n"
     ]
    },
    {
     "name": "stderr",
     "output_type": "stream",
     "text": [
      "W1002 09:40:38.615384 139821803878208 saver.py:1134] *******************************************************\n",
      "W1002 09:40:38.616576 139821803878208 saver.py:1135] TensorFlow's V1 checkpoint format has been deprecated.\n",
      "W1002 09:40:38.617422 139821803878208 saver.py:1136] Consider switching to the more efficient V2 format:\n",
      "W1002 09:40:38.618279 139821803878208 saver.py:1137]    `tf.train.Saver(write_version=tf.train.SaverDef.V2)`\n",
      "W1002 09:40:38.619108 139821803878208 saver.py:1138] now on by default.\n",
      "W1002 09:40:38.619946 139821803878208 saver.py:1139] *******************************************************\n"
     ]
    },
    {
     "name": "stdout",
     "output_type": "stream",
     "text": [
      "Epoch: 16, Step: 2000, Loss: 0.709074\n",
      "Epoch: 16, Step: 2010, Loss: 0.702135\n",
      "Epoch: 16, Step: 2020, Loss: 0.530348\n",
      "Epoch: 16, Step: 2030, Loss: 0.490892\n",
      "Epoch: 16, Step: 2040, Loss: 0.620353\n",
      "Epoch: 16, Step: 2050, Loss: 0.913928\n",
      "Model saved in file: ./save/model2.ckpt\n"
     ]
    },
    {
     "name": "stderr",
     "output_type": "stream",
     "text": [
      "W1002 09:41:30.646014 139821803878208 saver.py:1134] *******************************************************\n",
      "W1002 09:41:30.647088 139821803878208 saver.py:1135] TensorFlow's V1 checkpoint format has been deprecated.\n",
      "W1002 09:41:30.648026 139821803878208 saver.py:1136] Consider switching to the more efficient V2 format:\n",
      "W1002 09:41:30.649074 139821803878208 saver.py:1137]    `tf.train.Saver(write_version=tf.train.SaverDef.V2)`\n",
      "W1002 09:41:30.650111 139821803878208 saver.py:1138] now on by default.\n",
      "W1002 09:41:30.651208 139821803878208 saver.py:1139] *******************************************************\n"
     ]
    },
    {
     "name": "stdout",
     "output_type": "stream",
     "text": [
      "Epoch: 17, Step: 1700, Loss: 0.583861\n",
      "Epoch: 17, Step: 1710, Loss: 0.560063\n",
      "Epoch: 17, Step: 1720, Loss: 0.854248\n",
      "Epoch: 17, Step: 1730, Loss: 4.06771\n",
      "Epoch: 17, Step: 1740, Loss: 2.09542\n",
      "Epoch: 17, Step: 1750, Loss: 0.53491\n",
      "Epoch: 17, Step: 1760, Loss: 0.488151\n",
      "Epoch: 17, Step: 1770, Loss: 0.595288\n",
      "Epoch: 17, Step: 1780, Loss: 0.530348\n",
      "Epoch: 17, Step: 1790, Loss: 0.487086\n"
     ]
    },
    {
     "name": "stderr",
     "output_type": "stream",
     "text": [
      "W1002 09:43:05.487970 139821803878208 saver.py:1134] *******************************************************\n",
      "W1002 09:43:05.489059 139821803878208 saver.py:1135] TensorFlow's V1 checkpoint format has been deprecated.\n",
      "W1002 09:43:05.489863 139821803878208 saver.py:1136] Consider switching to the more efficient V2 format:\n",
      "W1002 09:43:05.491181 139821803878208 saver.py:1137]    `tf.train.Saver(write_version=tf.train.SaverDef.V2)`\n",
      "W1002 09:43:05.491923 139821803878208 saver.py:1138] now on by default.\n",
      "W1002 09:43:05.492981 139821803878208 saver.py:1139] *******************************************************\n"
     ]
    },
    {
     "name": "stdout",
     "output_type": "stream",
     "text": [
      "Epoch: 17, Step: 1800, Loss: 0.550456\n",
      "Epoch: 17, Step: 1810, Loss: 0.579124\n",
      "Epoch: 17, Step: 1820, Loss: 0.469299\n",
      "Epoch: 17, Step: 1830, Loss: 0.474985\n",
      "Epoch: 17, Step: 1840, Loss: 0.476422\n",
      "Epoch: 17, Step: 1850, Loss: 0.483388\n",
      "Epoch: 17, Step: 1860, Loss: 0.467067\n",
      "Epoch: 17, Step: 1870, Loss: 0.47206\n",
      "Epoch: 17, Step: 1880, Loss: 0.479515\n",
      "Epoch: 17, Step: 1890, Loss: 0.530175\n"
     ]
    },
    {
     "name": "stderr",
     "output_type": "stream",
     "text": [
      "W1002 09:44:40.902332 139821803878208 saver.py:1134] *******************************************************\n",
      "W1002 09:44:40.903372 139821803878208 saver.py:1135] TensorFlow's V1 checkpoint format has been deprecated.\n",
      "W1002 09:44:40.904150 139821803878208 saver.py:1136] Consider switching to the more efficient V2 format:\n",
      "W1002 09:44:40.904859 139821803878208 saver.py:1137]    `tf.train.Saver(write_version=tf.train.SaverDef.V2)`\n",
      "W1002 09:44:40.905580 139821803878208 saver.py:1138] now on by default.\n",
      "W1002 09:44:40.906270 139821803878208 saver.py:1139] *******************************************************\n"
     ]
    },
    {
     "name": "stdout",
     "output_type": "stream",
     "text": [
      "Epoch: 17, Step: 1900, Loss: 0.482812\n",
      "Epoch: 17, Step: 1910, Loss: 0.499999\n",
      "Epoch: 17, Step: 1920, Loss: 0.507905\n",
      "Epoch: 17, Step: 1930, Loss: 0.495405\n",
      "Epoch: 17, Step: 1940, Loss: 0.549453\n",
      "Epoch: 17, Step: 1950, Loss: 0.693138\n",
      "Epoch: 17, Step: 1960, Loss: 0.773592\n",
      "Epoch: 17, Step: 1970, Loss: 0.909758\n",
      "Epoch: 17, Step: 1980, Loss: 2.20981\n",
      "Epoch: 17, Step: 1990, Loss: 3.4112\n"
     ]
    },
    {
     "name": "stderr",
     "output_type": "stream",
     "text": [
      "W1002 09:46:18.515691 139821803878208 saver.py:1134] *******************************************************\n",
      "W1002 09:46:18.516732 139821803878208 saver.py:1135] TensorFlow's V1 checkpoint format has been deprecated.\n",
      "W1002 09:46:18.517604 139821803878208 saver.py:1136] Consider switching to the more efficient V2 format:\n",
      "W1002 09:46:18.518426 139821803878208 saver.py:1137]    `tf.train.Saver(write_version=tf.train.SaverDef.V2)`\n",
      "W1002 09:46:18.519218 139821803878208 saver.py:1138] now on by default.\n",
      "W1002 09:46:18.520212 139821803878208 saver.py:1139] *******************************************************\n"
     ]
    },
    {
     "name": "stdout",
     "output_type": "stream",
     "text": [
      "Epoch: 17, Step: 2000, Loss: 0.840756\n",
      "Epoch: 17, Step: 2010, Loss: 0.496933\n",
      "Epoch: 17, Step: 2020, Loss: 0.524976\n",
      "Epoch: 17, Step: 2030, Loss: 0.457257\n",
      "Epoch: 17, Step: 2040, Loss: 0.465628\n",
      "Epoch: 17, Step: 2050, Loss: 0.734823\n",
      "Epoch: 17, Step: 2060, Loss: 0.948857\n",
      "Epoch: 17, Step: 2070, Loss: 0.722443\n",
      "Epoch: 17, Step: 2080, Loss: 0.573703\n",
      "Epoch: 17, Step: 2090, Loss: 0.477861\n"
     ]
    },
    {
     "name": "stderr",
     "output_type": "stream",
     "text": [
      "W1002 09:47:53.525356 139821803878208 saver.py:1134] *******************************************************\n",
      "W1002 09:47:53.526432 139821803878208 saver.py:1135] TensorFlow's V1 checkpoint format has been deprecated.\n",
      "W1002 09:47:53.527329 139821803878208 saver.py:1136] Consider switching to the more efficient V2 format:\n",
      "W1002 09:47:53.528200 139821803878208 saver.py:1137]    `tf.train.Saver(write_version=tf.train.SaverDef.V2)`\n",
      "W1002 09:47:53.529072 139821803878208 saver.py:1138] now on by default.\n",
      "W1002 09:47:53.529946 139821803878208 saver.py:1139] *******************************************************\n"
     ]
    },
    {
     "name": "stdout",
     "output_type": "stream",
     "text": [
      "Epoch: 17, Step: 2100, Loss: 0.456496\n",
      "Epoch: 17, Step: 2110, Loss: 0.487861\n",
      "Epoch: 17, Step: 2120, Loss: 0.509272\n",
      "Epoch: 17, Step: 2130, Loss: 0.511022\n",
      "Epoch: 17, Step: 2140, Loss: 0.46504\n",
      "Epoch: 17, Step: 2150, Loss: 0.528441\n",
      "Model saved in file: ./save/model2.ckpt\n"
     ]
    },
    {
     "name": "stderr",
     "output_type": "stream",
     "text": [
      "W1002 09:48:45.013305 139821803878208 saver.py:1134] *******************************************************\n",
      "W1002 09:48:45.014381 139821803878208 saver.py:1135] TensorFlow's V1 checkpoint format has been deprecated.\n",
      "W1002 09:48:45.015287 139821803878208 saver.py:1136] Consider switching to the more efficient V2 format:\n",
      "W1002 09:48:45.016731 139821803878208 saver.py:1137]    `tf.train.Saver(write_version=tf.train.SaverDef.V2)`\n",
      "W1002 09:48:45.017608 139821803878208 saver.py:1138] now on by default.\n",
      "W1002 09:48:45.018494 139821803878208 saver.py:1139] *******************************************************\n"
     ]
    },
    {
     "name": "stdout",
     "output_type": "stream",
     "text": [
      "Epoch: 18, Step: 1800, Loss: 0.640209\n",
      "Epoch: 18, Step: 1810, Loss: 0.455814\n",
      "Epoch: 18, Step: 1820, Loss: 0.447144\n",
      "Epoch: 18, Step: 1830, Loss: 0.449517\n",
      "Epoch: 18, Step: 1840, Loss: 0.460778\n",
      "Epoch: 18, Step: 1850, Loss: 0.51925\n",
      "Epoch: 18, Step: 1860, Loss: 0.465325\n",
      "Epoch: 18, Step: 1870, Loss: 0.511532\n",
      "Epoch: 18, Step: 1880, Loss: 0.683829\n",
      "Epoch: 18, Step: 1890, Loss: 0.693012\n"
     ]
    },
    {
     "name": "stderr",
     "output_type": "stream",
     "text": [
      "W1002 09:50:20.676000 139821803878208 saver.py:1134] *******************************************************\n",
      "W1002 09:50:20.677550 139821803878208 saver.py:1135] TensorFlow's V1 checkpoint format has been deprecated.\n",
      "W1002 09:50:20.678410 139821803878208 saver.py:1136] Consider switching to the more efficient V2 format:\n",
      "W1002 09:50:20.679619 139821803878208 saver.py:1137]    `tf.train.Saver(write_version=tf.train.SaverDef.V2)`\n",
      "W1002 09:50:20.680372 139821803878208 saver.py:1138] now on by default.\n",
      "W1002 09:50:20.681674 139821803878208 saver.py:1139] *******************************************************\n"
     ]
    },
    {
     "name": "stdout",
     "output_type": "stream",
     "text": [
      "Epoch: 18, Step: 1900, Loss: 1.3445\n",
      "Epoch: 18, Step: 1910, Loss: 1.0603\n",
      "Epoch: 18, Step: 1920, Loss: 0.715551\n",
      "Epoch: 18, Step: 1930, Loss: 0.568689\n",
      "Epoch: 18, Step: 1940, Loss: 0.629453\n",
      "Epoch: 18, Step: 1950, Loss: 0.631704\n",
      "Epoch: 18, Step: 1960, Loss: 3.56361\n",
      "Epoch: 18, Step: 1970, Loss: 2.92679\n",
      "Epoch: 18, Step: 1980, Loss: 0.577994\n",
      "Epoch: 18, Step: 1990, Loss: 0.888675\n"
     ]
    },
    {
     "name": "stderr",
     "output_type": "stream",
     "text": [
      "W1002 09:51:58.216946 139821803878208 saver.py:1134] *******************************************************\n",
      "W1002 09:51:58.218011 139821803878208 saver.py:1135] TensorFlow's V1 checkpoint format has been deprecated.\n",
      "W1002 09:51:58.219077 139821803878208 saver.py:1136] Consider switching to the more efficient V2 format:\n",
      "W1002 09:51:58.220236 139821803878208 saver.py:1137]    `tf.train.Saver(write_version=tf.train.SaverDef.V2)`\n",
      "W1002 09:51:58.221367 139821803878208 saver.py:1138] now on by default.\n",
      "W1002 09:51:58.222420 139821803878208 saver.py:1139] *******************************************************\n"
     ]
    },
    {
     "name": "stdout",
     "output_type": "stream",
     "text": [
      "Epoch: 18, Step: 2000, Loss: 2.49783\n",
      "Epoch: 18, Step: 2010, Loss: 0.760098\n",
      "Epoch: 18, Step: 2020, Loss: 0.616858\n",
      "Epoch: 18, Step: 2030, Loss: 1.74954\n",
      "Epoch: 18, Step: 2040, Loss: 0.490443\n",
      "Epoch: 18, Step: 2050, Loss: 0.447409\n",
      "Epoch: 18, Step: 2060, Loss: 0.965589\n",
      "Epoch: 18, Step: 2070, Loss: 0.729077\n",
      "Epoch: 18, Step: 2080, Loss: 0.591536\n",
      "Epoch: 18, Step: 2090, Loss: 0.46864\n"
     ]
    },
    {
     "name": "stderr",
     "output_type": "stream",
     "text": [
      "W1002 09:53:33.773415 139821803878208 saver.py:1134] *******************************************************\n",
      "W1002 09:53:33.774533 139821803878208 saver.py:1135] TensorFlow's V1 checkpoint format has been deprecated.\n",
      "W1002 09:53:33.775577 139821803878208 saver.py:1136] Consider switching to the more efficient V2 format:\n",
      "W1002 09:53:33.776459 139821803878208 saver.py:1137]    `tf.train.Saver(write_version=tf.train.SaverDef.V2)`\n",
      "W1002 09:53:33.777327 139821803878208 saver.py:1138] now on by default.\n",
      "W1002 09:53:33.778194 139821803878208 saver.py:1139] *******************************************************\n"
     ]
    },
    {
     "name": "stdout",
     "output_type": "stream",
     "text": [
      "Epoch: 18, Step: 2100, Loss: 0.468373\n",
      "Epoch: 18, Step: 2110, Loss: 0.441755\n",
      "Epoch: 18, Step: 2120, Loss: 0.509596\n",
      "Epoch: 18, Step: 2130, Loss: 0.607887\n",
      "Epoch: 18, Step: 2140, Loss: 0.494136\n",
      "Epoch: 18, Step: 2150, Loss: 0.704708\n",
      "Epoch: 18, Step: 2160, Loss: 0.713239\n",
      "Epoch: 18, Step: 2170, Loss: 0.69866\n",
      "Epoch: 18, Step: 2180, Loss: 0.430636\n",
      "Epoch: 18, Step: 2190, Loss: 0.435037\n"
     ]
    },
    {
     "name": "stderr",
     "output_type": "stream",
     "text": [
      "W1002 09:55:09.038760 139821803878208 saver.py:1134] *******************************************************\n",
      "W1002 09:55:09.040066 139821803878208 saver.py:1135] TensorFlow's V1 checkpoint format has been deprecated.\n",
      "W1002 09:55:09.041019 139821803878208 saver.py:1136] Consider switching to the more efficient V2 format:\n",
      "W1002 09:55:09.041890 139821803878208 saver.py:1137]    `tf.train.Saver(write_version=tf.train.SaverDef.V2)`\n",
      "W1002 09:55:09.042766 139821803878208 saver.py:1138] now on by default.\n",
      "W1002 09:55:09.043698 139821803878208 saver.py:1139] *******************************************************\n"
     ]
    },
    {
     "name": "stdout",
     "output_type": "stream",
     "text": [
      "Epoch: 18, Step: 2200, Loss: 0.429727\n",
      "Epoch: 18, Step: 2210, Loss: 0.424772\n",
      "Epoch: 18, Step: 2220, Loss: 0.428622\n",
      "Epoch: 18, Step: 2230, Loss: 0.46443\n",
      "Epoch: 18, Step: 2240, Loss: 0.494473\n",
      "Epoch: 18, Step: 2250, Loss: 0.502558\n",
      "Model saved in file: ./save/model2.ckpt\n"
     ]
    },
    {
     "name": "stderr",
     "output_type": "stream",
     "text": [
      "W1002 09:56:01.320405 139821803878208 saver.py:1134] *******************************************************\n",
      "W1002 09:56:01.321856 139821803878208 saver.py:1135] TensorFlow's V1 checkpoint format has been deprecated.\n",
      "W1002 09:56:01.322751 139821803878208 saver.py:1136] Consider switching to the more efficient V2 format:\n",
      "W1002 09:56:01.323535 139821803878208 saver.py:1137]    `tf.train.Saver(write_version=tf.train.SaverDef.V2)`\n",
      "W1002 09:56:01.324428 139821803878208 saver.py:1138] now on by default.\n",
      "W1002 09:56:01.325535 139821803878208 saver.py:1139] *******************************************************\n"
     ]
    },
    {
     "name": "stdout",
     "output_type": "stream",
     "text": [
      "Epoch: 19, Step: 1900, Loss: 0.863839\n",
      "Epoch: 19, Step: 1910, Loss: 0.621945\n",
      "Epoch: 19, Step: 1920, Loss: 5.6755\n",
      "Epoch: 19, Step: 1930, Loss: 0.684451\n",
      "Epoch: 19, Step: 1940, Loss: 0.522462\n",
      "Epoch: 19, Step: 1950, Loss: 0.515096\n",
      "Epoch: 19, Step: 1960, Loss: 0.435987\n",
      "Epoch: 19, Step: 1970, Loss: 0.424293\n",
      "Epoch: 19, Step: 1980, Loss: 0.432748\n",
      "Epoch: 19, Step: 1990, Loss: 0.532929\n"
     ]
    },
    {
     "name": "stderr",
     "output_type": "stream",
     "text": [
      "W1002 09:57:38.159739 139821803878208 saver.py:1134] *******************************************************\n",
      "W1002 09:57:38.160898 139821803878208 saver.py:1135] TensorFlow's V1 checkpoint format has been deprecated.\n",
      "W1002 09:57:38.162024 139821803878208 saver.py:1136] Consider switching to the more efficient V2 format:\n",
      "W1002 09:57:38.162774 139821803878208 saver.py:1137]    `tf.train.Saver(write_version=tf.train.SaverDef.V2)`\n",
      "W1002 09:57:38.163465 139821803878208 saver.py:1138] now on by default.\n",
      "W1002 09:57:38.165400 139821803878208 saver.py:1139] *******************************************************\n"
     ]
    },
    {
     "name": "stdout",
     "output_type": "stream",
     "text": [
      "Epoch: 19, Step: 2000, Loss: 0.728707\n",
      "Epoch: 19, Step: 2010, Loss: 3.25641\n",
      "Epoch: 19, Step: 2020, Loss: 0.480189\n",
      "Epoch: 19, Step: 2030, Loss: 0.419632\n",
      "Epoch: 19, Step: 2040, Loss: 0.659917\n",
      "Epoch: 19, Step: 2050, Loss: 0.412795\n",
      "Epoch: 19, Step: 2060, Loss: 0.508013\n",
      "Epoch: 19, Step: 2070, Loss: 0.452499\n",
      "Epoch: 19, Step: 2080, Loss: 0.555616\n",
      "Epoch: 19, Step: 2090, Loss: 0.490983\n"
     ]
    },
    {
     "name": "stderr",
     "output_type": "stream",
     "text": [
      "W1002 09:59:13.509473 139821803878208 saver.py:1134] *******************************************************\n",
      "W1002 09:59:13.510552 139821803878208 saver.py:1135] TensorFlow's V1 checkpoint format has been deprecated.\n",
      "W1002 09:59:13.511405 139821803878208 saver.py:1136] Consider switching to the more efficient V2 format:\n",
      "W1002 09:59:13.512261 139821803878208 saver.py:1137]    `tf.train.Saver(write_version=tf.train.SaverDef.V2)`\n",
      "W1002 09:59:13.513119 139821803878208 saver.py:1138] now on by default.\n",
      "W1002 09:59:13.513991 139821803878208 saver.py:1139] *******************************************************\n"
     ]
    },
    {
     "name": "stdout",
     "output_type": "stream",
     "text": [
      "Epoch: 19, Step: 2100, Loss: 0.453409\n",
      "Epoch: 19, Step: 2110, Loss: 0.468299\n",
      "Epoch: 19, Step: 2120, Loss: 0.435273\n",
      "Epoch: 19, Step: 2130, Loss: 0.413702\n",
      "Epoch: 19, Step: 2140, Loss: 0.413095\n",
      "Epoch: 19, Step: 2150, Loss: 0.416279\n",
      "Epoch: 19, Step: 2160, Loss: 0.422179\n",
      "Epoch: 19, Step: 2170, Loss: 0.417651\n",
      "Epoch: 19, Step: 2180, Loss: 0.426112\n",
      "Epoch: 19, Step: 2190, Loss: 0.420037\n"
     ]
    },
    {
     "name": "stderr",
     "output_type": "stream",
     "text": [
      "W1002 10:00:48.329550 139821803878208 saver.py:1134] *******************************************************\n",
      "W1002 10:00:48.330732 139821803878208 saver.py:1135] TensorFlow's V1 checkpoint format has been deprecated.\n",
      "W1002 10:00:48.331913 139821803878208 saver.py:1136] Consider switching to the more efficient V2 format:\n",
      "W1002 10:00:48.332873 139821803878208 saver.py:1137]    `tf.train.Saver(write_version=tf.train.SaverDef.V2)`\n",
      "W1002 10:00:48.333898 139821803878208 saver.py:1138] now on by default.\n",
      "W1002 10:00:48.334843 139821803878208 saver.py:1139] *******************************************************\n"
     ]
    },
    {
     "name": "stdout",
     "output_type": "stream",
     "text": [
      "Epoch: 19, Step: 2200, Loss: 0.41069\n",
      "Epoch: 19, Step: 2210, Loss: 0.411412\n",
      "Epoch: 19, Step: 2220, Loss: 0.45113\n",
      "Epoch: 19, Step: 2230, Loss: 0.429058\n",
      "Epoch: 19, Step: 2240, Loss: 0.623018\n",
      "Epoch: 19, Step: 2250, Loss: 1.01129\n",
      "Epoch: 19, Step: 2260, Loss: 0.686599\n",
      "Epoch: 19, Step: 2270, Loss: 0.462112\n",
      "Epoch: 19, Step: 2280, Loss: 0.408828\n",
      "Epoch: 19, Step: 2290, Loss: 0.403027\n"
     ]
    },
    {
     "name": "stderr",
     "output_type": "stream",
     "text": [
      "W1002 10:02:24.526359 139821803878208 saver.py:1134] *******************************************************\n",
      "W1002 10:02:24.527444 139821803878208 saver.py:1135] TensorFlow's V1 checkpoint format has been deprecated.\n",
      "W1002 10:02:24.528311 139821803878208 saver.py:1136] Consider switching to the more efficient V2 format:\n",
      "W1002 10:02:24.529233 139821803878208 saver.py:1137]    `tf.train.Saver(write_version=tf.train.SaverDef.V2)`\n",
      "W1002 10:02:24.530070 139821803878208 saver.py:1138] now on by default.\n",
      "W1002 10:02:24.530990 139821803878208 saver.py:1139] *******************************************************\n"
     ]
    },
    {
     "name": "stdout",
     "output_type": "stream",
     "text": [
      "Epoch: 19, Step: 2300, Loss: 0.430143\n",
      "Epoch: 19, Step: 2310, Loss: 0.454634\n",
      "Epoch: 19, Step: 2320, Loss: 0.607916\n",
      "Epoch: 19, Step: 2330, Loss: 0.540187\n",
      "Epoch: 19, Step: 2340, Loss: 0.431905\n",
      "Epoch: 19, Step: 2350, Loss: 0.444265\n",
      "Model saved in file: ./save/model2.ckpt\n"
     ]
    },
    {
     "name": "stderr",
     "output_type": "stream",
     "text": [
      "W1002 10:03:17.780499 139821803878208 saver.py:1134] *******************************************************\n",
      "W1002 10:03:17.781551 139821803878208 saver.py:1135] TensorFlow's V1 checkpoint format has been deprecated.\n",
      "W1002 10:03:17.782472 139821803878208 saver.py:1136] Consider switching to the more efficient V2 format:\n",
      "W1002 10:03:17.783605 139821803878208 saver.py:1137]    `tf.train.Saver(write_version=tf.train.SaverDef.V2)`\n",
      "W1002 10:03:17.786120 139821803878208 saver.py:1138] now on by default.\n",
      "W1002 10:03:17.787339 139821803878208 saver.py:1139] *******************************************************\n"
     ]
    },
    {
     "name": "stdout",
     "output_type": "stream",
     "text": [
      "Epoch: 20, Step: 2000, Loss: 0.438721\n",
      "Epoch: 20, Step: 2010, Loss: 0.481983\n",
      "Epoch: 20, Step: 2020, Loss: 0.987763\n",
      "Epoch: 20, Step: 2030, Loss: 0.454795\n",
      "Epoch: 20, Step: 2040, Loss: 0.475992\n",
      "Epoch: 20, Step: 2050, Loss: 0.6376\n",
      "Epoch: 20, Step: 2060, Loss: 0.530041\n",
      "Epoch: 20, Step: 2070, Loss: 0.737878\n",
      "Epoch: 20, Step: 2080, Loss: 0.495989\n",
      "Epoch: 20, Step: 2090, Loss: 0.61682\n"
     ]
    },
    {
     "name": "stderr",
     "output_type": "stream",
     "text": [
      "W1002 10:04:53.835938 139821803878208 saver.py:1134] *******************************************************\n",
      "W1002 10:04:53.836946 139821803878208 saver.py:1135] TensorFlow's V1 checkpoint format has been deprecated.\n",
      "W1002 10:04:53.837766 139821803878208 saver.py:1136] Consider switching to the more efficient V2 format:\n",
      "W1002 10:04:53.838575 139821803878208 saver.py:1137]    `tf.train.Saver(write_version=tf.train.SaverDef.V2)`\n",
      "W1002 10:04:53.839343 139821803878208 saver.py:1138] now on by default.\n",
      "W1002 10:04:53.840161 139821803878208 saver.py:1139] *******************************************************\n"
     ]
    },
    {
     "name": "stdout",
     "output_type": "stream",
     "text": [
      "Epoch: 20, Step: 2100, Loss: 0.398406\n",
      "Epoch: 20, Step: 2110, Loss: 0.438045\n",
      "Epoch: 20, Step: 2120, Loss: 0.612404\n",
      "Epoch: 20, Step: 2130, Loss: 0.621281\n",
      "Epoch: 20, Step: 2140, Loss: 0.494509\n",
      "Epoch: 20, Step: 2150, Loss: 4.22289\n",
      "Epoch: 20, Step: 2160, Loss: 1.62222\n",
      "Epoch: 20, Step: 2170, Loss: 0.398084\n",
      "Epoch: 20, Step: 2180, Loss: 0.39621\n",
      "Epoch: 20, Step: 2190, Loss: 0.390502\n"
     ]
    },
    {
     "name": "stderr",
     "output_type": "stream",
     "text": [
      "W1002 10:06:28.565822 139821803878208 saver.py:1134] *******************************************************\n",
      "W1002 10:06:28.567373 139821803878208 saver.py:1135] TensorFlow's V1 checkpoint format has been deprecated.\n",
      "W1002 10:06:28.568341 139821803878208 saver.py:1136] Consider switching to the more efficient V2 format:\n",
      "W1002 10:06:28.569560 139821803878208 saver.py:1137]    `tf.train.Saver(write_version=tf.train.SaverDef.V2)`\n",
      "W1002 10:06:28.570693 139821803878208 saver.py:1138] now on by default.\n",
      "W1002 10:06:28.571964 139821803878208 saver.py:1139] *******************************************************\n"
     ]
    },
    {
     "name": "stdout",
     "output_type": "stream",
     "text": [
      "Epoch: 20, Step: 2200, Loss: 0.392168\n",
      "Epoch: 20, Step: 2210, Loss: 0.394019\n",
      "Epoch: 20, Step: 2220, Loss: 0.408283\n",
      "Epoch: 20, Step: 2230, Loss: 0.39169\n",
      "Epoch: 20, Step: 2240, Loss: 0.391655\n",
      "Epoch: 20, Step: 2250, Loss: 0.406843\n",
      "Epoch: 20, Step: 2260, Loss: 0.392598\n",
      "Epoch: 20, Step: 2270, Loss: 0.738516\n",
      "Epoch: 20, Step: 2280, Loss: 0.440424\n",
      "Epoch: 20, Step: 2290, Loss: 0.431845\n"
     ]
    },
    {
     "name": "stderr",
     "output_type": "stream",
     "text": [
      "W1002 10:08:04.590903 139821803878208 saver.py:1134] *******************************************************\n",
      "W1002 10:08:04.591952 139821803878208 saver.py:1135] TensorFlow's V1 checkpoint format has been deprecated.\n",
      "W1002 10:08:04.592795 139821803878208 saver.py:1136] Consider switching to the more efficient V2 format:\n",
      "W1002 10:08:04.593819 139821803878208 saver.py:1137]    `tf.train.Saver(write_version=tf.train.SaverDef.V2)`\n",
      "W1002 10:08:04.595043 139821803878208 saver.py:1138] now on by default.\n",
      "W1002 10:08:04.598466 139821803878208 saver.py:1139] *******************************************************\n"
     ]
    },
    {
     "name": "stdout",
     "output_type": "stream",
     "text": [
      "Epoch: 20, Step: 2300, Loss: 0.393901\n",
      "Epoch: 20, Step: 2310, Loss: 0.386371\n",
      "Epoch: 20, Step: 2320, Loss: 0.390432\n",
      "Epoch: 20, Step: 2330, Loss: 0.395995\n",
      "Epoch: 20, Step: 2340, Loss: 0.383478\n",
      "Epoch: 20, Step: 2350, Loss: 0.388843\n",
      "Epoch: 20, Step: 2360, Loss: 0.496473\n",
      "Epoch: 20, Step: 2370, Loss: 0.487492\n",
      "Epoch: 20, Step: 2380, Loss: 1.76064\n",
      "Epoch: 20, Step: 2390, Loss: 3.97235\n"
     ]
    },
    {
     "name": "stderr",
     "output_type": "stream",
     "text": [
      "W1002 10:09:44.987130 139821803878208 saver.py:1134] *******************************************************\n",
      "W1002 10:09:44.988325 139821803878208 saver.py:1135] TensorFlow's V1 checkpoint format has been deprecated.\n",
      "W1002 10:09:44.989575 139821803878208 saver.py:1136] Consider switching to the more efficient V2 format:\n",
      "W1002 10:09:44.990396 139821803878208 saver.py:1137]    `tf.train.Saver(write_version=tf.train.SaverDef.V2)`\n",
      "W1002 10:09:44.991385 139821803878208 saver.py:1138] now on by default.\n",
      "W1002 10:09:44.992265 139821803878208 saver.py:1139] *******************************************************\n"
     ]
    },
    {
     "name": "stdout",
     "output_type": "stream",
     "text": [
      "Epoch: 20, Step: 2400, Loss: 0.656192\n",
      "Epoch: 20, Step: 2410, Loss: 0.500718\n",
      "Epoch: 20, Step: 2420, Loss: 0.910926\n",
      "Epoch: 20, Step: 2430, Loss: 0.401767\n",
      "Epoch: 20, Step: 2440, Loss: 0.389269\n",
      "Epoch: 20, Step: 2450, Loss: 0.677584\n",
      "Model saved in file: ./save/model2.ckpt\n"
     ]
    },
    {
     "name": "stderr",
     "output_type": "stream",
     "text": [
      "W1002 10:10:36.957623 139821803878208 saver.py:1134] *******************************************************\n",
      "W1002 10:10:36.958781 139821803878208 saver.py:1135] TensorFlow's V1 checkpoint format has been deprecated.\n",
      "W1002 10:10:36.959646 139821803878208 saver.py:1136] Consider switching to the more efficient V2 format:\n",
      "W1002 10:10:36.960629 139821803878208 saver.py:1137]    `tf.train.Saver(write_version=tf.train.SaverDef.V2)`\n",
      "W1002 10:10:36.961688 139821803878208 saver.py:1138] now on by default.\n",
      "W1002 10:10:36.962610 139821803878208 saver.py:1139] *******************************************************\n"
     ]
    },
    {
     "name": "stdout",
     "output_type": "stream",
     "text": [
      "Epoch: 21, Step: 2100, Loss: 0.473966\n",
      "Epoch: 21, Step: 2110, Loss: 5.62705\n",
      "Epoch: 21, Step: 2120, Loss: 0.406376\n",
      "Epoch: 21, Step: 2130, Loss: 0.422427\n",
      "Epoch: 21, Step: 2140, Loss: 0.40212\n",
      "Epoch: 21, Step: 2150, Loss: 0.397426\n",
      "Epoch: 21, Step: 2160, Loss: 0.412744\n",
      "Epoch: 21, Step: 2170, Loss: 0.376809\n",
      "Epoch: 21, Step: 2180, Loss: 0.413001\n",
      "Epoch: 21, Step: 2190, Loss: 0.397209\n"
     ]
    },
    {
     "name": "stderr",
     "output_type": "stream",
     "text": [
      "W1002 10:12:11.476959 139821803878208 saver.py:1134] *******************************************************\n",
      "W1002 10:12:11.478328 139821803878208 saver.py:1135] TensorFlow's V1 checkpoint format has been deprecated.\n",
      "W1002 10:12:11.479109 139821803878208 saver.py:1136] Consider switching to the more efficient V2 format:\n",
      "W1002 10:12:11.479847 139821803878208 saver.py:1137]    `tf.train.Saver(write_version=tf.train.SaverDef.V2)`\n",
      "W1002 10:12:11.480596 139821803878208 saver.py:1138] now on by default.\n",
      "W1002 10:12:11.481580 139821803878208 saver.py:1139] *******************************************************\n"
     ]
    },
    {
     "name": "stdout",
     "output_type": "stream",
     "text": [
      "Epoch: 21, Step: 2200, Loss: 0.372569\n",
      "Epoch: 21, Step: 2210, Loss: 0.403085\n",
      "Epoch: 21, Step: 2220, Loss: 0.381104\n",
      "Epoch: 21, Step: 2230, Loss: 0.381598\n",
      "Epoch: 21, Step: 2240, Loss: 0.386051\n",
      "Epoch: 21, Step: 2250, Loss: 0.428002\n",
      "Epoch: 21, Step: 2260, Loss: 0.402222\n",
      "Epoch: 21, Step: 2270, Loss: 0.401498\n",
      "Epoch: 21, Step: 2280, Loss: 0.617606\n",
      "Epoch: 21, Step: 2290, Loss: 0.612473\n"
     ]
    },
    {
     "name": "stderr",
     "output_type": "stream",
     "text": [
      "W1002 10:13:47.159880 139821803878208 saver.py:1134] *******************************************************\n",
      "W1002 10:13:47.161116 139821803878208 saver.py:1135] TensorFlow's V1 checkpoint format has been deprecated.\n",
      "W1002 10:13:47.161992 139821803878208 saver.py:1136] Consider switching to the more efficient V2 format:\n",
      "W1002 10:13:47.162859 139821803878208 saver.py:1137]    `tf.train.Saver(write_version=tf.train.SaverDef.V2)`\n",
      "W1002 10:13:47.163685 139821803878208 saver.py:1138] now on by default.\n",
      "W1002 10:13:47.164624 139821803878208 saver.py:1139] *******************************************************\n"
     ]
    },
    {
     "name": "stdout",
     "output_type": "stream",
     "text": [
      "Epoch: 21, Step: 2300, Loss: 0.401394\n",
      "Epoch: 21, Step: 2310, Loss: 0.407517\n",
      "Epoch: 21, Step: 2320, Loss: 0.43478\n",
      "Epoch: 21, Step: 2330, Loss: 0.441148\n",
      "Epoch: 21, Step: 2340, Loss: 0.41403\n",
      "Epoch: 21, Step: 2350, Loss: 0.408081\n",
      "Epoch: 21, Step: 2360, Loss: 0.439925\n",
      "Epoch: 21, Step: 2370, Loss: 0.410437\n",
      "Epoch: 21, Step: 2380, Loss: 0.394632\n",
      "Epoch: 21, Step: 2390, Loss: 0.774061\n"
     ]
    },
    {
     "name": "stderr",
     "output_type": "stream",
     "text": [
      "W1002 10:15:24.944426 139821803878208 saver.py:1134] *******************************************************\n",
      "W1002 10:15:24.945526 139821803878208 saver.py:1135] TensorFlow's V1 checkpoint format has been deprecated.\n",
      "W1002 10:15:24.946260 139821803878208 saver.py:1136] Consider switching to the more efficient V2 format:\n",
      "W1002 10:15:24.946989 139821803878208 saver.py:1137]    `tf.train.Saver(write_version=tf.train.SaverDef.V2)`\n",
      "W1002 10:15:24.947670 139821803878208 saver.py:1138] now on by default.\n",
      "W1002 10:15:24.948369 139821803878208 saver.py:1139] *******************************************************\n"
     ]
    },
    {
     "name": "stdout",
     "output_type": "stream",
     "text": [
      "Epoch: 21, Step: 2400, Loss: 0.777092\n",
      "Epoch: 21, Step: 2410, Loss: 0.471613\n",
      "Epoch: 21, Step: 2420, Loss: 0.761394\n",
      "Epoch: 21, Step: 2430, Loss: 0.525175\n",
      "Epoch: 21, Step: 2440, Loss: 0.51524\n",
      "Epoch: 21, Step: 2450, Loss: 0.430889\n",
      "Epoch: 21, Step: 2460, Loss: 0.497603\n",
      "Epoch: 21, Step: 2470, Loss: 0.459075\n",
      "Epoch: 21, Step: 2480, Loss: 0.36764\n",
      "Epoch: 21, Step: 2490, Loss: 0.417276\n"
     ]
    },
    {
     "name": "stderr",
     "output_type": "stream",
     "text": [
      "W1002 10:17:00.380007 139821803878208 saver.py:1134] *******************************************************\n",
      "W1002 10:17:00.381429 139821803878208 saver.py:1135] TensorFlow's V1 checkpoint format has been deprecated.\n",
      "W1002 10:17:00.382298 139821803878208 saver.py:1136] Consider switching to the more efficient V2 format:\n",
      "W1002 10:17:00.383161 139821803878208 saver.py:1137]    `tf.train.Saver(write_version=tf.train.SaverDef.V2)`\n",
      "W1002 10:17:00.384049 139821803878208 saver.py:1138] now on by default.\n",
      "W1002 10:17:00.384996 139821803878208 saver.py:1139] *******************************************************\n"
     ]
    },
    {
     "name": "stdout",
     "output_type": "stream",
     "text": [
      "Epoch: 21, Step: 2500, Loss: 0.445062\n",
      "Epoch: 21, Step: 2510, Loss: 0.383359\n",
      "Epoch: 21, Step: 2520, Loss: 0.412054\n",
      "Epoch: 21, Step: 2530, Loss: 0.400789\n",
      "Epoch: 21, Step: 2540, Loss: 0.378968\n",
      "Epoch: 21, Step: 2550, Loss: 0.365042\n",
      "Model saved in file: ./save/model2.ckpt\n"
     ]
    },
    {
     "name": "stderr",
     "output_type": "stream",
     "text": [
      "W1002 10:17:52.193614 139821803878208 saver.py:1134] *******************************************************\n",
      "W1002 10:17:52.194673 139821803878208 saver.py:1135] TensorFlow's V1 checkpoint format has been deprecated.\n",
      "W1002 10:17:52.195571 139821803878208 saver.py:1136] Consider switching to the more efficient V2 format:\n",
      "W1002 10:17:52.196379 139821803878208 saver.py:1137]    `tf.train.Saver(write_version=tf.train.SaverDef.V2)`\n",
      "W1002 10:17:52.197294 139821803878208 saver.py:1138] now on by default.\n",
      "W1002 10:17:52.198068 139821803878208 saver.py:1139] *******************************************************\n"
     ]
    },
    {
     "name": "stdout",
     "output_type": "stream",
     "text": [
      "Epoch: 22, Step: 2200, Loss: 0.361445\n",
      "Epoch: 22, Step: 2210, Loss: 0.391041\n",
      "Epoch: 22, Step: 2220, Loss: 0.388639\n",
      "Epoch: 22, Step: 2230, Loss: 0.434706\n",
      "Epoch: 22, Step: 2240, Loss: 0.372216\n",
      "Epoch: 22, Step: 2250, Loss: 0.42617\n",
      "Epoch: 22, Step: 2260, Loss: 0.745393\n",
      "Epoch: 22, Step: 2270, Loss: 0.461562\n",
      "Epoch: 22, Step: 2280, Loss: 0.772487\n",
      "Epoch: 22, Step: 2290, Loss: 0.445339\n"
     ]
    },
    {
     "name": "stderr",
     "output_type": "stream",
     "text": [
      "W1002 10:19:28.127672 139821803878208 saver.py:1134] *******************************************************\n",
      "W1002 10:19:28.128705 139821803878208 saver.py:1135] TensorFlow's V1 checkpoint format has been deprecated.\n",
      "W1002 10:19:28.129540 139821803878208 saver.py:1136] Consider switching to the more efficient V2 format:\n",
      "W1002 10:19:28.130281 139821803878208 saver.py:1137]    `tf.train.Saver(write_version=tf.train.SaverDef.V2)`\n",
      "W1002 10:19:28.130977 139821803878208 saver.py:1138] now on by default.\n",
      "W1002 10:19:28.131660 139821803878208 saver.py:1139] *******************************************************\n"
     ]
    },
    {
     "name": "stdout",
     "output_type": "stream",
     "text": [
      "Epoch: 22, Step: 2300, Loss: 0.449454\n",
      "Epoch: 22, Step: 2310, Loss: 0.456687\n",
      "Epoch: 22, Step: 2320, Loss: 0.478769\n",
      "Epoch: 22, Step: 2330, Loss: 0.44745\n",
      "Epoch: 22, Step: 2340, Loss: 4.15665\n",
      "Epoch: 22, Step: 2350, Loss: 0.526415\n",
      "Epoch: 22, Step: 2360, Loss: 0.378974\n",
      "Epoch: 22, Step: 2370, Loss: 0.399629\n",
      "Epoch: 22, Step: 2380, Loss: 0.402268\n",
      "Epoch: 22, Step: 2390, Loss: 0.377833\n"
     ]
    },
    {
     "name": "stderr",
     "output_type": "stream",
     "text": [
      "W1002 10:21:06.044399 139821803878208 saver.py:1134] *******************************************************\n",
      "W1002 10:21:06.045881 139821803878208 saver.py:1135] TensorFlow's V1 checkpoint format has been deprecated.\n",
      "W1002 10:21:06.047096 139821803878208 saver.py:1136] Consider switching to the more efficient V2 format:\n",
      "W1002 10:21:06.048238 139821803878208 saver.py:1137]    `tf.train.Saver(write_version=tf.train.SaverDef.V2)`\n",
      "W1002 10:21:06.050280 139821803878208 saver.py:1138] now on by default.\n",
      "W1002 10:21:06.051462 139821803878208 saver.py:1139] *******************************************************\n"
     ]
    },
    {
     "name": "stdout",
     "output_type": "stream",
     "text": [
      "Epoch: 22, Step: 2400, Loss: 1.27633\n",
      "Epoch: 22, Step: 2410, Loss: 3.6714\n",
      "Epoch: 22, Step: 2420, Loss: 1.91386\n",
      "Epoch: 22, Step: 2430, Loss: 1.71202\n",
      "Epoch: 22, Step: 2440, Loss: 1.10738\n",
      "Epoch: 22, Step: 2450, Loss: 0.517821\n",
      "Epoch: 22, Step: 2460, Loss: 0.391063\n",
      "Epoch: 22, Step: 2470, Loss: 0.366819\n",
      "Epoch: 22, Step: 2480, Loss: 0.472629\n",
      "Epoch: 22, Step: 2490, Loss: 0.352311\n"
     ]
    },
    {
     "name": "stderr",
     "output_type": "stream",
     "text": [
      "W1002 10:22:41.854650 139821803878208 saver.py:1134] *******************************************************\n",
      "W1002 10:22:41.855829 139821803878208 saver.py:1135] TensorFlow's V1 checkpoint format has been deprecated.\n",
      "W1002 10:22:41.856694 139821803878208 saver.py:1136] Consider switching to the more efficient V2 format:\n",
      "W1002 10:22:41.857610 139821803878208 saver.py:1137]    `tf.train.Saver(write_version=tf.train.SaverDef.V2)`\n",
      "W1002 10:22:41.858455 139821803878208 saver.py:1138] now on by default.\n",
      "W1002 10:22:41.859308 139821803878208 saver.py:1139] *******************************************************\n"
     ]
    },
    {
     "name": "stdout",
     "output_type": "stream",
     "text": [
      "Epoch: 22, Step: 2500, Loss: 0.349792\n",
      "Epoch: 22, Step: 2510, Loss: 0.356801\n",
      "Epoch: 22, Step: 2520, Loss: 0.37847\n",
      "Epoch: 22, Step: 2530, Loss: 0.356142\n",
      "Epoch: 22, Step: 2540, Loss: 0.793603\n",
      "Epoch: 22, Step: 2550, Loss: 0.363272\n",
      "Epoch: 22, Step: 2560, Loss: 0.373023\n",
      "Epoch: 22, Step: 2570, Loss: 0.364333\n",
      "Epoch: 22, Step: 2580, Loss: 0.369372\n",
      "Epoch: 22, Step: 2590, Loss: 0.349683\n"
     ]
    },
    {
     "name": "stderr",
     "output_type": "stream",
     "text": [
      "W1002 10:24:17.148251 139821803878208 saver.py:1134] *******************************************************\n",
      "W1002 10:24:17.149372 139821803878208 saver.py:1135] TensorFlow's V1 checkpoint format has been deprecated.\n",
      "W1002 10:24:17.150227 139821803878208 saver.py:1136] Consider switching to the more efficient V2 format:\n",
      "W1002 10:24:17.151091 139821803878208 saver.py:1137]    `tf.train.Saver(write_version=tf.train.SaverDef.V2)`\n",
      "W1002 10:24:17.151909 139821803878208 saver.py:1138] now on by default.\n",
      "W1002 10:24:17.152808 139821803878208 saver.py:1139] *******************************************************\n"
     ]
    },
    {
     "name": "stdout",
     "output_type": "stream",
     "text": [
      "Epoch: 22, Step: 2600, Loss: 0.35098\n",
      "Epoch: 22, Step: 2610, Loss: 0.367938\n",
      "Epoch: 22, Step: 2620, Loss: 0.368302\n",
      "Epoch: 22, Step: 2630, Loss: 0.355158\n",
      "Epoch: 22, Step: 2640, Loss: 1.20878\n",
      "Epoch: 22, Step: 2650, Loss: 1.50451\n",
      "Model saved in file: ./save/model2.ckpt\n"
     ]
    },
    {
     "name": "stderr",
     "output_type": "stream",
     "text": [
      "W1002 10:25:09.548195 139821803878208 saver.py:1134] *******************************************************\n",
      "W1002 10:25:09.549325 139821803878208 saver.py:1135] TensorFlow's V1 checkpoint format has been deprecated.\n",
      "W1002 10:25:09.550069 139821803878208 saver.py:1136] Consider switching to the more efficient V2 format:\n",
      "W1002 10:25:09.550882 139821803878208 saver.py:1137]    `tf.train.Saver(write_version=tf.train.SaverDef.V2)`\n",
      "W1002 10:25:09.552849 139821803878208 saver.py:1138] now on by default.\n",
      "W1002 10:25:09.554188 139821803878208 saver.py:1139] *******************************************************\n"
     ]
    },
    {
     "name": "stdout",
     "output_type": "stream",
     "text": [
      "Epoch: 23, Step: 2300, Loss: 5.27423\n",
      "Epoch: 23, Step: 2310, Loss: 0.477752\n",
      "Epoch: 23, Step: 2320, Loss: 0.451314\n",
      "Epoch: 23, Step: 2330, Loss: 0.361504\n",
      "Epoch: 23, Step: 2340, Loss: 0.342598\n",
      "Epoch: 23, Step: 2350, Loss: 0.36084\n",
      "Epoch: 23, Step: 2360, Loss: 0.368457\n",
      "Epoch: 23, Step: 2370, Loss: 0.408259\n",
      "Epoch: 23, Step: 2380, Loss: 0.347398\n",
      "Epoch: 23, Step: 2390, Loss: 0.341527\n"
     ]
    },
    {
     "name": "stderr",
     "output_type": "stream",
     "text": [
      "W1002 10:26:46.665593 139821803878208 saver.py:1134] *******************************************************\n",
      "W1002 10:26:46.666649 139821803878208 saver.py:1135] TensorFlow's V1 checkpoint format has been deprecated.\n",
      "W1002 10:26:46.667709 139821803878208 saver.py:1136] Consider switching to the more efficient V2 format:\n",
      "W1002 10:26:46.668789 139821803878208 saver.py:1137]    `tf.train.Saver(write_version=tf.train.SaverDef.V2)`\n",
      "W1002 10:26:46.669874 139821803878208 saver.py:1138] now on by default.\n",
      "W1002 10:26:46.670924 139821803878208 saver.py:1139] *******************************************************\n"
     ]
    },
    {
     "name": "stdout",
     "output_type": "stream",
     "text": [
      "Epoch: 23, Step: 2400, Loss: 0.351872\n",
      "Epoch: 23, Step: 2410, Loss: 0.341439\n",
      "Epoch: 23, Step: 2420, Loss: 0.370117\n",
      "Epoch: 23, Step: 2430, Loss: 1.20727\n",
      "Epoch: 23, Step: 2440, Loss: 0.95965\n",
      "Epoch: 23, Step: 2450, Loss: 0.404992\n",
      "Epoch: 23, Step: 2460, Loss: 0.383408\n",
      "Epoch: 23, Step: 2470, Loss: 0.35879\n",
      "Epoch: 23, Step: 2480, Loss: 0.383699\n",
      "Epoch: 23, Step: 2490, Loss: 0.352213\n"
     ]
    },
    {
     "name": "stderr",
     "output_type": "stream",
     "text": [
      "W1002 10:28:22.542144 139821803878208 saver.py:1134] *******************************************************\n",
      "W1002 10:28:22.543459 139821803878208 saver.py:1135] TensorFlow's V1 checkpoint format has been deprecated.\n",
      "W1002 10:28:22.544279 139821803878208 saver.py:1136] Consider switching to the more efficient V2 format:\n",
      "W1002 10:28:22.545188 139821803878208 saver.py:1137]    `tf.train.Saver(write_version=tf.train.SaverDef.V2)`\n",
      "W1002 10:28:22.546082 139821803878208 saver.py:1138] now on by default.\n",
      "W1002 10:28:22.546935 139821803878208 saver.py:1139] *******************************************************\n"
     ]
    },
    {
     "name": "stdout",
     "output_type": "stream",
     "text": [
      "Epoch: 23, Step: 2500, Loss: 0.352169\n",
      "Epoch: 23, Step: 2510, Loss: 0.408378\n",
      "Epoch: 23, Step: 2520, Loss: 0.403938\n",
      "Epoch: 23, Step: 2530, Loss: 0.34703\n",
      "Epoch: 23, Step: 2540, Loss: 0.362316\n",
      "Epoch: 23, Step: 2550, Loss: 0.34167\n",
      "Epoch: 23, Step: 2560, Loss: 0.343605\n",
      "Epoch: 23, Step: 2570, Loss: 0.341814\n",
      "Epoch: 23, Step: 2580, Loss: 0.350294\n",
      "Epoch: 23, Step: 2590, Loss: 0.338296\n"
     ]
    },
    {
     "name": "stderr",
     "output_type": "stream",
     "text": [
      "W1002 10:29:57.555533 139821803878208 saver.py:1134] *******************************************************\n",
      "W1002 10:29:57.556512 139821803878208 saver.py:1135] TensorFlow's V1 checkpoint format has been deprecated.\n",
      "W1002 10:29:57.557299 139821803878208 saver.py:1136] Consider switching to the more efficient V2 format:\n",
      "W1002 10:29:57.558052 139821803878208 saver.py:1137]    `tf.train.Saver(write_version=tf.train.SaverDef.V2)`\n",
      "W1002 10:29:57.558756 139821803878208 saver.py:1138] now on by default.\n",
      "W1002 10:29:57.559443 139821803878208 saver.py:1139] *******************************************************\n"
     ]
    },
    {
     "name": "stdout",
     "output_type": "stream",
     "text": [
      "Epoch: 23, Step: 2600, Loss: 0.374428\n",
      "Epoch: 23, Step: 2610, Loss: 0.351511\n",
      "Epoch: 23, Step: 2620, Loss: 0.571066\n",
      "Epoch: 23, Step: 2630, Loss: 0.618433\n",
      "Epoch: 23, Step: 2640, Loss: 0.417974\n",
      "Epoch: 23, Step: 2650, Loss: 0.384265\n",
      "Epoch: 23, Step: 2660, Loss: 0.33815\n",
      "Epoch: 23, Step: 2670, Loss: 0.345119\n",
      "Epoch: 23, Step: 2680, Loss: 0.369587\n",
      "Epoch: 23, Step: 2690, Loss: 0.406071\n"
     ]
    },
    {
     "name": "stderr",
     "output_type": "stream",
     "text": [
      "W1002 10:31:33.886532 139821803878208 saver.py:1134] *******************************************************\n",
      "W1002 10:31:33.887685 139821803878208 saver.py:1135] TensorFlow's V1 checkpoint format has been deprecated.\n",
      "W1002 10:31:33.888453 139821803878208 saver.py:1136] Consider switching to the more efficient V2 format:\n",
      "W1002 10:31:33.889265 139821803878208 saver.py:1137]    `tf.train.Saver(write_version=tf.train.SaverDef.V2)`\n",
      "W1002 10:31:33.890073 139821803878208 saver.py:1138] now on by default.\n",
      "W1002 10:31:33.890952 139821803878208 saver.py:1139] *******************************************************\n"
     ]
    },
    {
     "name": "stdout",
     "output_type": "stream",
     "text": [
      "Epoch: 23, Step: 2700, Loss: 0.402675\n",
      "Epoch: 23, Step: 2710, Loss: 0.351691\n",
      "Epoch: 23, Step: 2720, Loss: 0.367805\n",
      "Epoch: 23, Step: 2730, Loss: 0.342835\n",
      "Epoch: 23, Step: 2740, Loss: 0.348297\n",
      "Epoch: 23, Step: 2750, Loss: 0.395598\n",
      "Model saved in file: ./save/model2.ckpt\n"
     ]
    },
    {
     "name": "stderr",
     "output_type": "stream",
     "text": [
      "W1002 10:32:27.215767 139821803878208 saver.py:1134] *******************************************************\n",
      "W1002 10:32:27.216838 139821803878208 saver.py:1135] TensorFlow's V1 checkpoint format has been deprecated.\n",
      "W1002 10:32:27.217763 139821803878208 saver.py:1136] Consider switching to the more efficient V2 format:\n",
      "W1002 10:32:27.218624 139821803878208 saver.py:1137]    `tf.train.Saver(write_version=tf.train.SaverDef.V2)`\n",
      "W1002 10:32:27.219468 139821803878208 saver.py:1138] now on by default.\n",
      "W1002 10:32:27.220423 139821803878208 saver.py:1139] *******************************************************\n"
     ]
    },
    {
     "name": "stdout",
     "output_type": "stream",
     "text": [
      "Epoch: 24, Step: 2400, Loss: 0.393144\n",
      "Epoch: 24, Step: 2410, Loss: 0.381721\n",
      "Epoch: 24, Step: 2420, Loss: 0.357631\n",
      "Epoch: 24, Step: 2430, Loss: 0.827279\n",
      "Epoch: 24, Step: 2440, Loss: 0.746792\n",
      "Epoch: 24, Step: 2450, Loss: 1.59948\n",
      "Epoch: 24, Step: 2460, Loss: 0.551192\n",
      "Epoch: 24, Step: 2470, Loss: 0.417297\n",
      "Epoch: 24, Step: 2480, Loss: 0.354782\n",
      "Epoch: 24, Step: 2490, Loss: 0.351698\n"
     ]
    },
    {
     "name": "stderr",
     "output_type": "stream",
     "text": [
      "W1002 10:34:03.668684 139821803878208 saver.py:1134] *******************************************************\n",
      "W1002 10:34:03.669796 139821803878208 saver.py:1135] TensorFlow's V1 checkpoint format has been deprecated.\n",
      "W1002 10:34:03.670639 139821803878208 saver.py:1136] Consider switching to the more efficient V2 format:\n",
      "W1002 10:34:03.671485 139821803878208 saver.py:1137]    `tf.train.Saver(write_version=tf.train.SaverDef.V2)`\n",
      "W1002 10:34:03.672349 139821803878208 saver.py:1138] now on by default.\n",
      "W1002 10:34:03.674640 139821803878208 saver.py:1139] *******************************************************\n"
     ]
    },
    {
     "name": "stdout",
     "output_type": "stream",
     "text": [
      "Epoch: 24, Step: 2500, Loss: 0.350278\n",
      "Epoch: 24, Step: 2510, Loss: 0.35268\n",
      "Epoch: 24, Step: 2520, Loss: 0.389455\n",
      "Epoch: 24, Step: 2530, Loss: 4.75838\n",
      "Epoch: 24, Step: 2540, Loss: 0.453773\n",
      "Epoch: 24, Step: 2550, Loss: 0.357478\n",
      "Epoch: 24, Step: 2560, Loss: 0.349066\n",
      "Epoch: 24, Step: 2570, Loss: 0.339919\n",
      "Epoch: 24, Step: 2580, Loss: 0.346667\n",
      "Epoch: 24, Step: 2590, Loss: 0.34454\n"
     ]
    },
    {
     "name": "stderr",
     "output_type": "stream",
     "text": [
      "W1002 10:35:38.611320 139821803878208 saver.py:1134] *******************************************************\n",
      "W1002 10:35:38.612435 139821803878208 saver.py:1135] TensorFlow's V1 checkpoint format has been deprecated.\n",
      "W1002 10:35:38.613591 139821803878208 saver.py:1136] Consider switching to the more efficient V2 format:\n",
      "W1002 10:35:38.614479 139821803878208 saver.py:1137]    `tf.train.Saver(write_version=tf.train.SaverDef.V2)`\n",
      "W1002 10:35:38.615318 139821803878208 saver.py:1138] now on by default.\n",
      "W1002 10:35:38.616294 139821803878208 saver.py:1139] *******************************************************\n"
     ]
    },
    {
     "name": "stdout",
     "output_type": "stream",
     "text": [
      "Epoch: 24, Step: 2600, Loss: 0.361294\n",
      "Epoch: 24, Step: 2610, Loss: 0.332698\n",
      "Epoch: 24, Step: 2620, Loss: 0.329691\n",
      "Epoch: 24, Step: 2630, Loss: 0.328425\n",
      "Epoch: 24, Step: 2640, Loss: 0.36155\n",
      "Epoch: 24, Step: 2650, Loss: 0.343613\n",
      "Epoch: 24, Step: 2660, Loss: 0.399466\n",
      "Epoch: 24, Step: 2670, Loss: 0.691126\n",
      "Epoch: 24, Step: 2680, Loss: 0.351854\n",
      "Epoch: 24, Step: 2690, Loss: 0.331403\n"
     ]
    },
    {
     "name": "stderr",
     "output_type": "stream",
     "text": [
      "W1002 10:37:14.731557 139821803878208 saver.py:1134] *******************************************************\n",
      "W1002 10:37:14.732622 139821803878208 saver.py:1135] TensorFlow's V1 checkpoint format has been deprecated.\n",
      "W1002 10:37:14.733512 139821803878208 saver.py:1136] Consider switching to the more efficient V2 format:\n",
      "W1002 10:37:14.734368 139821803878208 saver.py:1137]    `tf.train.Saver(write_version=tf.train.SaverDef.V2)`\n",
      "W1002 10:37:14.735196 139821803878208 saver.py:1138] now on by default.\n",
      "W1002 10:37:14.736052 139821803878208 saver.py:1139] *******************************************************\n"
     ]
    },
    {
     "name": "stdout",
     "output_type": "stream",
     "text": [
      "Epoch: 24, Step: 2700, Loss: 0.334458\n",
      "Epoch: 24, Step: 2710, Loss: 0.332743\n",
      "Epoch: 24, Step: 2720, Loss: 0.325972\n",
      "Epoch: 24, Step: 2730, Loss: 0.357435\n",
      "Epoch: 24, Step: 2740, Loss: 0.340941\n",
      "Epoch: 24, Step: 2750, Loss: 0.418019\n",
      "Epoch: 24, Step: 2760, Loss: 0.386336\n",
      "Epoch: 24, Step: 2770, Loss: 0.508385\n",
      "Epoch: 24, Step: 2780, Loss: 0.443205\n",
      "Epoch: 24, Step: 2790, Loss: 0.544217\n"
     ]
    },
    {
     "name": "stderr",
     "output_type": "stream",
     "text": [
      "W1002 10:38:52.338633 139821803878208 saver.py:1134] *******************************************************\n",
      "W1002 10:38:52.339977 139821803878208 saver.py:1135] TensorFlow's V1 checkpoint format has been deprecated.\n",
      "W1002 10:38:52.340819 139821803878208 saver.py:1136] Consider switching to the more efficient V2 format:\n",
      "W1002 10:38:52.341753 139821803878208 saver.py:1137]    `tf.train.Saver(write_version=tf.train.SaverDef.V2)`\n",
      "W1002 10:38:52.342591 139821803878208 saver.py:1138] now on by default.\n",
      "W1002 10:38:52.343641 139821803878208 saver.py:1139] *******************************************************\n"
     ]
    },
    {
     "name": "stdout",
     "output_type": "stream",
     "text": [
      "Epoch: 24, Step: 2800, Loss: 0.706648\n",
      "Epoch: 24, Step: 2810, Loss: 0.428818\n",
      "Epoch: 24, Step: 2820, Loss: 0.37867\n",
      "Epoch: 24, Step: 2830, Loss: 1.16122\n",
      "Epoch: 24, Step: 2840, Loss: 2.49951\n",
      "Epoch: 24, Step: 2850, Loss: 3.55402\n",
      "Model saved in file: ./save/model2.ckpt\n"
     ]
    },
    {
     "name": "stderr",
     "output_type": "stream",
     "text": [
      "W1002 10:39:44.282813 139821803878208 saver.py:1134] *******************************************************\n",
      "W1002 10:39:44.283869 139821803878208 saver.py:1135] TensorFlow's V1 checkpoint format has been deprecated.\n",
      "W1002 10:39:44.284886 139821803878208 saver.py:1136] Consider switching to the more efficient V2 format:\n",
      "W1002 10:39:44.286082 139821803878208 saver.py:1137]    `tf.train.Saver(write_version=tf.train.SaverDef.V2)`\n",
      "W1002 10:39:44.287746 139821803878208 saver.py:1138] now on by default.\n",
      "W1002 10:39:44.288816 139821803878208 saver.py:1139] *******************************************************\n"
     ]
    },
    {
     "name": "stdout",
     "output_type": "stream",
     "text": [
      "Epoch: 25, Step: 2500, Loss: 0.323596\n",
      "Epoch: 25, Step: 2510, Loss: 0.319265\n",
      "Epoch: 25, Step: 2520, Loss: 0.340354\n",
      "Epoch: 25, Step: 2530, Loss: 0.337079\n",
      "Epoch: 25, Step: 2540, Loss: 0.35026\n",
      "Epoch: 25, Step: 2550, Loss: 0.378769\n",
      "Epoch: 25, Step: 2560, Loss: 0.407124\n",
      "Epoch: 25, Step: 2570, Loss: 0.356876\n",
      "Epoch: 25, Step: 2580, Loss: 0.532188\n",
      "Epoch: 25, Step: 2590, Loss: 0.664149\n"
     ]
    },
    {
     "name": "stderr",
     "output_type": "stream",
     "text": [
      "W1002 10:41:18.849204 139821803878208 saver.py:1134] *******************************************************\n",
      "W1002 10:41:18.850239 139821803878208 saver.py:1135] TensorFlow's V1 checkpoint format has been deprecated.\n",
      "W1002 10:41:18.851018 139821803878208 saver.py:1136] Consider switching to the more efficient V2 format:\n",
      "W1002 10:41:18.851751 139821803878208 saver.py:1137]    `tf.train.Saver(write_version=tf.train.SaverDef.V2)`\n",
      "W1002 10:41:18.852448 139821803878208 saver.py:1138] now on by default.\n",
      "W1002 10:41:18.853683 139821803878208 saver.py:1139] *******************************************************\n"
     ]
    },
    {
     "name": "stdout",
     "output_type": "stream",
     "text": [
      "Epoch: 25, Step: 2600, Loss: 0.633487\n",
      "Epoch: 25, Step: 2610, Loss: 0.336304\n",
      "Epoch: 25, Step: 2620, Loss: 0.338499\n",
      "Epoch: 25, Step: 2630, Loss: 0.335553\n",
      "Epoch: 25, Step: 2640, Loss: 0.414908\n",
      "Epoch: 25, Step: 2650, Loss: 0.411946\n",
      "Epoch: 25, Step: 2660, Loss: 0.32046\n",
      "Epoch: 25, Step: 2670, Loss: 0.32749\n",
      "Epoch: 25, Step: 2680, Loss: 0.339505\n",
      "Epoch: 25, Step: 2690, Loss: 0.417315\n"
     ]
    },
    {
     "name": "stderr",
     "output_type": "stream",
     "text": [
      "W1002 10:42:54.398887 139821803878208 saver.py:1134] *******************************************************\n",
      "W1002 10:42:54.399887 139821803878208 saver.py:1135] TensorFlow's V1 checkpoint format has been deprecated.\n",
      "W1002 10:42:54.400852 139821803878208 saver.py:1136] Consider switching to the more efficient V2 format:\n",
      "W1002 10:42:54.402079 139821803878208 saver.py:1137]    `tf.train.Saver(write_version=tf.train.SaverDef.V2)`\n",
      "W1002 10:42:54.403194 139821803878208 saver.py:1138] now on by default.\n",
      "W1002 10:42:54.404317 139821803878208 saver.py:1139] *******************************************************\n"
     ]
    },
    {
     "name": "stdout",
     "output_type": "stream",
     "text": [
      "Epoch: 25, Step: 2700, Loss: 0.433095\n",
      "Epoch: 25, Step: 2710, Loss: 0.410293\n",
      "Epoch: 25, Step: 2720, Loss: 0.375312\n",
      "Epoch: 25, Step: 2730, Loss: 0.364198\n",
      "Epoch: 25, Step: 2740, Loss: 0.332968\n",
      "Epoch: 25, Step: 2750, Loss: 0.320116\n",
      "Epoch: 25, Step: 2760, Loss: 0.388109\n",
      "Epoch: 25, Step: 2770, Loss: 0.580039\n",
      "Epoch: 25, Step: 2780, Loss: 0.389756\n",
      "Epoch: 25, Step: 2790, Loss: 0.39517\n"
     ]
    },
    {
     "name": "stderr",
     "output_type": "stream",
     "text": [
      "W1002 10:44:32.066450 139821803878208 saver.py:1134] *******************************************************\n",
      "W1002 10:44:32.067501 139821803878208 saver.py:1135] TensorFlow's V1 checkpoint format has been deprecated.\n",
      "W1002 10:44:32.068306 139821803878208 saver.py:1136] Consider switching to the more efficient V2 format:\n",
      "W1002 10:44:32.069195 139821803878208 saver.py:1137]    `tf.train.Saver(write_version=tf.train.SaverDef.V2)`\n",
      "W1002 10:44:32.070078 139821803878208 saver.py:1138] now on by default.\n",
      "W1002 10:44:32.071227 139821803878208 saver.py:1139] *******************************************************\n"
     ]
    },
    {
     "name": "stdout",
     "output_type": "stream",
     "text": [
      "Epoch: 25, Step: 2800, Loss: 1.62439\n",
      "Epoch: 25, Step: 2810, Loss: 1.96327\n",
      "Epoch: 25, Step: 2820, Loss: 1.77777\n",
      "Epoch: 25, Step: 2830, Loss: 0.814902\n",
      "Epoch: 25, Step: 2840, Loss: 0.965071\n",
      "Epoch: 25, Step: 2850, Loss: 0.996383\n",
      "Epoch: 25, Step: 2860, Loss: 0.771399\n",
      "Epoch: 25, Step: 2870, Loss: 0.439856\n",
      "Epoch: 25, Step: 2880, Loss: 0.459837\n",
      "Epoch: 25, Step: 2890, Loss: 0.399023\n"
     ]
    },
    {
     "name": "stderr",
     "output_type": "stream",
     "text": [
      "W1002 10:46:07.265323 139821803878208 saver.py:1134] *******************************************************\n",
      "W1002 10:46:07.266402 139821803878208 saver.py:1135] TensorFlow's V1 checkpoint format has been deprecated.\n",
      "W1002 10:46:07.267222 139821803878208 saver.py:1136] Consider switching to the more efficient V2 format:\n",
      "W1002 10:46:07.268030 139821803878208 saver.py:1137]    `tf.train.Saver(write_version=tf.train.SaverDef.V2)`\n",
      "W1002 10:46:07.268954 139821803878208 saver.py:1138] now on by default.\n",
      "W1002 10:46:07.270977 139821803878208 saver.py:1139] *******************************************************\n"
     ]
    },
    {
     "name": "stdout",
     "output_type": "stream",
     "text": [
      "Epoch: 25, Step: 2900, Loss: 0.37456\n",
      "Epoch: 25, Step: 2910, Loss: 0.333484\n",
      "Epoch: 25, Step: 2920, Loss: 0.314764\n",
      "Epoch: 25, Step: 2930, Loss: 0.434401\n",
      "Epoch: 25, Step: 2940, Loss: 0.390623\n",
      "Epoch: 25, Step: 2950, Loss: 0.986707\n",
      "Model saved in file: ./save/model2.ckpt\n"
     ]
    },
    {
     "name": "stderr",
     "output_type": "stream",
     "text": [
      "W1002 10:46:58.883382 139821803878208 saver.py:1134] *******************************************************\n",
      "W1002 10:46:58.884671 139821803878208 saver.py:1135] TensorFlow's V1 checkpoint format has been deprecated.\n",
      "W1002 10:46:58.885528 139821803878208 saver.py:1136] Consider switching to the more efficient V2 format:\n",
      "W1002 10:46:58.886505 139821803878208 saver.py:1137]    `tf.train.Saver(write_version=tf.train.SaverDef.V2)`\n",
      "W1002 10:46:58.887378 139821803878208 saver.py:1138] now on by default.\n",
      "W1002 10:46:58.888234 139821803878208 saver.py:1139] *******************************************************\n"
     ]
    },
    {
     "name": "stdout",
     "output_type": "stream",
     "text": [
      "Epoch: 26, Step: 2600, Loss: 0.381763\n",
      "Epoch: 26, Step: 2610, Loss: 1.10978\n",
      "Epoch: 26, Step: 2620, Loss: 0.339609\n",
      "Epoch: 26, Step: 2630, Loss: 0.438704\n",
      "Epoch: 26, Step: 2640, Loss: 0.597913\n",
      "Epoch: 26, Step: 2650, Loss: 0.544539\n",
      "Epoch: 26, Step: 2660, Loss: 0.350579\n",
      "Epoch: 26, Step: 2670, Loss: 0.348183\n",
      "Epoch: 26, Step: 2680, Loss: 0.365254\n",
      "Epoch: 26, Step: 2690, Loss: 0.392746\n"
     ]
    },
    {
     "name": "stderr",
     "output_type": "stream",
     "text": [
      "W1002 10:48:35.211796 139821803878208 saver.py:1134] *******************************************************\n",
      "W1002 10:48:35.213598 139821803878208 saver.py:1135] TensorFlow's V1 checkpoint format has been deprecated.\n",
      "W1002 10:48:35.214483 139821803878208 saver.py:1136] Consider switching to the more efficient V2 format:\n",
      "W1002 10:48:35.215327 139821803878208 saver.py:1137]    `tf.train.Saver(write_version=tf.train.SaverDef.V2)`\n",
      "W1002 10:48:35.216324 139821803878208 saver.py:1138] now on by default.\n",
      "W1002 10:48:35.217780 139821803878208 saver.py:1139] *******************************************************\n"
     ]
    },
    {
     "name": "stdout",
     "output_type": "stream",
     "text": [
      "Epoch: 26, Step: 2700, Loss: 0.411733\n",
      "Epoch: 26, Step: 2710, Loss: 1.16371\n",
      "Epoch: 26, Step: 2720, Loss: 4.28166\n",
      "Epoch: 26, Step: 2730, Loss: 0.331345\n",
      "Epoch: 26, Step: 2740, Loss: 0.341899\n",
      "Epoch: 26, Step: 2750, Loss: 0.343185\n",
      "Epoch: 26, Step: 2760, Loss: 0.331481\n",
      "Epoch: 26, Step: 2770, Loss: 0.397318\n",
      "Epoch: 26, Step: 2780, Loss: 0.576424\n",
      "Epoch: 26, Step: 2790, Loss: 0.637651\n"
     ]
    },
    {
     "name": "stderr",
     "output_type": "stream",
     "text": [
      "W1002 10:50:12.587976 139821803878208 saver.py:1134] *******************************************************\n",
      "W1002 10:50:12.589205 139821803878208 saver.py:1135] TensorFlow's V1 checkpoint format has been deprecated.\n",
      "W1002 10:50:12.590430 139821803878208 saver.py:1136] Consider switching to the more efficient V2 format:\n",
      "W1002 10:50:12.591311 139821803878208 saver.py:1137]    `tf.train.Saver(write_version=tf.train.SaverDef.V2)`\n",
      "W1002 10:50:12.592133 139821803878208 saver.py:1138] now on by default.\n",
      "W1002 10:50:12.593031 139821803878208 saver.py:1139] *******************************************************\n"
     ]
    },
    {
     "name": "stdout",
     "output_type": "stream",
     "text": [
      "Epoch: 26, Step: 2800, Loss: 0.81147\n",
      "Epoch: 26, Step: 2810, Loss: 1.97969\n",
      "Epoch: 26, Step: 2820, Loss: 0.95125\n",
      "Epoch: 26, Step: 2830, Loss: 2.08192\n",
      "Epoch: 26, Step: 2840, Loss: 0.35218\n",
      "Epoch: 26, Step: 2850, Loss: 0.407704\n",
      "Epoch: 26, Step: 2860, Loss: 1.06618\n",
      "Epoch: 26, Step: 2870, Loss: 0.319548\n",
      "Epoch: 26, Step: 2880, Loss: 0.356725\n",
      "Epoch: 26, Step: 2890, Loss: 0.300964\n"
     ]
    },
    {
     "name": "stderr",
     "output_type": "stream",
     "text": [
      "W1002 10:51:48.271804 139821803878208 saver.py:1134] *******************************************************\n",
      "W1002 10:51:48.272768 139821803878208 saver.py:1135] TensorFlow's V1 checkpoint format has been deprecated.\n",
      "W1002 10:51:48.273831 139821803878208 saver.py:1136] Consider switching to the more efficient V2 format:\n",
      "W1002 10:51:48.275796 139821803878208 saver.py:1137]    `tf.train.Saver(write_version=tf.train.SaverDef.V2)`\n",
      "W1002 10:51:48.276844 139821803878208 saver.py:1138] now on by default.\n",
      "W1002 10:51:48.278014 139821803878208 saver.py:1139] *******************************************************\n"
     ]
    },
    {
     "name": "stdout",
     "output_type": "stream",
     "text": [
      "Epoch: 26, Step: 2900, Loss: 0.406807\n",
      "Epoch: 26, Step: 2910, Loss: 0.31912\n",
      "Epoch: 26, Step: 2920, Loss: 0.548825\n",
      "Epoch: 26, Step: 2930, Loss: 0.308715\n",
      "Epoch: 26, Step: 2940, Loss: 0.399927\n",
      "Epoch: 26, Step: 2950, Loss: 0.36261\n",
      "Epoch: 26, Step: 2960, Loss: 0.41495\n",
      "Epoch: 26, Step: 2970, Loss: 0.332396\n",
      "Epoch: 26, Step: 2980, Loss: 0.31574\n",
      "Epoch: 26, Step: 2990, Loss: 0.329762\n"
     ]
    },
    {
     "name": "stderr",
     "output_type": "stream",
     "text": [
      "W1002 10:53:23.607277 139821803878208 saver.py:1134] *******************************************************\n",
      "W1002 10:53:23.608570 139821803878208 saver.py:1135] TensorFlow's V1 checkpoint format has been deprecated.\n",
      "W1002 10:53:23.609671 139821803878208 saver.py:1136] Consider switching to the more efficient V2 format:\n",
      "W1002 10:53:23.610747 139821803878208 saver.py:1137]    `tf.train.Saver(write_version=tf.train.SaverDef.V2)`\n",
      "W1002 10:53:23.611821 139821803878208 saver.py:1138] now on by default.\n",
      "W1002 10:53:23.613018 139821803878208 saver.py:1139] *******************************************************\n"
     ]
    },
    {
     "name": "stdout",
     "output_type": "stream",
     "text": [
      "Epoch: 26, Step: 3000, Loss: 0.326624\n",
      "Epoch: 26, Step: 3010, Loss: 0.34653\n",
      "Epoch: 26, Step: 3020, Loss: 0.427109\n",
      "Epoch: 26, Step: 3030, Loss: 3.78362\n",
      "Epoch: 26, Step: 3040, Loss: 2.74502\n",
      "Epoch: 26, Step: 3050, Loss: 0.385747\n",
      "Model saved in file: ./save/model2.ckpt\n"
     ]
    },
    {
     "name": "stderr",
     "output_type": "stream",
     "text": [
      "W1002 10:54:53.196207 139821803878208 saver.py:1134] *******************************************************\n",
      "W1002 10:54:53.197262 139821803878208 saver.py:1135] TensorFlow's V1 checkpoint format has been deprecated.\n",
      "W1002 10:54:53.198272 139821803878208 saver.py:1136] Consider switching to the more efficient V2 format:\n",
      "W1002 10:54:53.199189 139821803878208 saver.py:1137]    `tf.train.Saver(write_version=tf.train.SaverDef.V2)`\n",
      "W1002 10:54:53.200105 139821803878208 saver.py:1138] now on by default.\n",
      "W1002 10:54:53.201104 139821803878208 saver.py:1139] *******************************************************\n"
     ]
    },
    {
     "name": "stdout",
     "output_type": "stream",
     "text": [
      "Epoch: 27, Step: 2700, Loss: 0.546489\n",
      "Epoch: 27, Step: 2710, Loss: 0.346201\n",
      "Epoch: 27, Step: 2720, Loss: 0.334787\n",
      "Epoch: 27, Step: 2730, Loss: 0.36808\n",
      "Epoch: 27, Step: 2740, Loss: 0.364167\n",
      "Epoch: 27, Step: 2750, Loss: 0.320061\n",
      "Epoch: 27, Step: 2760, Loss: 0.310245\n",
      "Epoch: 27, Step: 2770, Loss: 0.303124\n",
      "Epoch: 27, Step: 2780, Loss: 0.321835\n",
      "Epoch: 27, Step: 2790, Loss: 0.323473\n"
     ]
    },
    {
     "name": "stderr",
     "output_type": "stream",
     "text": [
      "W1002 10:56:34.727006 139821803878208 saver.py:1134] *******************************************************\n",
      "W1002 10:56:34.728080 139821803878208 saver.py:1135] TensorFlow's V1 checkpoint format has been deprecated.\n",
      "W1002 10:56:34.728976 139821803878208 saver.py:1136] Consider switching to the more efficient V2 format:\n",
      "W1002 10:56:34.729881 139821803878208 saver.py:1137]    `tf.train.Saver(write_version=tf.train.SaverDef.V2)`\n",
      "W1002 10:56:34.730794 139821803878208 saver.py:1138] now on by default.\n",
      "W1002 10:56:34.732052 139821803878208 saver.py:1139] *******************************************************\n"
     ]
    },
    {
     "name": "stdout",
     "output_type": "stream",
     "text": [
      "Epoch: 27, Step: 2800, Loss: 0.320849\n",
      "Epoch: 27, Step: 2810, Loss: 2.00577\n",
      "Epoch: 27, Step: 2820, Loss: 0.874372\n",
      "Epoch: 27, Step: 2830, Loss: 0.460482\n",
      "Epoch: 27, Step: 2840, Loss: 0.351673\n",
      "Epoch: 27, Step: 2850, Loss: 0.322305\n",
      "Epoch: 27, Step: 2860, Loss: 0.512027\n",
      "Epoch: 27, Step: 2870, Loss: 0.364026\n",
      "Epoch: 27, Step: 2880, Loss: 1.23248\n",
      "Epoch: 27, Step: 2890, Loss: 0.696369\n"
     ]
    },
    {
     "name": "stderr",
     "output_type": "stream",
     "text": [
      "W1002 10:58:11.123702 139821803878208 saver.py:1134] *******************************************************\n",
      "W1002 10:58:11.125195 139821803878208 saver.py:1135] TensorFlow's V1 checkpoint format has been deprecated.\n",
      "W1002 10:58:11.126118 139821803878208 saver.py:1136] Consider switching to the more efficient V2 format:\n",
      "W1002 10:58:11.127032 139821803878208 saver.py:1137]    `tf.train.Saver(write_version=tf.train.SaverDef.V2)`\n",
      "W1002 10:58:11.128126 139821803878208 saver.py:1138] now on by default.\n",
      "W1002 10:58:11.130070 139821803878208 saver.py:1139] *******************************************************\n"
     ]
    },
    {
     "name": "stdout",
     "output_type": "stream",
     "text": [
      "Epoch: 27, Step: 2900, Loss: 0.405489\n",
      "Epoch: 27, Step: 2910, Loss: 0.332612\n",
      "Epoch: 27, Step: 2920, Loss: 0.321081\n",
      "Epoch: 27, Step: 2930, Loss: 0.29854\n",
      "Epoch: 27, Step: 2940, Loss: 0.298557\n",
      "Epoch: 27, Step: 2950, Loss: 0.301606\n",
      "Epoch: 27, Step: 2960, Loss: 0.316276\n",
      "Epoch: 27, Step: 2970, Loss: 0.298652\n",
      "Epoch: 27, Step: 2980, Loss: 0.344107\n",
      "Epoch: 27, Step: 2990, Loss: 0.344812\n"
     ]
    },
    {
     "name": "stderr",
     "output_type": "stream",
     "text": [
      "W1002 10:59:50.390320 139821803878208 saver.py:1134] *******************************************************\n",
      "W1002 10:59:50.391507 139821803878208 saver.py:1135] TensorFlow's V1 checkpoint format has been deprecated.\n",
      "W1002 10:59:50.392600 139821803878208 saver.py:1136] Consider switching to the more efficient V2 format:\n",
      "W1002 10:59:50.393550 139821803878208 saver.py:1137]    `tf.train.Saver(write_version=tf.train.SaverDef.V2)`\n",
      "W1002 10:59:50.394468 139821803878208 saver.py:1138] now on by default.\n",
      "W1002 10:59:50.395288 139821803878208 saver.py:1139] *******************************************************\n"
     ]
    },
    {
     "name": "stdout",
     "output_type": "stream",
     "text": [
      "Epoch: 27, Step: 3000, Loss: 0.639315\n",
      "Epoch: 27, Step: 3010, Loss: 0.559497\n",
      "Epoch: 27, Step: 3020, Loss: 0.354301\n",
      "Epoch: 27, Step: 3030, Loss: 0.300506\n",
      "Epoch: 27, Step: 3040, Loss: 0.302633\n",
      "Epoch: 27, Step: 3050, Loss: 0.312164\n",
      "Epoch: 27, Step: 3060, Loss: 0.338313\n",
      "Epoch: 27, Step: 3070, Loss: 0.317967\n",
      "Epoch: 27, Step: 3080, Loss: 0.366721\n",
      "Epoch: 27, Step: 3090, Loss: 0.30694\n"
     ]
    },
    {
     "name": "stderr",
     "output_type": "stream",
     "text": [
      "W1002 11:01:35.316472 139821803878208 saver.py:1134] *******************************************************\n",
      "W1002 11:01:35.317538 139821803878208 saver.py:1135] TensorFlow's V1 checkpoint format has been deprecated.\n",
      "W1002 11:01:35.318356 139821803878208 saver.py:1136] Consider switching to the more efficient V2 format:\n",
      "W1002 11:01:35.319943 139821803878208 saver.py:1137]    `tf.train.Saver(write_version=tf.train.SaverDef.V2)`\n",
      "W1002 11:01:35.320797 139821803878208 saver.py:1138] now on by default.\n",
      "W1002 11:01:35.321583 139821803878208 saver.py:1139] *******************************************************\n"
     ]
    },
    {
     "name": "stdout",
     "output_type": "stream",
     "text": [
      "Epoch: 27, Step: 3100, Loss: 0.449668\n",
      "Epoch: 27, Step: 3110, Loss: 0.294509\n",
      "Epoch: 27, Step: 3120, Loss: 0.29348\n",
      "Epoch: 27, Step: 3130, Loss: 0.331472\n",
      "Epoch: 27, Step: 3140, Loss: 0.310712\n",
      "Epoch: 27, Step: 3150, Loss: 0.399114\n",
      "Model saved in file: ./save/model2.ckpt\n"
     ]
    },
    {
     "name": "stderr",
     "output_type": "stream",
     "text": [
      "W1002 11:02:33.551812 139821803878208 saver.py:1134] *******************************************************\n",
      "W1002 11:02:33.552828 139821803878208 saver.py:1135] TensorFlow's V1 checkpoint format has been deprecated.\n",
      "W1002 11:02:33.553677 139821803878208 saver.py:1136] Consider switching to the more efficient V2 format:\n",
      "W1002 11:02:33.554656 139821803878208 saver.py:1137]    `tf.train.Saver(write_version=tf.train.SaverDef.V2)`\n",
      "W1002 11:02:33.555506 139821803878208 saver.py:1138] now on by default.\n",
      "W1002 11:02:33.556329 139821803878208 saver.py:1139] *******************************************************\n"
     ]
    },
    {
     "name": "stdout",
     "output_type": "stream",
     "text": [
      "Epoch: 28, Step: 2800, Loss: 0.303214\n",
      "Epoch: 28, Step: 2810, Loss: 0.405847\n",
      "Epoch: 28, Step: 2820, Loss: 0.902006\n",
      "Epoch: 28, Step: 2830, Loss: 0.429565\n",
      "Epoch: 28, Step: 2840, Loss: 0.639927\n",
      "Epoch: 28, Step: 2850, Loss: 0.372799\n",
      "Epoch: 28, Step: 2860, Loss: 0.352676\n",
      "Epoch: 28, Step: 2870, Loss: 0.354328\n",
      "Epoch: 28, Step: 2880, Loss: 0.339698\n",
      "Epoch: 28, Step: 2890, Loss: 0.323265\n"
     ]
    },
    {
     "name": "stderr",
     "output_type": "stream",
     "text": [
      "W1002 11:04:15.255020 139821803878208 saver.py:1134] *******************************************************\n",
      "W1002 11:04:15.256741 139821803878208 saver.py:1135] TensorFlow's V1 checkpoint format has been deprecated.\n",
      "W1002 11:04:15.257714 139821803878208 saver.py:1136] Consider switching to the more efficient V2 format:\n",
      "W1002 11:04:15.258793 139821803878208 saver.py:1137]    `tf.train.Saver(write_version=tf.train.SaverDef.V2)`\n",
      "W1002 11:04:15.259817 139821803878208 saver.py:1138] now on by default.\n",
      "W1002 11:04:15.260899 139821803878208 saver.py:1139] *******************************************************\n"
     ]
    },
    {
     "name": "stdout",
     "output_type": "stream",
     "text": [
      "Epoch: 28, Step: 2900, Loss: 9.84952\n",
      "Epoch: 28, Step: 2910, Loss: 3.26403\n",
      "Epoch: 28, Step: 2920, Loss: 0.303996\n",
      "Epoch: 28, Step: 2930, Loss: 0.298615\n",
      "Epoch: 28, Step: 2940, Loss: 0.322076\n",
      "Epoch: 28, Step: 2950, Loss: 0.289911\n",
      "Epoch: 28, Step: 2960, Loss: 0.297747\n",
      "Epoch: 28, Step: 2970, Loss: 0.314238\n",
      "Epoch: 28, Step: 2980, Loss: 0.39249\n",
      "Epoch: 28, Step: 2990, Loss: 0.31376\n"
     ]
    },
    {
     "name": "stderr",
     "output_type": "stream",
     "text": [
      "W1002 11:05:56.296871 139821803878208 saver.py:1134] *******************************************************\n",
      "W1002 11:05:56.298231 139821803878208 saver.py:1135] TensorFlow's V1 checkpoint format has been deprecated.\n",
      "W1002 11:05:56.299056 139821803878208 saver.py:1136] Consider switching to the more efficient V2 format:\n",
      "W1002 11:05:56.299822 139821803878208 saver.py:1137]    `tf.train.Saver(write_version=tf.train.SaverDef.V2)`\n",
      "W1002 11:05:56.300547 139821803878208 saver.py:1138] now on by default.\n",
      "W1002 11:05:56.301240 139821803878208 saver.py:1139] *******************************************************\n"
     ]
    },
    {
     "name": "stdout",
     "output_type": "stream",
     "text": [
      "Epoch: 28, Step: 3000, Loss: 0.289197\n",
      "Epoch: 28, Step: 3010, Loss: 0.285009\n",
      "Epoch: 28, Step: 3020, Loss: 0.306308\n",
      "Epoch: 28, Step: 3030, Loss: 0.299684\n",
      "Epoch: 28, Step: 3040, Loss: 0.299421\n",
      "Epoch: 28, Step: 3050, Loss: 0.291166\n",
      "Epoch: 28, Step: 3060, Loss: 0.292471\n",
      "Epoch: 28, Step: 3070, Loss: 0.299432\n",
      "Epoch: 28, Step: 3080, Loss: 0.308197\n",
      "Epoch: 28, Step: 3090, Loss: 0.33111\n"
     ]
    },
    {
     "name": "stderr",
     "output_type": "stream",
     "text": [
      "W1002 11:07:37.766722 139821803878208 saver.py:1134] *******************************************************\n",
      "W1002 11:07:37.767789 139821803878208 saver.py:1135] TensorFlow's V1 checkpoint format has been deprecated.\n",
      "W1002 11:07:37.768543 139821803878208 saver.py:1136] Consider switching to the more efficient V2 format:\n",
      "W1002 11:07:37.769357 139821803878208 saver.py:1137]    `tf.train.Saver(write_version=tf.train.SaverDef.V2)`\n",
      "W1002 11:07:37.771388 139821803878208 saver.py:1138] now on by default.\n",
      "W1002 11:07:37.772385 139821803878208 saver.py:1139] *******************************************************\n"
     ]
    },
    {
     "name": "stdout",
     "output_type": "stream",
     "text": [
      "Epoch: 28, Step: 3100, Loss: 0.288958\n",
      "Epoch: 28, Step: 3110, Loss: 0.305093\n",
      "Epoch: 28, Step: 3120, Loss: 0.285262\n",
      "Epoch: 28, Step: 3130, Loss: 0.332022\n",
      "Epoch: 28, Step: 3140, Loss: 0.307346\n",
      "Epoch: 28, Step: 3150, Loss: 0.321055\n",
      "Epoch: 28, Step: 3160, Loss: 0.285307\n",
      "Epoch: 28, Step: 3170, Loss: 0.339241\n",
      "Epoch: 28, Step: 3180, Loss: 0.349608\n",
      "Epoch: 28, Step: 3190, Loss: 0.294044\n"
     ]
    },
    {
     "name": "stderr",
     "output_type": "stream",
     "text": [
      "W1002 11:09:24.802555 139821803878208 saver.py:1134] *******************************************************\n",
      "W1002 11:09:24.803548 139821803878208 saver.py:1135] TensorFlow's V1 checkpoint format has been deprecated.\n",
      "W1002 11:09:24.804509 139821803878208 saver.py:1136] Consider switching to the more efficient V2 format:\n",
      "W1002 11:09:24.805618 139821803878208 saver.py:1137]    `tf.train.Saver(write_version=tf.train.SaverDef.V2)`\n",
      "W1002 11:09:24.806400 139821803878208 saver.py:1138] now on by default.\n",
      "W1002 11:09:24.807184 139821803878208 saver.py:1139] *******************************************************\n"
     ]
    },
    {
     "name": "stdout",
     "output_type": "stream",
     "text": [
      "Epoch: 28, Step: 3200, Loss: 0.783942\n",
      "Epoch: 28, Step: 3210, Loss: 0.727823\n",
      "Epoch: 28, Step: 3220, Loss: 5.53791\n",
      "Epoch: 28, Step: 3230, Loss: 1.05715\n",
      "Epoch: 28, Step: 3240, Loss: 0.333781\n",
      "Epoch: 28, Step: 3250, Loss: 0.458243\n",
      "Model saved in file: ./save/model2.ckpt\n"
     ]
    },
    {
     "name": "stderr",
     "output_type": "stream",
     "text": [
      "W1002 11:10:20.292293 139821803878208 saver.py:1134] *******************************************************\n",
      "W1002 11:10:20.293551 139821803878208 saver.py:1135] TensorFlow's V1 checkpoint format has been deprecated.\n",
      "W1002 11:10:20.294481 139821803878208 saver.py:1136] Consider switching to the more efficient V2 format:\n",
      "W1002 11:10:20.295396 139821803878208 saver.py:1137]    `tf.train.Saver(write_version=tf.train.SaverDef.V2)`\n",
      "W1002 11:10:20.296372 139821803878208 saver.py:1138] now on by default.\n",
      "W1002 11:10:20.297302 139821803878208 saver.py:1139] *******************************************************\n"
     ]
    },
    {
     "name": "stdout",
     "output_type": "stream",
     "text": [
      "Epoch: 29, Step: 2900, Loss: 1.50905\n",
      "Epoch: 29, Step: 2910, Loss: 0.319521\n",
      "Epoch: 29, Step: 2920, Loss: 0.290515\n",
      "Epoch: 29, Step: 2930, Loss: 0.322263\n",
      "Epoch: 29, Step: 2940, Loss: 0.30828\n",
      "Epoch: 29, Step: 2950, Loss: 0.282145\n",
      "Epoch: 29, Step: 2960, Loss: 0.93395\n",
      "Epoch: 29, Step: 2970, Loss: 0.617615\n",
      "Epoch: 29, Step: 2980, Loss: 1.00899\n",
      "Epoch: 29, Step: 2990, Loss: 0.414465\n"
     ]
    },
    {
     "name": "stderr",
     "output_type": "stream",
     "text": [
      "W1002 11:12:00.980845 139821803878208 saver.py:1134] *******************************************************\n",
      "W1002 11:12:00.981838 139821803878208 saver.py:1135] TensorFlow's V1 checkpoint format has been deprecated.\n",
      "W1002 11:12:00.982695 139821803878208 saver.py:1136] Consider switching to the more efficient V2 format:\n",
      "W1002 11:12:00.983796 139821803878208 saver.py:1137]    `tf.train.Saver(write_version=tf.train.SaverDef.V2)`\n",
      "W1002 11:12:00.984562 139821803878208 saver.py:1138] now on by default.\n",
      "W1002 11:12:00.985362 139821803878208 saver.py:1139] *******************************************************\n"
     ]
    },
    {
     "name": "stdout",
     "output_type": "stream",
     "text": [
      "Epoch: 29, Step: 3000, Loss: 0.295016\n",
      "Epoch: 29, Step: 3010, Loss: 0.295348\n",
      "Epoch: 29, Step: 3020, Loss: 0.358834\n",
      "Epoch: 29, Step: 3030, Loss: 0.425972\n",
      "Epoch: 29, Step: 3040, Loss: 0.290844\n",
      "Epoch: 29, Step: 3050, Loss: 0.286829\n",
      "Epoch: 29, Step: 3060, Loss: 0.301202\n",
      "Epoch: 29, Step: 3070, Loss: 0.479272\n",
      "Epoch: 29, Step: 3080, Loss: 0.402848\n",
      "Epoch: 29, Step: 3090, Loss: 0.408775\n"
     ]
    },
    {
     "name": "stderr",
     "output_type": "stream",
     "text": [
      "W1002 11:13:43.415084 139821803878208 saver.py:1134] *******************************************************\n",
      "W1002 11:13:43.416356 139821803878208 saver.py:1135] TensorFlow's V1 checkpoint format has been deprecated.\n",
      "W1002 11:13:43.417262 139821803878208 saver.py:1136] Consider switching to the more efficient V2 format:\n",
      "W1002 11:13:43.418658 139821803878208 saver.py:1137]    `tf.train.Saver(write_version=tf.train.SaverDef.V2)`\n",
      "W1002 11:13:43.419522 139821803878208 saver.py:1138] now on by default.\n",
      "W1002 11:13:43.421222 139821803878208 saver.py:1139] *******************************************************\n"
     ]
    },
    {
     "name": "stdout",
     "output_type": "stream",
     "text": [
      "Epoch: 29, Step: 3100, Loss: 0.387359\n",
      "Epoch: 29, Step: 3110, Loss: 0.389441\n",
      "Epoch: 29, Step: 3120, Loss: 0.288675\n",
      "Epoch: 29, Step: 3130, Loss: 0.289041\n",
      "Epoch: 29, Step: 3140, Loss: 0.337495\n",
      "Epoch: 29, Step: 3150, Loss: 0.380643\n",
      "Epoch: 29, Step: 3160, Loss: 0.312784\n",
      "Epoch: 29, Step: 3170, Loss: 0.308037\n",
      "Epoch: 29, Step: 3180, Loss: 0.399987\n",
      "Epoch: 29, Step: 3190, Loss: 0.940393\n"
     ]
    },
    {
     "name": "stderr",
     "output_type": "stream",
     "text": [
      "W1002 11:15:29.367220 139821803878208 saver.py:1134] *******************************************************\n",
      "W1002 11:15:29.368461 139821803878208 saver.py:1135] TensorFlow's V1 checkpoint format has been deprecated.\n",
      "W1002 11:15:29.369419 139821803878208 saver.py:1136] Consider switching to the more efficient V2 format:\n",
      "W1002 11:15:29.370631 139821803878208 saver.py:1137]    `tf.train.Saver(write_version=tf.train.SaverDef.V2)`\n",
      "W1002 11:15:29.371781 139821803878208 saver.py:1138] now on by default.\n",
      "W1002 11:15:29.373514 139821803878208 saver.py:1139] *******************************************************\n"
     ]
    },
    {
     "name": "stdout",
     "output_type": "stream",
     "text": [
      "Epoch: 29, Step: 3200, Loss: 1.25355\n",
      "Epoch: 29, Step: 3210, Loss: 0.646579\n",
      "Epoch: 29, Step: 3220, Loss: 0.915587\n",
      "Epoch: 29, Step: 3230, Loss: 0.27994\n",
      "Epoch: 29, Step: 3240, Loss: 0.317431\n",
      "Epoch: 29, Step: 3250, Loss: 0.491586\n",
      "Epoch: 29, Step: 3260, Loss: 0.603905\n",
      "Epoch: 29, Step: 3270, Loss: 0.467377\n",
      "Epoch: 29, Step: 3280, Loss: 0.362398\n",
      "Epoch: 29, Step: 3290, Loss: 0.364944\n"
     ]
    },
    {
     "name": "stderr",
     "output_type": "stream",
     "text": [
      "W1002 11:17:12.244411 139821803878208 saver.py:1134] *******************************************************\n",
      "W1002 11:17:12.245638 139821803878208 saver.py:1135] TensorFlow's V1 checkpoint format has been deprecated.\n",
      "W1002 11:17:12.246744 139821803878208 saver.py:1136] Consider switching to the more efficient V2 format:\n",
      "W1002 11:17:12.247641 139821803878208 saver.py:1137]    `tf.train.Saver(write_version=tf.train.SaverDef.V2)`\n",
      "W1002 11:17:12.248493 139821803878208 saver.py:1138] now on by default.\n",
      "W1002 11:17:12.249402 139821803878208 saver.py:1139] *******************************************************\n"
     ]
    },
    {
     "name": "stdout",
     "output_type": "stream",
     "text": [
      "Epoch: 29, Step: 3300, Loss: 0.274069\n",
      "Epoch: 29, Step: 3310, Loss: 0.27062\n",
      "Epoch: 29, Step: 3320, Loss: 0.279923\n",
      "Epoch: 29, Step: 3330, Loss: 0.279385\n",
      "Epoch: 29, Step: 3340, Loss: 0.317284\n",
      "Epoch: 29, Step: 3350, Loss: 0.285902\n",
      "Model saved in file: ./save/model2.ckpt\n",
      "Run the command line:\n",
      "--> tensorboard --logdir=./logs \n",
      "Then open http://0.0.0.0:6006/ into your web browser\n"
     ]
    }
   ],
   "source": [
    "# train over the dataset about 30 times\n",
    "for epoch in range(epochs):\n",
    "  for i in range(int(driving_data.num_images/batch_size)):\n",
    "    xs, ys = driving_data.LoadTrainBatch(batch_size)  #load batch wise train  data \n",
    "    train_step.run(feed_dict={model.x: xs, model.y_: ys, model.keep_prob: 0.8})  #selection dropout rate = 0.8\n",
    "    if i % 10 == 0:\n",
    "      xs, ys = driving_data.LoadValBatch(batch_size)  #load batchwise validation data\n",
    "      loss_value = loss.eval(feed_dict={model.x:xs, model.y_: ys, model.keep_prob: 1.0})\n",
    "      print(\"Epoch: %d, Step: %d, Loss: %g\" % (epoch, epoch * batch_size + i, loss_value))\n",
    "\n",
    "    # write logs at every iteration\n",
    "    summary = merged_summary_op.eval(feed_dict={model.x:xs, model.y_: ys, model.keep_prob: 1.0})\n",
    "    summary_writer.add_summary(summary, epoch * driving_data.num_images/batch_size + i)\n",
    "\n",
    "    if i % batch_size == 0:\n",
    "      if not os.path.exists(LOGDIR):\n",
    "        os.makedirs(LOGDIR)\n",
    "      checkpoint_path = os.path.join(LOGDIR, \"model2.ckpt\")   #after train the model then save in the save folder\n",
    "      filename = saver.save(sess, checkpoint_path)\n",
    "  print(\"Model saved in file: %s\" % filename)\n",
    "\n",
    "print(\"Run the command line:\\n\" \\\n",
    "          \"--> tensorboard --logdir=./logs \" \\\n",
    "          \"\\nThen open http://0.0.0.0:6006/ into your web browser\")\n"
   ]
  },
  {
   "cell_type": "markdown",
   "metadata": {},
   "source": [
    "# run the model"
   ]
  },
  {
   "cell_type": "markdown",
   "metadata": {},
   "source": [
    "* after we have  train the model then we store that model in save folder as model.ckpt formate"
   ]
  },
  {
   "cell_type": "code",
   "execution_count": 3,
   "metadata": {},
   "outputs": [
    {
     "name": "stderr",
     "output_type": "stream",
     "text": [
      "W1002 18:18:45.571818 140089816483648 deprecation.py:323] From /home/nagesh/.local/lib/python3.6/site-packages/tensorflow/python/training/saver.py:1276: checkpoint_exists (from tensorflow.python.training.checkpoint_management) is deprecated and will be removed in a future version.\n",
      "Instructions for updating:\n",
      "Use standard file APIs to check for files with this prefix.\n"
     ]
    }
   ],
   "source": [
    "#InteractiveSession is that InteractiveSession makes itself the default session so that you can call run() or eval() without explicitly calling the session: https://stackoverflow.com/questions/41791469/whats-the-difference-between-tf-session-and-tf-interactivesession\n",
    "sess = tf.InteractiveSession()\n",
    "# save the train  model \n",
    "saver = tf.train.Saver()\n",
    "saver.restore(sess, \"save/model2.ckpt\")\n",
    "\n",
    "#read the steering wheel image\n",
    "img = cv2.imread('steering_wheel_image.jpg',0)\n",
    "rows,cols = img.shape\n",
    "\n",
    "smoothed_angle = 0\n",
    "\n"
   ]
  },
  {
   "cell_type": "code",
   "execution_count": 4,
   "metadata": {},
   "outputs": [
    {
     "name": "stdout",
     "output_type": "stream",
     "text": [
      "Starting frameofvideo:36325\n"
     ]
    }
   ],
   "source": [
    "#read data.txt\n",
    "xs = []  #assume all xs are empty list \n",
    "ys = []\n",
    "with open(\"driving_dataset/data.txt\") as f:\n",
    "    for line in f:\n",
    "        xs.append(\"driving_dataset/\" + line.split()[0])   #empty list append with each  datapoints in driving dataset \n",
    "        #the paper by Nvidia uses the inverse of the turning radius,\n",
    "        #but steering wheel angle is proportional to the inverse of turning radius\n",
    "        #so the steering wheel angle in radians is used as the output\n",
    "        ys.append(float(line.split()[1]) * scipy.pi / 180)\n",
    "\n",
    "#get number of images\n",
    "num_images = len(xs)\n",
    "\n",
    "\n",
    "i = math.ceil(num_images*0.8)\n",
    "print(\"Starting frameofvideo:\" +str(i))\n"
   ]
  },
  {
   "cell_type": "code",
   "execution_count": 6,
   "metadata": {},
   "outputs": [
    {
     "name": "stdout",
     "output_type": "stream",
     "text": [
      "Steering angle: 75.4582155728192 (pred)\t48.5 (actual)\n",
      "Steering angle: 56.278696043775724 (pred)\t48.71000000000001 (actual)\n",
      "Steering angle: 63.4811919952567 (pred)\t48.91 (actual)\n",
      "Steering angle: 58.979427973679634 (pred)\t49.11 (actual)\n",
      "Steering angle: 61.178858169450464 (pred)\t49.21 (actual)\n",
      "Steering angle: 69.72815131204206 (pred)\t49.41 (actual)\n",
      "Steering angle: 77.93889246804365 (pred)\t49.92 (actual)\n",
      "Steering angle: 89.73113210780062 (pred)\t50.12 (actual)\n",
      "Steering angle: 84.84281353014669 (pred)\t50.22 (actual)\n",
      "Steering angle: 75.67412468267247 (pred)\t50.32 (actual)\n",
      "Steering angle: 79.24654584502092 (pred)\t50.32 (actual)\n",
      "Steering angle: 75.60181346992955 (pred)\t50.32 (actual)\n",
      "Steering angle: 72.16287469453066 (pred)\t50.52 (actual)\n",
      "Steering angle: 68.3051292097941 (pred)\t50.92 (actual)\n",
      "Steering angle: 68.33522302327717 (pred)\t51.23 (actual)\n",
      "Steering angle: 68.67146640592773 (pred)\t51.330000000000005 (actual)\n",
      "Steering angle: 66.42549530115244 (pred)\t51.330000000000005 (actual)\n",
      "Steering angle: 75.35058545187813 (pred)\t51.330000000000005 (actual)\n",
      "Steering angle: 77.67605312840321 (pred)\t51.330000000000005 (actual)\n",
      "Steering angle: 79.8374323403079 (pred)\t51.330000000000005 (actual)\n",
      "Steering angle: 74.77727986351478 (pred)\t51.330000000000005 (actual)\n",
      "Steering angle: 65.53541236927306 (pred)\t51.330000000000005 (actual)\n",
      "Steering angle: 61.778227759686594 (pred)\t51.23 (actual)\n",
      "Steering angle: 58.96692872749851 (pred)\t51.23 (actual)\n",
      "Steering angle: 54.38153245462923 (pred)\t51.23 (actual)\n",
      "Steering angle: 51.883179029832796 (pred)\t51.23 (actual)\n",
      "Steering angle: 51.366444483270065 (pred)\t51.13 (actual)\n",
      "Steering angle: 49.26314578497258 (pred)\t51.03000000000001 (actual)\n",
      "Steering angle: 53.38251483567731 (pred)\t51.03000000000001 (actual)\n",
      "Steering angle: 57.001555454205686 (pred)\t51.03000000000001 (actual)\n",
      "Steering angle: 64.11501988985555 (pred)\t51.03000000000001 (actual)\n",
      "Steering angle: 76.4630456827548 (pred)\t51.03000000000001 (actual)\n",
      "Steering angle: 98.26423770205929 (pred)\t51.03000000000001 (actual)\n",
      "Steering angle: 93.80872772154154 (pred)\t51.03000000000001 (actual)\n",
      "Steering angle: 88.88196883923878 (pred)\t50.82 (actual)\n",
      "Steering angle: 68.76004029908445 (pred)\t50.52 (actual)\n",
      "Steering angle: 69.34640520914088 (pred)\t49.71 (actual)\n",
      "Steering angle: 54.096693075672185 (pred)\t49.11 (actual)\n",
      "Steering angle: 53.45704244480591 (pred)\t48.61 (actual)\n",
      "Steering angle: 52.88757200766151 (pred)\t47.8 (actual)\n",
      "Steering angle: 42.856271249149714 (pred)\t47.28999999999999 (actual)\n",
      "Steering angle: 32.54271292318714 (pred)\t46.69 (actual)\n",
      "Steering angle: 22.24476157947804 (pred)\t46.18 (actual)\n",
      "Steering angle: 17.506505672983874 (pred)\t45.57999999999999 (actual)\n",
      "Steering angle: 14.677854545209376 (pred)\t44.669999999999995 (actual)\n",
      "Steering angle: 15.495417943576149 (pred)\t43.76 (actual)\n",
      "Steering angle: 16.462203899834773 (pred)\t42.86 (actual)\n",
      "Steering angle: 15.827725429717486 (pred)\t41.85 (actual)\n",
      "Steering angle: 17.020119364450803 (pred)\t41.24 (actual)\n",
      "Steering angle: 16.255973168035407 (pred)\t40.93999999999999 (actual)\n",
      "Steering angle: 17.09494408680829 (pred)\t40.84 (actual)\n",
      "Steering angle: 12.469380325203808 (pred)\t40.84 (actual)\n",
      "Steering angle: 9.196948755165135 (pred)\t40.84 (actual)\n",
      "Steering angle: 8.064825263441657 (pred)\t40.84 (actual)\n",
      "Steering angle: 8.108314785434422 (pred)\t40.84 (actual)\n",
      "Steering angle: 7.982477941487045 (pred)\t40.84 (actual)\n",
      "Steering angle: 7.725720031528864 (pred)\t40.93999999999999 (actual)\n",
      "Steering angle: 7.56489725110539 (pred)\t41.14 (actual)\n",
      "Steering angle: 6.625441016150102 (pred)\t41.54999999999999 (actual)\n",
      "Steering angle: 5.815669582965846 (pred)\t42.05 (actual)\n",
      "Steering angle: 5.292209861391592 (pred)\t42.25 (actual)\n",
      "Steering angle: 4.451662449580905 (pred)\t42.25 (actual)\n",
      "Steering angle: 4.42315708196668 (pred)\t42.25 (actual)\n",
      "Steering angle: 4.53946197004048 (pred)\t42.25 (actual)\n",
      "Steering angle: 4.92643146010943 (pred)\t42.15 (actual)\n",
      "Steering angle: 8.120482767440798 (pred)\t41.65 (actual)\n",
      "Steering angle: 7.856438753185507 (pred)\t41.34 (actual)\n",
      "Steering angle: 7.465889390217824 (pred)\t41.24 (actual)\n",
      "Steering angle: 7.23356050559984 (pred)\t41.24 (actual)\n",
      "Steering angle: 7.262582833156871 (pred)\t40.44 (actual)\n",
      "Steering angle: 6.3121654252441814 (pred)\t39.23 (actual)\n",
      "Steering angle: 5.476187836875056 (pred)\t38.02 (actual)\n",
      "Steering angle: 5.152377106061214 (pred)\t36.90999999999999 (actual)\n",
      "Steering angle: 4.5077250691751924 (pred)\t36.400000000000006 (actual)\n",
      "Steering angle: 3.939145117943835 (pred)\t36.0 (actual)\n",
      "Steering angle: 3.897502735234737 (pred)\t36.0 (actual)\n",
      "Steering angle: 1.6991040047502883 (pred)\t36.0 (actual)\n",
      "Steering angle: 2.1878167397476886 (pred)\t35.9 (actual)\n",
      "Steering angle: 4.531330202946757 (pred)\t35.70000000000001 (actual)\n",
      "Steering angle: 4.377515196611716 (pred)\t35.39 (actual)\n",
      "Steering angle: 5.501428800952838 (pred)\t35.09000000000001 (actual)\n",
      "Steering angle: 6.379865833410524 (pred)\t34.69 (actual)\n",
      "Steering angle: 5.925221975271442 (pred)\t33.78 (actual)\n",
      "Steering angle: 6.197359763693199 (pred)\t32.97 (actual)\n",
      "Steering angle: 5.4454208228719105 (pred)\t31.969999999999995 (actual)\n",
      "Steering angle: 4.945427923738528 (pred)\t31.159999999999993 (actual)\n",
      "Steering angle: 4.694322422205357 (pred)\t30.86 (actual)\n",
      "Steering angle: 4.0803033568600195 (pred)\t30.66 (actual)\n",
      "Steering angle: 3.850752224800115 (pred)\t30.66 (actual)\n",
      "Steering angle: 3.4908923958771805 (pred)\t30.549999999999994 (actual)\n",
      "Steering angle: 3.3728001326749526 (pred)\t30.549999999999994 (actual)\n",
      "Steering angle: 3.976296224386827 (pred)\t30.449999999999992 (actual)\n",
      "Steering angle: 4.266680009402626 (pred)\t29.849999999999998 (actual)\n",
      "Steering angle: 3.757400614318966 (pred)\t29.14 (actual)\n",
      "Steering angle: 3.974885363436396 (pred)\t28.34 (actual)\n",
      "Steering angle: 2.359719154221981 (pred)\t27.93 (actual)\n",
      "Steering angle: 1.2356280716841448 (pred)\t27.63 (actual)\n",
      "Steering angle: 1.0450600308686768 (pred)\t27.33 (actual)\n",
      "Steering angle: 0.9725656836786308 (pred)\t26.920000000000005 (actual)\n",
      "Steering angle: 1.0430691374473238 (pred)\t26.42 (actual)\n",
      "Steering angle: 0.9517718130807616 (pred)\t25.820000000000004 (actual)\n",
      "Steering angle: 0.9230818169155347 (pred)\t25.11 (actual)\n",
      "Steering angle: 0.9070574460707442 (pred)\t24.71 (actual)\n",
      "Steering angle: 1.1486976927964536 (pred)\t24.61 (actual)\n",
      "Steering angle: 1.673512993477543 (pred)\t24.61 (actual)\n",
      "Steering angle: 1.0721180387090938 (pred)\t24.4 (actual)\n",
      "Steering angle: 2.1928305254853013 (pred)\t24.1 (actual)\n",
      "Steering angle: 3.2901556974914445 (pred)\t23.9 (actual)\n",
      "Steering angle: 3.6528026704825676 (pred)\t23.7 (actual)\n",
      "Steering angle: 4.317507715884923 (pred)\t23.29 (actual)\n",
      "Steering angle: 4.558544237921026 (pred)\t22.89 (actual)\n",
      "Steering angle: 4.89899330955302 (pred)\t22.49 (actual)\n",
      "Steering angle: 5.000786180074658 (pred)\t22.29 (actual)\n",
      "Steering angle: 5.312875452499112 (pred)\t21.98 (actual)\n",
      "Steering angle: 6.406153950865434 (pred)\t21.68 (actual)\n",
      "Steering angle: 6.08252592761189 (pred)\t21.68 (actual)\n",
      "Steering angle: 6.052484621208058 (pred)\t21.68 (actual)\n",
      "Steering angle: 5.935578676487297 (pred)\t21.68 (actual)\n",
      "Steering angle: 5.94364214168932 (pred)\t21.68 (actual)\n",
      "Steering angle: 7.128313693792291 (pred)\t21.68 (actual)\n",
      "Steering angle: 6.459955350957625 (pred)\t21.68 (actual)\n",
      "Steering angle: 6.322832473180449 (pred)\t21.68 (actual)\n",
      "Steering angle: 5.461425663644542 (pred)\t21.68 (actual)\n",
      "Steering angle: 4.711000036611234 (pred)\t21.68 (actual)\n",
      "Steering angle: 4.539257918139026 (pred)\t21.68 (actual)\n",
      "Steering angle: 4.626180186177078 (pred)\t22.08 (actual)\n",
      "Steering angle: 4.52100594512946 (pred)\t22.39 (actual)\n",
      "Steering angle: 4.586510874364467 (pred)\t22.89 (actual)\n",
      "Steering angle: 4.53728911611077 (pred)\t23.5 (actual)\n",
      "Steering angle: 4.991344297320762 (pred)\t23.9 (actual)\n",
      "Steering angle: 4.828077589834892 (pred)\t24.200000000000003 (actual)\n",
      "Steering angle: 5.187672108597255 (pred)\t24.200000000000003 (actual)\n",
      "Steering angle: 5.826457866759881 (pred)\t24.200000000000003 (actual)\n",
      "Steering angle: 6.984749520740969 (pred)\t24.200000000000003 (actual)\n",
      "Steering angle: 8.017019915667092 (pred)\t24.4 (actual)\n",
      "Steering angle: 7.381246270928441 (pred)\t24.71 (actual)\n",
      "Steering angle: 7.567047053146652 (pred)\t24.91 (actual)\n",
      "Steering angle: 6.991301806589127 (pred)\t25.41 (actual)\n",
      "Steering angle: 6.154516121463825 (pred)\t25.61 (actual)\n",
      "Steering angle: 8.199958848623067 (pred)\t25.71 (actual)\n"
     ]
    },
    {
     "name": "stdout",
     "output_type": "stream",
     "text": [
      "Steering angle: 9.530363585725661 (pred)\t25.820000000000004 (actual)\n",
      "Steering angle: 8.47097477847365 (pred)\t26.12 (actual)\n",
      "Steering angle: 7.157737294963059 (pred)\t26.520000000000003 (actual)\n",
      "Steering angle: 5.511157551651875 (pred)\t26.82 (actual)\n",
      "Steering angle: 5.562807442155512 (pred)\t27.03 (actual)\n",
      "Steering angle: 5.04402682704954 (pred)\t27.43 (actual)\n",
      "Steering angle: 5.340271341260033 (pred)\t27.73 (actual)\n",
      "Steering angle: 5.987361328792925 (pred)\t28.13 (actual)\n",
      "Steering angle: 6.944217897545644 (pred)\t28.44 (actual)\n",
      "Steering angle: 6.9524303462489385 (pred)\t28.840000000000003 (actual)\n",
      "Steering angle: 7.014250815313547 (pred)\t29.04 (actual)\n",
      "Steering angle: 7.471696758559627 (pred)\t29.450000000000003 (actual)\n",
      "Steering angle: 8.238680898575161 (pred)\t29.95 (actual)\n",
      "Steering angle: 7.957450420820826 (pred)\t30.149999999999995 (actual)\n",
      "Steering angle: 8.236727464472539 (pred)\t30.25 (actual)\n",
      "Steering angle: 9.45836826923185 (pred)\t30.449999999999992 (actual)\n",
      "Steering angle: 8.616923968205773 (pred)\t30.549999999999994 (actual)\n",
      "Steering angle: 10.077351601443315 (pred)\t30.549999999999994 (actual)\n",
      "Steering angle: 12.323864852483979 (pred)\t30.66 (actual)\n",
      "Steering angle: 12.552887925543676 (pred)\t30.76 (actual)\n",
      "Steering angle: 19.408161819056946 (pred)\t30.76 (actual)\n",
      "Steering angle: 15.998978762777215 (pred)\t30.86 (actual)\n",
      "Steering angle: 11.990724937037545 (pred)\t30.76 (actual)\n",
      "Steering angle: 9.044246215891159 (pred)\t30.449999999999992 (actual)\n",
      "Steering angle: 8.480712066909149 (pred)\t30.149999999999995 (actual)\n",
      "Steering angle: 8.13001685774849 (pred)\t29.849999999999998 (actual)\n",
      "Steering angle: 7.802604909694759 (pred)\t0.0 (actual)\n",
      "Steering angle: 7.75726696775786 (pred)\t29.650000000000002 (actual)\n",
      "Steering angle: 7.707790784957581 (pred)\t29.55 (actual)\n",
      "Steering angle: 7.68640546266627 (pred)\t29.34 (actual)\n",
      "Steering angle: 6.784695841272235 (pred)\t28.939999999999998 (actual)\n",
      "Steering angle: 6.364776237986674 (pred)\t28.24 (actual)\n",
      "Steering angle: 6.2163639112851135 (pred)\t27.530000000000005 (actual)\n",
      "Steering angle: 6.098389041959245 (pred)\t26.520000000000003 (actual)\n",
      "Steering angle: 5.179603520753354 (pred)\t25.11 (actual)\n",
      "Steering angle: 4.571098979389156 (pred)\t24.200000000000003 (actual)\n",
      "Steering angle: 4.088672899914224 (pred)\t22.99 (actual)\n",
      "Steering angle: 2.829112592430295 (pred)\t22.39 (actual)\n",
      "Steering angle: 2.5478165875486085 (pred)\t22.179999999999996 (actual)\n",
      "Steering angle: 2.942899275134476 (pred)\t21.98 (actual)\n",
      "Steering angle: 3.9780460334748198 (pred)\t20.469999999999995 (actual)\n",
      "Steering angle: 3.8218993713118654 (pred)\t18.55 (actual)\n",
      "Steering angle: 3.58871671304763 (pred)\t17.34 (actual)\n",
      "Steering angle: 3.1423329014926202 (pred)\t15.929999999999998 (actual)\n",
      "Steering angle: 2.0114813190586465 (pred)\t14.82 (actual)\n",
      "Steering angle: 2.1678687453898435 (pred)\t14.02 (actual)\n",
      "Steering angle: 1.9578833305376755 (pred)\t13.01 (actual)\n",
      "Steering angle: 1.5566000051242002 (pred)\t11.699999999999998 (actual)\n",
      "Steering angle: 1.356665747244235 (pred)\t11.089999999999998 (actual)\n",
      "Steering angle: 1.3531282428626972 (pred)\t10.99 (actual)\n",
      "Steering angle: 1.3302758172820097 (pred)\t10.99 (actual)\n",
      "Steering angle: 1.1643364781182557 (pred)\t10.99 (actual)\n",
      "Steering angle: 0.7964222553382893 (pred)\t10.99 (actual)\n",
      "Steering angle: 0.8876677663166945 (pred)\t10.99 (actual)\n",
      "Steering angle: 1.0750393319614495 (pred)\t10.79 (actual)\n",
      "Steering angle: 0.7585155592183648 (pred)\t10.08 (actual)\n",
      "Steering angle: 0.6658932848745259 (pred)\t9.28 (actual)\n",
      "Steering angle: 0.2021426501377008 (pred)\t9.08 (actual)\n",
      "Steering angle: 0.4883197323158601 (pred)\t0.0 (actual)\n",
      "Steering angle: 0.154292172421803 (pred)\t9.08 (actual)\n",
      "Steering angle: 1.0420199563577863 (pred)\t9.08 (actual)\n",
      "Steering angle: 0.9364117848544607 (pred)\t8.97 (actual)\n",
      "Steering angle: 0.9495760139843084 (pred)\t8.97 (actual)\n",
      "Steering angle: 1.2993689978442904 (pred)\t8.97 (actual)\n",
      "Steering angle: 1.2519289584686148 (pred)\t8.87 (actual)\n",
      "Steering angle: 2.2641114468806123 (pred)\t8.87 (actual)\n",
      "Steering angle: 2.377417241578542 (pred)\t8.87 (actual)\n",
      "Steering angle: 2.136667160600756 (pred)\t8.87 (actual)\n",
      "Steering angle: 2.247933290057791 (pred)\t8.87 (actual)\n",
      "Steering angle: 2.2822219069083123 (pred)\t8.87 (actual)\n",
      "Steering angle: 2.651963312012963 (pred)\t8.97 (actual)\n",
      "Steering angle: 2.741520325523347 (pred)\t9.28 (actual)\n",
      "Steering angle: 2.599100636044826 (pred)\t9.48 (actual)\n",
      "Steering angle: 2.499560660732234 (pred)\t9.68 (actual)\n",
      "Steering angle: 2.568004705744462 (pred)\t9.88 (actual)\n",
      "Steering angle: 2.6521797436322876 (pred)\t9.88 (actual)\n",
      "Steering angle: 3.2524607372357903 (pred)\t9.88 (actual)\n",
      "Steering angle: 3.365611998903749 (pred)\t9.88 (actual)\n",
      "Steering angle: 5.073313397550085 (pred)\t9.88 (actual)\n",
      "Steering angle: 5.046940756504196 (pred)\t9.88 (actual)\n",
      "Steering angle: 4.932432208182109 (pred)\t9.88 (actual)\n",
      "Steering angle: 4.4024581936869565 (pred)\t9.88 (actual)\n",
      "Steering angle: 4.59226915072161 (pred)\t9.979999999999999 (actual)\n",
      "Steering angle: 4.64372694215484 (pred)\t9.979999999999999 (actual)\n",
      "Steering angle: 7.855192243661979 (pred)\t10.08 (actual)\n",
      "Steering angle: 8.372696040279981 (pred)\t10.08 (actual)\n",
      "Steering angle: 10.920611025241321 (pred)\t10.08 (actual)\n",
      "Steering angle: 11.43192923179223 (pred)\t10.08 (actual)\n",
      "Steering angle: 12.264466112366962 (pred)\t9.979999999999999 (actual)\n",
      "Steering angle: 8.561501251959353 (pred)\t10.08 (actual)\n",
      "Steering angle: 9.62797894179619 (pred)\t10.49 (actual)\n",
      "Steering angle: 8.18391388048906 (pred)\t10.99 (actual)\n",
      "Steering angle: 8.244517295220938 (pred)\t11.699999999999998 (actual)\n",
      "Steering angle: 8.316528833414027 (pred)\t12.2 (actual)\n",
      "Steering angle: 8.178984191455603 (pred)\t12.61 (actual)\n",
      "Steering angle: 7.66216853639648 (pred)\t12.61 (actual)\n",
      "Steering angle: 7.493147821421698 (pred)\t12.910000000000002 (actual)\n",
      "Steering angle: 7.189819120381433 (pred)\t13.11 (actual)\n",
      "Steering angle: 7.4364931098037355 (pred)\t13.21 (actual)\n",
      "Steering angle: 6.424143815365602 (pred)\t13.41 (actual)\n",
      "Steering angle: 7.194744540546658 (pred)\t13.82 (actual)\n",
      "Steering angle: 5.9881374090373685 (pred)\t13.82 (actual)\n",
      "Steering angle: 6.072564950481073 (pred)\t14.02 (actual)\n",
      "Steering angle: 6.210917262308851 (pred)\t14.32 (actual)\n",
      "Steering angle: 7.702096968510729 (pred)\t14.82 (actual)\n",
      "Steering angle: 6.856474726146722 (pred)\t15.030000000000001 (actual)\n",
      "Steering angle: 7.547831169690467 (pred)\t15.030000000000001 (actual)\n",
      "Steering angle: 7.955561019741671 (pred)\t15.030000000000001 (actual)\n",
      "Steering angle: 9.389709500147587 (pred)\t15.030000000000001 (actual)\n",
      "Steering angle: 23.909714104769737 (pred)\t15.030000000000001 (actual)\n",
      "Steering angle: 27.14591237503514 (pred)\t15.030000000000001 (actual)\n",
      "Steering angle: 36.97906422308299 (pred)\t15.030000000000001 (actual)\n",
      "Steering angle: 30.341360029164953 (pred)\t15.030000000000001 (actual)\n",
      "Steering angle: 19.518655496807533 (pred)\t15.030000000000001 (actual)\n",
      "Steering angle: 15.973041119404092 (pred)\t15.030000000000001 (actual)\n",
      "Steering angle: 22.727304199055688 (pred)\t15.030000000000001 (actual)\n",
      "Steering angle: 17.81107063826391 (pred)\t15.030000000000001 (actual)\n",
      "Steering angle: 11.578792813099492 (pred)\t15.030000000000001 (actual)\n",
      "Steering angle: 10.53442529937963 (pred)\t15.030000000000001 (actual)\n",
      "Steering angle: 11.703386562617926 (pred)\t15.030000000000001 (actual)\n",
      "Steering angle: 10.583650472727912 (pred)\t15.030000000000001 (actual)\n",
      "Steering angle: 10.647940482064303 (pred)\t15.030000000000001 (actual)\n",
      "Steering angle: 7.679015197984317 (pred)\t15.030000000000001 (actual)\n",
      "Steering angle: 7.713546926880609 (pred)\t15.030000000000001 (actual)\n",
      "Steering angle: 6.973991545911376 (pred)\t15.230000000000002 (actual)\n",
      "Steering angle: 7.118073532679149 (pred)\t15.43 (actual)\n",
      "Steering angle: 7.263084852060866 (pred)\t15.63 (actual)\n",
      "Steering angle: 7.362547774301885 (pred)\t15.929999999999998 (actual)\n",
      "Steering angle: 6.849167704395278 (pred)\t16.34 (actual)\n",
      "Steering angle: 7.486526806795018 (pred)\t16.74 (actual)\n",
      "Steering angle: 6.8154611477280875 (pred)\t17.34 (actual)\n",
      "Steering angle: 7.222364118002897 (pred)\t17.850000000000005 (actual)\n",
      "Steering angle: 7.777356261654161 (pred)\t17.95 (actual)\n",
      "Steering angle: 7.867425112465472 (pred)\t17.95 (actual)\n",
      "Steering angle: 8.014783882487558 (pred)\t18.05 (actual)\n",
      "Steering angle: 7.937938277909391 (pred)\t18.05 (actual)\n"
     ]
    },
    {
     "name": "stdout",
     "output_type": "stream",
     "text": [
      "Steering angle: 7.153692542313943 (pred)\t18.05 (actual)\n",
      "Steering angle: 7.366816642533143 (pred)\t18.05 (actual)\n",
      "Steering angle: 7.215580886383428 (pred)\t18.05 (actual)\n",
      "Steering angle: 7.018171770783957 (pred)\t18.05 (actual)\n",
      "Steering angle: 7.022325379572972 (pred)\t17.95 (actual)\n",
      "Steering angle: 7.251866266349121 (pred)\t17.75 (actual)\n",
      "Steering angle: 7.156746490646585 (pred)\t17.04 (actual)\n",
      "Steering angle: 6.353158086208483 (pred)\t16.03 (actual)\n",
      "Steering angle: 5.241272871882576 (pred)\t15.230000000000002 (actual)\n",
      "Steering angle: 4.728154483598545 (pred)\t14.32 (actual)\n",
      "Steering angle: 3.815405142071653 (pred)\t13.92 (actual)\n",
      "Steering angle: 2.8115030840895323 (pred)\t13.82 (actual)\n",
      "Steering angle: 2.212610753321658 (pred)\t13.82 (actual)\n",
      "Steering angle: 1.2817066622591664 (pred)\t13.610000000000001 (actual)\n",
      "Steering angle: 1.0796792715637096 (pred)\t13.31 (actual)\n",
      "Steering angle: 0.761148490421699 (pred)\t12.910000000000002 (actual)\n",
      "Steering angle: 2.348581250119806 (pred)\t12.5 (actual)\n",
      "Steering angle: 3.1854792064795907 (pred)\t12.5 (actual)\n",
      "Steering angle: 4.483167124014412 (pred)\t12.5 (actual)\n",
      "Steering angle: 4.6459898692042305 (pred)\t12.2 (actual)\n",
      "Steering angle: 4.856361830074738 (pred)\t11.8 (actual)\n",
      "Steering angle: 4.657098745002433 (pred)\t11.8 (actual)\n",
      "Steering angle: 6.095308626643569 (pred)\t11.8 (actual)\n",
      "Steering angle: 7.816854391850698 (pred)\t11.8 (actual)\n",
      "Steering angle: 5.993860253788193 (pred)\t11.8 (actual)\n",
      "Steering angle: 6.542423908770005 (pred)\t12.0 (actual)\n",
      "Steering angle: 6.612782541183953 (pred)\t12.100000000000001 (actual)\n",
      "Steering angle: 6.689635402838113 (pred)\t12.4 (actual)\n",
      "Steering angle: 6.149708948948605 (pred)\t12.4 (actual)\n",
      "Steering angle: 5.381955131990975 (pred)\t12.5 (actual)\n",
      "Steering angle: 4.631175615781296 (pred)\t12.4 (actual)\n",
      "Steering angle: 4.914525586612451 (pred)\t12.4 (actual)\n",
      "Steering angle: 5.126463795237009 (pred)\t12.4 (actual)\n",
      "Steering angle: 6.482617491736904 (pred)\t12.4 (actual)\n",
      "Steering angle: 5.573286659889603 (pred)\t12.4 (actual)\n",
      "Steering angle: 6.516387227653916 (pred)\t12.4 (actual)\n",
      "Steering angle: 5.876302879775341 (pred)\t12.5 (actual)\n",
      "Steering angle: 6.236977849087035 (pred)\t12.81 (actual)\n",
      "Steering angle: 5.997594232830074 (pred)\t13.51 (actual)\n",
      "Steering angle: 6.180510967671247 (pred)\t14.72 (actual)\n",
      "Steering angle: 5.708738275754242 (pred)\t15.53 (actual)\n",
      "Steering angle: 5.593107015087334 (pred)\t15.929999999999998 (actual)\n",
      "Steering angle: 5.6188359108039485 (pred)\t15.929999999999998 (actual)\n",
      "Steering angle: 6.032966501881101 (pred)\t15.83 (actual)\n",
      "Steering angle: 7.432724552929181 (pred)\t15.730000000000002 (actual)\n",
      "Steering angle: 7.293991458055174 (pred)\t15.63 (actual)\n",
      "Steering angle: 5.419472507328209 (pred)\t15.63 (actual)\n",
      "Steering angle: 4.761901594513931 (pred)\t15.53 (actual)\n",
      "Steering angle: 4.0546367866195805 (pred)\t15.53 (actual)\n",
      "Steering angle: 3.867759395833447 (pred)\t15.43 (actual)\n",
      "Steering angle: 3.467929086444186 (pred)\t15.43 (actual)\n",
      "Steering angle: 3.011961665710002 (pred)\t15.43 (actual)\n",
      "Steering angle: 2.952399001052906 (pred)\t15.43 (actual)\n",
      "Steering angle: 3.1700743551368618 (pred)\t15.43 (actual)\n",
      "Steering angle: 3.2744915124036664 (pred)\t15.33 (actual)\n",
      "Steering angle: 3.1376034223792097 (pred)\t15.230000000000002 (actual)\n",
      "Steering angle: 3.1354173349579826 (pred)\t15.230000000000002 (actual)\n",
      "Steering angle: 2.614985094733337 (pred)\t15.230000000000002 (actual)\n",
      "Steering angle: 2.4922512911032624 (pred)\t15.030000000000001 (actual)\n",
      "Steering angle: 2.2927113699261596 (pred)\t14.52 (actual)\n",
      "Steering angle: 1.7859763270300344 (pred)\t13.92 (actual)\n",
      "Steering angle: 2.9368265966320997 (pred)\t13.11 (actual)\n",
      "Steering angle: 3.051985933916042 (pred)\t11.899999999999999 (actual)\n",
      "Steering angle: 2.550555279962372 (pred)\t10.99 (actual)\n",
      "Steering angle: 2.1804608394549967 (pred)\t10.389999999999999 (actual)\n",
      "Steering angle: 2.30740075895333 (pred)\t10.18 (actual)\n",
      "Steering angle: 2.7252266958148703 (pred)\t9.48 (actual)\n",
      "Steering angle: 3.1781713309545006 (pred)\t9.08 (actual)\n",
      "Steering angle: 3.0962948651657958 (pred)\t9.08 (actual)\n",
      "Steering angle: 2.851479327527971 (pred)\t9.08 (actual)\n",
      "Steering angle: 2.8428005049704117 (pred)\t8.87 (actual)\n",
      "Steering angle: 3.1051640792464688 (pred)\t8.87 (actual)\n",
      "Steering angle: 2.695031923598125 (pred)\t0.0 (actual)\n",
      "Steering angle: 2.647114944919312 (pred)\t8.17 (actual)\n",
      "Steering angle: 2.379433428044165 (pred)\t6.55 (actual)\n",
      "Steering angle: 2.599311091248627 (pred)\t4.24 (actual)\n",
      "Steering angle: 0.9234284490159128 (pred)\t2.62 (actual)\n",
      "Steering angle: -0.8672979544167481 (pred)\t2.02 (actual)\n",
      "Steering angle: -2.0979579172533547 (pred)\t1.51 (actual)\n",
      "Steering angle: -3.2209560628022835 (pred)\t1.21 (actual)\n",
      "Steering angle: -2.759858102784362 (pred)\t0.71 (actual)\n",
      "Steering angle: -1.5165224827869752 (pred)\t0.0 (actual)\n",
      "Steering angle: -0.15484456397092777 (pred)\t-0.4 (actual)\n",
      "Steering angle: -0.7318738727522012 (pred)\t-1.01 (actual)\n",
      "Steering angle: -2.079501038568688 (pred)\t-1.92 (actual)\n",
      "Steering angle: -0.2566097802305559 (pred)\t-2.22 (actual)\n",
      "Steering angle: 0.034777615706412426 (pred)\t-2.52 (actual)\n",
      "Steering angle: 1.884381743888464 (pred)\t-2.7200000000000006 (actual)\n",
      "Steering angle: 2.071636075739418 (pred)\t-2.92 (actual)\n",
      "Steering angle: 3.498183195929346 (pred)\t-2.92 (actual)\n",
      "Steering angle: 4.244790533773205 (pred)\t-2.92 (actual)\n",
      "Steering angle: 3.77110453511495 (pred)\t-2.92 (actual)\n",
      "Steering angle: 3.2267817872774813 (pred)\t-3.03 (actual)\n",
      "Steering angle: 2.3136008631724088 (pred)\t-3.03 (actual)\n",
      "Steering angle: 1.8934464721341289 (pred)\t-3.13 (actual)\n",
      "Steering angle: 1.105906450924618 (pred)\t-3.13 (actual)\n",
      "Steering angle: 0.8332820648853507 (pred)\t-3.23 (actual)\n",
      "Steering angle: 0.38221426434401945 (pred)\t-3.23 (actual)\n",
      "Steering angle: 0.25229056603459554 (pred)\t-3.23 (actual)\n",
      "Steering angle: 0.25998215945282327 (pred)\t-3.23 (actual)\n",
      "Steering angle: -0.9107002847758883 (pred)\t-3.23 (actual)\n",
      "Steering angle: -1.4287750425198213 (pred)\t-3.3299999999999996 (actual)\n",
      "Steering angle: -1.2143006992790741 (pred)\t-3.3299999999999996 (actual)\n",
      "Steering angle: -0.5660089186173768 (pred)\t-3.4300000000000006 (actual)\n",
      "Steering angle: -1.092237107961307 (pred)\t-3.53 (actual)\n",
      "Steering angle: -0.9292789329268518 (pred)\t-3.53 (actual)\n",
      "Steering angle: -0.6582095355016732 (pred)\t-3.53 (actual)\n",
      "Steering angle: -0.48207533858888174 (pred)\t-3.3299999999999996 (actual)\n",
      "Steering angle: 0.9213180272840846 (pred)\t-2.62 (actual)\n",
      "Steering angle: 1.4593156997850045 (pred)\t-1.92 (actual)\n",
      "Steering angle: 1.2743002825996395 (pred)\t-1.31 (actual)\n",
      "Steering angle: 1.6299727786745333 (pred)\t-0.61 (actual)\n",
      "Steering angle: 0.9619121893989976 (pred)\t-0.5 (actual)\n",
      "Steering angle: 0.3817788397844311 (pred)\t-0.5 (actual)\n",
      "Steering angle: -0.008201349645892812 (pred)\t-0.5 (actual)\n",
      "Steering angle: -0.9339641225323633 (pred)\t-0.5 (actual)\n",
      "Steering angle: -1.453751656932383 (pred)\t-0.5 (actual)\n",
      "Steering angle: -1.2644215879039797 (pred)\t-0.5 (actual)\n",
      "Steering angle: -1.8869953584630519 (pred)\t-0.3 (actual)\n",
      "Steering angle: -2.0778427967042554 (pred)\t-0.3 (actual)\n",
      "Steering angle: -2.2092061174638182 (pred)\t-0.3 (actual)\n",
      "Steering angle: -2.234461595693587 (pred)\t-0.3 (actual)\n",
      "Steering angle: -1.9850267157427177 (pred)\t-0.3 (actual)\n",
      "Steering angle: -1.4109271178883434 (pred)\t-0.3 (actual)\n",
      "Steering angle: -1.4307273026836815 (pred)\t-0.3 (actual)\n",
      "Steering angle: -1.3753649909227315 (pred)\t-0.4 (actual)\n",
      "Steering angle: -0.7217220238505937 (pred)\t-0.5 (actual)\n",
      "Steering angle: -1.5682399281303714 (pred)\t-0.5 (actual)\n",
      "Steering angle: -2.476786462161884 (pred)\t-0.61 (actual)\n",
      "Steering angle: -1.8566629152458483 (pred)\t-0.71 (actual)\n",
      "Steering angle: -1.2364962527606769 (pred)\t-0.91 (actual)\n",
      "Steering angle: -0.670659689698137 (pred)\t-1.11 (actual)\n",
      "Steering angle: -0.09757947089696072 (pred)\t-1.21 (actual)\n",
      "Steering angle: 0.24108910915662754 (pred)\t-1.31 (actual)\n",
      "Steering angle: -0.10282676372682302 (pred)\t-1.41 (actual)\n",
      "Steering angle: -0.23854400991715155 (pred)\t-1.41 (actual)\n",
      "Steering angle: 0.3227033863946537 (pred)\t-1.41 (actual)\n",
      "Steering angle: 0.4864687510507867 (pred)\t-1.41 (actual)\n",
      "Steering angle: -0.10901320089745546 (pred)\t-1.51 (actual)\n",
      "Steering angle: -0.2724147579286861 (pred)\t-2.52 (actual)\n",
      "Steering angle: -1.329551070178048 (pred)\t-3.03 (actual)\n",
      "Steering angle: -2.2480280589325248 (pred)\t-3.13 (actual)\n",
      "Steering angle: -3.3243651268362764 (pred)\t-3.4300000000000006 (actual)\n",
      "Steering angle: -3.7006489993921527 (pred)\t-3.4300000000000006 (actual)\n"
     ]
    },
    {
     "name": "stdout",
     "output_type": "stream",
     "text": [
      "Steering angle: -4.837136981995268 (pred)\t-3.4300000000000006 (actual)\n",
      "Steering angle: -4.419707409549001 (pred)\t-3.4300000000000006 (actual)\n",
      "Steering angle: -3.6694777235675073 (pred)\t-4.13 (actual)\n",
      "Steering angle: -3.7830065666305206 (pred)\t-4.44 (actual)\n",
      "Steering angle: -3.918542706086138 (pred)\t-4.54 (actual)\n",
      "Steering angle: -4.071430087354527 (pred)\t-4.74 (actual)\n",
      "Steering angle: -4.706273972592409 (pred)\t-5.75 (actual)\n",
      "Steering angle: -3.4028028058212914 (pred)\t-6.76 (actual)\n",
      "Steering angle: -2.503865600900046 (pred)\t-7.760000000000002 (actual)\n",
      "Steering angle: -1.0690147849483809 (pred)\t-7.969999999999999 (actual)\n",
      "Steering angle: -1.0676395690476812 (pred)\t-7.969999999999999 (actual)\n",
      "Steering angle: -1.1221377551569187 (pred)\t-7.969999999999999 (actual)\n",
      "Steering angle: -0.2677224446493138 (pred)\t-8.27 (actual)\n",
      "Steering angle: 0.6819837698160479 (pred)\t-8.77 (actual)\n",
      "Steering angle: 1.2486466256856006 (pred)\t-9.08 (actual)\n",
      "Steering angle: -0.4137497279896443 (pred)\t-9.28 (actual)\n",
      "Steering angle: -1.0451914052884936 (pred)\t-9.380000000000003 (actual)\n",
      "Steering angle: -0.691958033799235 (pred)\t-9.380000000000003 (actual)\n",
      "Steering angle: -1.571668042763483 (pred)\t-9.380000000000003 (actual)\n",
      "Steering angle: -1.6893786691458366 (pred)\t-9.18 (actual)\n",
      "Steering angle: -2.676626271332233 (pred)\t-8.87 (actual)\n",
      "Steering angle: -3.311745925457855 (pred)\t-8.67 (actual)\n",
      "Steering angle: -3.7801724650117885 (pred)\t-8.570000000000002 (actual)\n",
      "Steering angle: -3.853284517434897 (pred)\t-8.570000000000002 (actual)\n",
      "Steering angle: -3.8531491943119662 (pred)\t-8.570000000000002 (actual)\n",
      "Steering angle: -2.6641611760969597 (pred)\t-8.570000000000002 (actual)\n",
      "Steering angle: -2.100433860827484 (pred)\t0.0 (actual)\n",
      "Steering angle: -1.3779644115104503 (pred)\t-8.570000000000002 (actual)\n",
      "Steering angle: -0.27843893141578446 (pred)\t-8.570000000000002 (actual)\n",
      "Steering angle: -0.05159866074980802 (pred)\t-8.570000000000002 (actual)\n",
      "Steering angle: 0.13902160366537342 (pred)\t-8.570000000000002 (actual)\n",
      "Steering angle: 0.3335189109040895 (pred)\t-8.570000000000002 (actual)\n",
      "Steering angle: 0.09973610312739224 (pred)\t-8.570000000000002 (actual)\n",
      "Steering angle: -0.1402194480910644 (pred)\t-8.570000000000002 (actual)\n",
      "Steering angle: -0.1912178025809051 (pred)\t-8.570000000000002 (actual)\n",
      "Steering angle: -0.5902520347461024 (pred)\t-8.570000000000002 (actual)\n",
      "Steering angle: 0.12063219977918678 (pred)\t-8.570000000000002 (actual)\n",
      "Steering angle: -1.1523831134622045 (pred)\t-8.570000000000002 (actual)\n",
      "Steering angle: -1.7097571788648043 (pred)\t-8.570000000000002 (actual)\n",
      "Steering angle: -2.469624795373714 (pred)\t-8.570000000000002 (actual)\n",
      "Steering angle: -2.4606243135949297 (pred)\t-8.570000000000002 (actual)\n",
      "Steering angle: -2.457215835755682 (pred)\t-8.570000000000002 (actual)\n",
      "Steering angle: -2.2379795700029663 (pred)\t-8.570000000000002 (actual)\n",
      "Steering angle: -2.504031019544007 (pred)\t-8.570000000000002 (actual)\n",
      "Steering angle: -2.242349183524482 (pred)\t-8.67 (actual)\n",
      "Steering angle: -1.610706949460043 (pred)\t-8.97 (actual)\n",
      "Steering angle: -1.25158755573182 (pred)\t-9.18 (actual)\n",
      "Steering angle: -1.2759034560638884 (pred)\t-9.380000000000003 (actual)\n",
      "Steering angle: -1.6443302631967232 (pred)\t-9.58 (actual)\n",
      "Steering angle: -2.66806164099986 (pred)\t-9.78 (actual)\n",
      "Steering angle: -2.5191321409120824 (pred)\t-10.08 (actual)\n",
      "Steering angle: -2.02260257457472 (pred)\t-10.49 (actual)\n",
      "Steering angle: -2.8478857942508977 (pred)\t-11.089999999999998 (actual)\n",
      "Steering angle: -2.397741323227561 (pred)\t-11.8 (actual)\n",
      "Steering angle: -2.5941508833306828 (pred)\t-12.910000000000002 (actual)\n",
      "Steering angle: -1.8655398132893377 (pred)\t-14.02 (actual)\n",
      "Steering angle: -0.8587931416004657 (pred)\t-14.420000000000002 (actual)\n",
      "Steering angle: -1.7229210878295345 (pred)\t-14.62 (actual)\n",
      "Steering angle: -2.5550303345292 (pred)\t-14.62 (actual)\n",
      "Steering angle: -1.854724422182034 (pred)\t-14.62 (actual)\n",
      "Steering angle: -2.1355376180667647 (pred)\t-14.82 (actual)\n",
      "Steering angle: -0.3941404950063757 (pred)\t-15.230000000000002 (actual)\n",
      "Steering angle: -0.5212465802006107 (pred)\t-15.33 (actual)\n",
      "Steering angle: -2.1148107687001265 (pred)\t-15.53 (actual)\n",
      "Steering angle: -2.6432266462908705 (pred)\t-15.53 (actual)\n",
      "Steering angle: -3.4144952359067067 (pred)\t-15.730000000000002 (actual)\n",
      "Steering angle: -2.0024861733651513 (pred)\t-16.03 (actual)\n",
      "Steering angle: -3.5773348431260388 (pred)\t-16.24 (actual)\n",
      "Steering angle: -4.038328002428883 (pred)\t-16.24 (actual)\n",
      "Steering angle: -3.6917449940353952 (pred)\t-16.34 (actual)\n",
      "Steering angle: -4.661069646231149 (pred)\t-16.34 (actual)\n",
      "Steering angle: -5.23622450831229 (pred)\t-17.04 (actual)\n",
      "Steering angle: -6.219881885594493 (pred)\t-17.55 (actual)\n",
      "Steering angle: -5.77147228262034 (pred)\t-18.05 (actual)\n",
      "Steering angle: -5.999534006554358 (pred)\t-19.060000000000002 (actual)\n",
      "Steering angle: -6.30475765820248 (pred)\t-19.97 (actual)\n",
      "Steering angle: -6.889927285154152 (pred)\t-20.469999999999995 (actual)\n",
      "Steering angle: -6.933704528865702 (pred)\t-20.57 (actual)\n",
      "Steering angle: -6.257556355282637 (pred)\t-20.57 (actual)\n",
      "Steering angle: -0.9544789158696139 (pred)\t-20.57 (actual)\n",
      "Steering angle: 0.00611216553351516 (pred)\t-20.57 (actual)\n",
      "Steering angle: -0.508972089931863 (pred)\t-20.57 (actual)\n",
      "Steering angle: -1.2460420824560043 (pred)\t-20.27 (actual)\n",
      "Steering angle: -1.7771956919651597 (pred)\t-20.07 (actual)\n",
      "Steering angle: -2.1808175033957182 (pred)\t-19.76 (actual)\n",
      "Steering angle: -2.021405157035852 (pred)\t-19.76 (actual)\n",
      "Steering angle: -1.6865507573860397 (pred)\t-19.76 (actual)\n",
      "Steering angle: -1.6866421111661887 (pred)\t-19.76 (actual)\n",
      "Steering angle: -1.5867846387788964 (pred)\t-19.46 (actual)\n",
      "Steering angle: -2.0645905221671383 (pred)\t-19.060000000000002 (actual)\n",
      "Steering angle: -2.0194265366106636 (pred)\t-18.66 (actual)\n",
      "Steering angle: -2.4267807262575167 (pred)\t-18.66 (actual)\n",
      "Steering angle: -2.62194228273323 (pred)\t-18.66 (actual)\n",
      "Steering angle: -2.2181069211694027 (pred)\t-18.66 (actual)\n",
      "Steering angle: -3.0731400969926295 (pred)\t-18.760000000000005 (actual)\n",
      "Steering angle: -3.155537578148959 (pred)\t-19.16 (actual)\n",
      "Steering angle: -2.8829803734234813 (pred)\t-19.76 (actual)\n",
      "Steering angle: -2.4437648454023995 (pred)\t-19.97 (actual)\n",
      "Steering angle: -2.3518742550733984 (pred)\t-20.27 (actual)\n",
      "Steering angle: -1.9800250962795642 (pred)\t-20.370000000000005 (actual)\n",
      "Steering angle: -2.264155416223394 (pred)\t-20.370000000000005 (actual)\n",
      "Steering angle: -3.017809374856591 (pred)\t-20.370000000000005 (actual)\n",
      "Steering angle: -3.543398621348007 (pred)\t-20.469999999999995 (actual)\n",
      "Steering angle: -4.4085763356359955 (pred)\t-20.57 (actual)\n",
      "Steering angle: -4.258097022936859 (pred)\t-21.18 (actual)\n",
      "Steering angle: -4.910012112231542 (pred)\t-21.479999999999997 (actual)\n",
      "Steering angle: -6.892506535339478 (pred)\t-21.479999999999997 (actual)\n",
      "Steering angle: -7.9884757013519625 (pred)\t-21.479999999999997 (actual)\n",
      "Steering angle: -7.831807383491149 (pred)\t-21.479999999999997 (actual)\n",
      "Steering angle: -8.254944432762608 (pred)\t-21.58 (actual)\n",
      "Steering angle: -6.532824504778375 (pred)\t-21.479999999999997 (actual)\n",
      "Steering angle: -4.568236703240098 (pred)\t-21.479999999999997 (actual)\n",
      "Steering angle: -5.426682625770804 (pred)\t-21.479999999999997 (actual)\n",
      "Steering angle: -5.344610218930284 (pred)\t-21.479999999999997 (actual)\n",
      "Steering angle: -6.030481593683685 (pred)\t-21.479999999999997 (actual)\n",
      "Steering angle: -6.330461794483353 (pred)\t-21.479999999999997 (actual)\n",
      "Steering angle: -5.9119539059218695 (pred)\t-21.38 (actual)\n",
      "Steering angle: -6.334851898572379 (pred)\t-21.38 (actual)\n",
      "Steering angle: -7.763148614406887 (pred)\t-21.38 (actual)\n",
      "Steering angle: -8.401275259314607 (pred)\t-21.28 (actual)\n",
      "Steering angle: -8.538652561638367 (pred)\t-21.079999999999995 (actual)\n",
      "Steering angle: -7.955444906525781 (pred)\t-20.97 (actual)\n",
      "Steering angle: -7.646520573007981 (pred)\t-20.77 (actual)\n",
      "Steering angle: -8.133778584433875 (pred)\t-20.370000000000005 (actual)\n",
      "Steering angle: -7.593966536212965 (pred)\t-19.76 (actual)\n",
      "Steering angle: -8.008598292420466 (pred)\t-19.66 (actual)\n",
      "Steering angle: -7.2621269180297725 (pred)\t-19.56 (actual)\n",
      "Steering angle: -7.212986268272469 (pred)\t-19.56 (actual)\n",
      "Steering angle: -7.411346060827041 (pred)\t-19.56 (actual)\n",
      "Steering angle: -7.519093148757638 (pred)\t-19.56 (actual)\n",
      "Steering angle: -7.254418195777767 (pred)\t-19.56 (actual)\n",
      "Steering angle: -7.580955879617736 (pred)\t-19.56 (actual)\n"
     ]
    },
    {
     "name": "stdout",
     "output_type": "stream",
     "text": [
      "Steering angle: -8.822877223570107 (pred)\t-19.56 (actual)\n",
      "Steering angle: -9.356083625089969 (pred)\t-19.46 (actual)\n",
      "Steering angle: -8.850198834023805 (pred)\t-19.46 (actual)\n",
      "Steering angle: -8.538509981439443 (pred)\t-19.46 (actual)\n",
      "Steering angle: -8.475941179773894 (pred)\t-19.46 (actual)\n",
      "Steering angle: -9.43777098001603 (pred)\t-19.36 (actual)\n",
      "Steering angle: -10.643855175166989 (pred)\t-19.36 (actual)\n",
      "Steering angle: -11.510998916718883 (pred)\t-19.36 (actual)\n",
      "Steering angle: -12.95053641637994 (pred)\t-19.87 (actual)\n",
      "Steering angle: -13.469656406510298 (pred)\t-20.97 (actual)\n",
      "Steering angle: -15.6086078385016 (pred)\t-22.29 (actual)\n",
      "Steering angle: -17.670414845138545 (pred)\t-24.200000000000003 (actual)\n",
      "Steering angle: -18.58301178806958 (pred)\t-25.61 (actual)\n",
      "Steering angle: -14.480863351809747 (pred)\t-27.43 (actual)\n",
      "Steering angle: -14.273633704844267 (pred)\t-29.14 (actual)\n",
      "Steering angle: -15.029716862944461 (pred)\t-30.449999999999992 (actual)\n",
      "Steering angle: -15.720209714445023 (pred)\t-31.26 (actual)\n",
      "Steering angle: -16.607458117818847 (pred)\t-32.06999999999999 (actual)\n",
      "Steering angle: -19.788270384104617 (pred)\t-33.58 (actual)\n",
      "Steering angle: -19.451834048610007 (pred)\t-35.5 (actual)\n",
      "Steering angle: -20.829652251383536 (pred)\t-37.00999999999999 (actual)\n",
      "Steering angle: -18.380056131977238 (pred)\t-38.52 (actual)\n",
      "Steering angle: -17.480899293785495 (pred)\t-39.13 (actual)\n",
      "Steering angle: -15.585689138741621 (pred)\t-39.830000000000005 (actual)\n",
      "Steering angle: -15.573345279364116 (pred)\t-40.24 (actual)\n",
      "Steering angle: -14.671654440990297 (pred)\t-41.34 (actual)\n",
      "Steering angle: -13.872729775094845 (pred)\t-42.66 (actual)\n",
      "Steering angle: -13.24051465891377 (pred)\t-44.07 (actual)\n",
      "Steering angle: -11.105634019667797 (pred)\t-45.68 (actual)\n",
      "Steering angle: -12.09278503871046 (pred)\t-46.89 (actual)\n",
      "Steering angle: -12.672750061514582 (pred)\t-47.39 (actual)\n",
      "Steering angle: -13.263571670004442 (pred)\t-48.2 (actual)\n",
      "Steering angle: -14.742263229082596 (pred)\t-49.41 (actual)\n",
      "Steering angle: -17.897972842621275 (pred)\t-51.23 (actual)\n",
      "Steering angle: -17.334810085175384 (pred)\t-52.13000000000001 (actual)\n",
      "Steering angle: -18.521838906315654 (pred)\t-52.13000000000001 (actual)\n",
      "Steering angle: -19.873482116642403 (pred)\t-52.24 (actual)\n",
      "Steering angle: -21.101550129410697 (pred)\t-52.44 (actual)\n",
      "Steering angle: -25.54754053377273 (pred)\t-53.040000000000006 (actual)\n",
      "Steering angle: -28.039605061890875 (pred)\t-53.34 (actual)\n",
      "Steering angle: -28.91646987017899 (pred)\t-53.55 (actual)\n",
      "Steering angle: -31.661150652297348 (pred)\t-54.15 (actual)\n",
      "Steering angle: -35.213706209444815 (pred)\t-54.86 (actual)\n",
      "Steering angle: -36.38013176495374 (pred)\t-55.76 (actual)\n",
      "Steering angle: -36.50128566045143 (pred)\t-56.57 (actual)\n",
      "Steering angle: -44.93908621012633 (pred)\t-56.97 (actual)\n",
      "Steering angle: -47.972270767691434 (pred)\t-57.480000000000004 (actual)\n",
      "Steering angle: -51.929252070879116 (pred)\t-58.290000000000006 (actual)\n",
      "Steering angle: -50.648980922284416 (pred)\t-58.99000000000001 (actual)\n",
      "Steering angle: -51.37020108731357 (pred)\t-59.60000000000001 (actual)\n",
      "Steering angle: -51.032041836600825 (pred)\t-60.29999999999999 (actual)\n",
      "Steering angle: -52.07225232643709 (pred)\t-61.31 (actual)\n",
      "Steering angle: -54.774210275297015 (pred)\t-62.019999999999996 (actual)\n",
      "Steering angle: -52.93169844479438 (pred)\t-62.52 (actual)\n",
      "Steering angle: -53.30451749045035 (pred)\t-63.230000000000004 (actual)\n",
      "Steering angle: -47.95796152138026 (pred)\t-63.629999999999995 (actual)\n",
      "Steering angle: -47.79309783028908 (pred)\t-63.93000000000001 (actual)\n",
      "Steering angle: -48.43304557438425 (pred)\t-64.03 (actual)\n",
      "Steering angle: -47.125081423799735 (pred)\t-64.13 (actual)\n",
      "Steering angle: -46.12134414413134 (pred)\t-64.24000000000001 (actual)\n",
      "Steering angle: -50.0991472790038 (pred)\t-64.44 (actual)\n",
      "Steering angle: -50.22935459024634 (pred)\t-64.44 (actual)\n",
      "Steering angle: -49.36566692441448 (pred)\t-64.44 (actual)\n",
      "Steering angle: -48.81940205497519 (pred)\t-64.44 (actual)\n",
      "Steering angle: -49.75126183891296 (pred)\t0.0 (actual)\n",
      "Steering angle: -47.487778129105756 (pred)\t-64.44 (actual)\n",
      "Steering angle: -47.62789604483398 (pred)\t-64.44 (actual)\n",
      "Steering angle: -47.371924460403996 (pred)\t-64.44 (actual)\n",
      "Steering angle: -48.29743558350823 (pred)\t-64.44 (actual)\n",
      "Steering angle: -45.20650177651066 (pred)\t-64.44 (actual)\n",
      "Steering angle: -41.26959781438824 (pred)\t-64.44 (actual)\n",
      "Steering angle: -41.35487614127043 (pred)\t-64.44 (actual)\n",
      "Steering angle: -43.43915617782402 (pred)\t-64.33999999999999 (actual)\n",
      "Steering angle: -40.4792219840127 (pred)\t-64.13 (actual)\n",
      "Steering angle: -45.34428376754275 (pred)\t-63.93000000000001 (actual)\n",
      "Steering angle: -44.39663941643308 (pred)\t-63.93000000000001 (actual)\n",
      "Steering angle: -41.262337323300514 (pred)\t-63.93000000000001 (actual)\n",
      "Steering angle: -44.76259753706778 (pred)\t-63.93000000000001 (actual)\n",
      "Steering angle: -47.97236297524523 (pred)\t-63.83 (actual)\n",
      "Steering angle: -49.62571954687354 (pred)\t-63.629999999999995 (actual)\n",
      "Steering angle: -50.85788567314384 (pred)\t-63.230000000000004 (actual)\n",
      "Steering angle: -50.36605399629498 (pred)\t-62.319999999999986 (actual)\n",
      "Steering angle: -50.65454411136339 (pred)\t-61.21 (actual)\n",
      "Steering angle: -53.88735460780047 (pred)\t-60.910000000000004 (actual)\n",
      "Steering angle: -54.98846306427656 (pred)\t-60.81 (actual)\n",
      "Steering angle: -55.070848806045255 (pred)\t-60.81 (actual)\n",
      "Steering angle: -55.057642635285035 (pred)\t-60.81 (actual)\n",
      "Steering angle: -52.943169747505415 (pred)\t-60.81 (actual)\n",
      "Steering angle: -53.22155801279138 (pred)\t-60.81 (actual)\n",
      "Steering angle: -53.1281893268373 (pred)\t-60.81 (actual)\n",
      "Steering angle: -46.627003538954895 (pred)\t-60.81 (actual)\n",
      "Steering angle: -47.7033969559193 (pred)\t-60.71 (actual)\n",
      "Steering angle: -47.722207296893515 (pred)\t-60.4 (actual)\n",
      "Steering angle: -48.77495459895134 (pred)\t-60.29999999999999 (actual)\n",
      "Steering angle: -49.943572645183835 (pred)\t-60.29999999999999 (actual)\n",
      "Steering angle: -53.38882251537582 (pred)\t-60.29999999999999 (actual)\n",
      "Steering angle: -55.59596057962501 (pred)\t-60.29999999999999 (actual)\n",
      "Steering angle: -53.8463017557941 (pred)\t-60.610000000000014 (actual)\n",
      "Steering angle: -53.25474248687389 (pred)\t-61.11 (actual)\n",
      "Steering angle: -52.10133868701759 (pred)\t-61.82 (actual)\n",
      "Steering angle: -54.88678545319716 (pred)\t-62.71999999999999 (actual)\n",
      "Steering angle: -53.57186475494299 (pred)\t-63.13 (actual)\n",
      "Steering angle: -54.27554840927814 (pred)\t-63.73000000000001 (actual)\n",
      "Steering angle: -55.58283978622941 (pred)\t-63.93000000000001 (actual)\n",
      "Steering angle: -56.60324614256722 (pred)\t-64.33999999999999 (actual)\n",
      "Steering angle: -61.64484782557458 (pred)\t-65.04000000000002 (actual)\n",
      "Steering angle: -63.98656452213511 (pred)\t-65.95 (actual)\n",
      "Steering angle: -63.58136354962411 (pred)\t-66.76 (actual)\n",
      "Steering angle: -61.974745962486196 (pred)\t-67.65999999999998 (actual)\n",
      "Steering angle: -64.78131167357945 (pred)\t-68.87 (actual)\n",
      "Steering angle: -66.6108871257941 (pred)\t-69.78000000000002 (actual)\n",
      "Steering angle: -65.86019469449633 (pred)\t-70.39 (actual)\n",
      "Steering angle: -67.31723113881097 (pred)\t-71.09 (actual)\n",
      "Steering angle: -64.11445298415443 (pred)\t-71.5 (actual)\n",
      "Steering angle: -67.34208619720064 (pred)\t-72.1 (actual)\n",
      "Steering angle: -67.27394139985142 (pred)\t-72.61 (actual)\n",
      "Steering angle: -68.00933420740836 (pred)\t-73.20999999999998 (actual)\n",
      "Steering angle: -67.00028304056569 (pred)\t-73.51 (actual)\n",
      "Steering angle: -63.471383843608564 (pred)\t-74.01999999999998 (actual)\n",
      "Steering angle: -64.76162023820231 (pred)\t-74.72000000000001 (actual)\n",
      "Steering angle: -62.22045518768824 (pred)\t-75.23 (actual)\n",
      "Steering angle: -63.20222657898587 (pred)\t-75.73000000000002 (actual)\n",
      "Steering angle: -62.761884283195144 (pred)\t-76.03 (actual)\n",
      "Steering angle: -63.76991092166231 (pred)\t-76.44 (actual)\n",
      "Steering angle: -63.0415053976263 (pred)\t-77.24 (actual)\n",
      "Steering angle: -64.04664286607455 (pred)\t-77.75 (actual)\n",
      "Steering angle: -62.00193694557202 (pred)\t-77.85 (actual)\n",
      "Steering angle: -65.77272046179598 (pred)\t-77.85 (actual)\n",
      "Steering angle: -63.93280410317794 (pred)\t-77.85 (actual)\n",
      "Steering angle: -67.46328790402251 (pred)\t-77.95 (actual)\n",
      "Steering angle: -63.852597191754484 (pred)\t-77.85 (actual)\n",
      "Steering angle: -66.73263524774957 (pred)\t-77.24 (actual)\n",
      "Steering angle: -61.01286408205164 (pred)\t-76.84 (actual)\n"
     ]
    },
    {
     "name": "stdout",
     "output_type": "stream",
     "text": [
      "Steering angle: -60.88334320482069 (pred)\t-76.44 (actual)\n",
      "Steering angle: -58.975029331854145 (pred)\t-75.63 (actual)\n",
      "Steering angle: -60.447235626315376 (pred)\t-74.32 (actual)\n",
      "Steering angle: -57.779281774238356 (pred)\t-73.61 (actual)\n",
      "Steering angle: -55.317650861514494 (pred)\t-72.5 (actual)\n",
      "Steering angle: -52.97530920264491 (pred)\t-71.7 (actual)\n",
      "Steering angle: -57.496054319925435 (pred)\t-70.08 (actual)\n",
      "Steering angle: -53.40156081817789 (pred)\t-69.07999999999998 (actual)\n",
      "Steering angle: -51.782706947141904 (pred)\t-68.97 (actual)\n",
      "Steering angle: -53.603409983624694 (pred)\t-68.97 (actual)\n",
      "Steering angle: -51.796404891522364 (pred)\t-68.37 (actual)\n",
      "Steering angle: -51.713025357229434 (pred)\t-67.16 (actual)\n",
      "Steering angle: -51.852613933296986 (pred)\t-65.14 (actual)\n",
      "Steering angle: -52.74555529934402 (pred)\t-64.03 (actual)\n",
      "Steering angle: -54.82217869383801 (pred)\t-63.32999999999999 (actual)\n",
      "Steering angle: -52.42364506866673 (pred)\t-63.230000000000004 (actual)\n",
      "Steering angle: -49.90890943514602 (pred)\t-63.230000000000004 (actual)\n",
      "Steering angle: -53.551124885528246 (pred)\t-63.230000000000004 (actual)\n",
      "Steering angle: -51.68102933606251 (pred)\t-63.230000000000004 (actual)\n",
      "Steering angle: -46.38022538914775 (pred)\t-63.230000000000004 (actual)\n",
      "Steering angle: -48.55651831910516 (pred)\t-63.230000000000004 (actual)\n",
      "Steering angle: -49.31943337392266 (pred)\t-63.230000000000004 (actual)\n",
      "Steering angle: -52.087213855814 (pred)\t-63.230000000000004 (actual)\n",
      "Steering angle: -51.44568492292597 (pred)\t-63.230000000000004 (actual)\n",
      "Steering angle: -49.310448260069506 (pred)\t-63.230000000000004 (actual)\n",
      "Steering angle: -50.40265356496249 (pred)\t-63.230000000000004 (actual)\n",
      "Steering angle: -49.2135791021658 (pred)\t-63.230000000000004 (actual)\n",
      "Steering angle: -51.3061680638447 (pred)\t-63.230000000000004 (actual)\n",
      "Steering angle: -51.01062577845825 (pred)\t-63.230000000000004 (actual)\n",
      "Steering angle: -53.566171792269785 (pred)\t-63.32999999999999 (actual)\n",
      "Steering angle: -49.39840743620093 (pred)\t-63.629999999999995 (actual)\n",
      "Steering angle: -53.166090046541704 (pred)\t-64.03 (actual)\n",
      "Steering angle: -53.13918251630644 (pred)\t-64.74 (actual)\n",
      "Steering angle: -52.13034308532804 (pred)\t-65.55 (actual)\n",
      "Steering angle: -50.7711832518197 (pred)\t-66.66 (actual)\n",
      "Steering angle: -54.4904808020801 (pred)\t-66.96 (actual)\n",
      "Steering angle: -51.534856457635065 (pred)\t-66.96 (actual)\n",
      "Steering angle: -52.00942824645131 (pred)\t-66.96 (actual)\n",
      "Steering angle: -51.39253239080493 (pred)\t-66.76 (actual)\n",
      "Steering angle: -49.26227152075882 (pred)\t-65.65000000000002 (actual)\n",
      "Steering angle: -49.188812836235336 (pred)\t-64.33999999999999 (actual)\n",
      "Steering angle: -45.079665163623524 (pred)\t-63.03 (actual)\n",
      "Steering angle: -44.830493032512294 (pred)\t-62.42 (actual)\n",
      "Steering angle: -42.75257190207599 (pred)\t-62.42 (actual)\n",
      "Steering angle: -42.84403155015705 (pred)\t-62.12 (actual)\n",
      "Steering angle: -39.35724046943305 (pred)\t-61.509999999999984 (actual)\n",
      "Steering angle: -39.306369220494794 (pred)\t-60.610000000000014 (actual)\n",
      "Steering angle: -34.48243883614657 (pred)\t-59.699999999999996 (actual)\n",
      "Steering angle: -33.68480934487248 (pred)\t-59.5 (actual)\n",
      "Steering angle: -30.775415135824677 (pred)\t-59.29 (actual)\n",
      "Steering angle: -31.57614211788737 (pred)\t-58.99000000000001 (actual)\n",
      "Steering angle: -26.714585928948836 (pred)\t-58.99000000000001 (actual)\n",
      "Steering angle: -25.060218489323365 (pred)\t-58.89 (actual)\n",
      "Steering angle: -24.429389047770158 (pred)\t-58.79000000000001 (actual)\n",
      "Steering angle: -20.53149400354497 (pred)\t-58.38999999999999 (actual)\n",
      "Steering angle: -20.4911258780029 (pred)\t-57.480000000000004 (actual)\n",
      "Steering angle: -18.618438271747145 (pred)\t-56.47 (actual)\n",
      "Steering angle: -19.261895025528414 (pred)\t-55.660000000000004 (actual)\n",
      "Steering angle: -19.410125498443325 (pred)\t-54.86 (actual)\n",
      "Steering angle: -18.323442401494294 (pred)\t-53.95 (actual)\n",
      "Steering angle: -18.802131086832762 (pred)\t-52.84 (actual)\n",
      "Steering angle: -17.32288457488454 (pred)\t-51.83 (actual)\n",
      "Steering angle: -17.273434005293648 (pred)\t-51.330000000000005 (actual)\n",
      "Steering angle: -17.88920458727427 (pred)\t-50.82 (actual)\n",
      "Steering angle: -17.958450752627154 (pred)\t-50.12 (actual)\n",
      "Steering angle: -17.079557378155545 (pred)\t-49.61 (actual)\n",
      "Steering angle: -15.554758627085219 (pred)\t-49.010000000000005 (actual)\n",
      "Steering angle: -13.89897477698062 (pred)\t-48.10000000000001 (actual)\n",
      "Steering angle: -13.97646839575629 (pred)\t-47.39 (actual)\n",
      "Steering angle: -13.579113603054337 (pred)\t0.0 (actual)\n",
      "Steering angle: -13.300534092471612 (pred)\t-45.78 (actual)\n",
      "Steering angle: -12.647355418180476 (pred)\t-44.57 (actual)\n",
      "Steering angle: -12.813179604623691 (pred)\t-42.55 (actual)\n",
      "Steering angle: -12.250136375488276 (pred)\t-41.14 (actual)\n",
      "Steering angle: -10.939851668133247 (pred)\t-40.24 (actual)\n",
      "Steering angle: -10.584353128438776 (pred)\t-38.62 (actual)\n",
      "Steering angle: -9.605575067544903 (pred)\t-37.82 (actual)\n",
      "Steering angle: -9.135639269627807 (pred)\t-36.61 (actual)\n",
      "Steering angle: -8.212980604275696 (pred)\t-35.39 (actual)\n",
      "Steering angle: -8.249756904087983 (pred)\t-34.08 (actual)\n",
      "Steering angle: -7.176203992044658 (pred)\t-33.08 (actual)\n",
      "Steering angle: -7.334002706213109 (pred)\t-31.87 (actual)\n",
      "Steering angle: -7.056622320716544 (pred)\t-31.06 (actual)\n",
      "Steering angle: -6.303094507139582 (pred)\t-30.25 (actual)\n",
      "Steering angle: -6.155797208820025 (pred)\t-29.75 (actual)\n",
      "Steering angle: -6.083257611626728 (pred)\t-29.24 (actual)\n",
      "Steering angle: -5.680627778451408 (pred)\t-28.740000000000002 (actual)\n",
      "Steering angle: -5.1312756635072825 (pred)\t-28.24 (actual)\n",
      "Steering angle: -4.864072259874037 (pred)\t-27.63 (actual)\n",
      "Steering angle: -4.555483032512392 (pred)\t-27.130000000000003 (actual)\n",
      "Steering angle: -4.2289235774444425 (pred)\t-26.12 (actual)\n",
      "Steering angle: -3.160716142200298 (pred)\t-25.01 (actual)\n",
      "Steering angle: -2.437534218775467 (pred)\t-23.9 (actual)\n",
      "Steering angle: -2.0385826559116107 (pred)\t-22.49 (actual)\n",
      "Steering angle: -1.5885096884311478 (pred)\t-21.38 (actual)\n",
      "Steering angle: -1.4017120187592327 (pred)\t-20.370000000000005 (actual)\n",
      "Steering angle: -0.7235097725049916 (pred)\t-18.55 (actual)\n",
      "Steering angle: -0.500811881503549 (pred)\t-17.65 (actual)\n",
      "Steering angle: -0.40559202752141615 (pred)\t-16.24 (actual)\n",
      "Steering angle: -0.0444628206144372 (pred)\t-15.13 (actual)\n",
      "Steering angle: 0.31363895163367983 (pred)\t-14.32 (actual)\n",
      "Steering angle: 0.7611911791040115 (pred)\t-13.610000000000001 (actual)\n",
      "Steering angle: 0.9129712159532117 (pred)\t-12.709999999999999 (actual)\n",
      "Steering angle: 1.4246323193447972 (pred)\t-11.8 (actual)\n",
      "Steering angle: 1.440748257413148 (pred)\t-10.69 (actual)\n",
      "Steering angle: 1.598824768181748 (pred)\t-9.08 (actual)\n",
      "Steering angle: 1.8058405448488413 (pred)\t-8.07 (actual)\n",
      "Steering angle: 2.1023221946895814 (pred)\t-7.16 (actual)\n",
      "Steering angle: 2.5089233559804405 (pred)\t-5.949999999999999 (actual)\n",
      "Steering angle: 2.6767722666257416 (pred)\t-4.54 (actual)\n",
      "Steering angle: 2.8461887056855613 (pred)\t-3.7300000000000004 (actual)\n",
      "Steering angle: 3.3906988568383825 (pred)\t-2.82 (actual)\n",
      "Steering angle: 3.5147397879208686 (pred)\t-2.82 (actual)\n",
      "Steering angle: 3.660639885668334 (pred)\t-2.82 (actual)\n",
      "Steering angle: 3.6276065295212137 (pred)\t-2.82 (actual)\n",
      "Steering angle: 3.6411866531384915 (pred)\t-3.03 (actual)\n",
      "Steering angle: 3.8217149562042754 (pred)\t-3.7300000000000004 (actual)\n",
      "Steering angle: 3.8916108433019545 (pred)\t-3.829999999999999 (actual)\n",
      "Steering angle: 4.00708202141019 (pred)\t-3.829999999999999 (actual)\n",
      "Steering angle: 4.273231014590315 (pred)\t-3.4300000000000006 (actual)\n",
      "Steering angle: 4.362863587068392 (pred)\t-2.42 (actual)\n",
      "Steering angle: 4.564355021357414 (pred)\t-1.11 (actual)\n",
      "Steering angle: 4.476972996210857 (pred)\t0.5 (actual)\n",
      "Steering angle: 4.251309949335982 (pred)\t1.6100000000000003 (actual)\n",
      "Steering angle: 4.216358590692558 (pred)\t2.52 (actual)\n",
      "Steering angle: 4.27231534235471 (pred)\t2.92 (actual)\n",
      "Steering angle: 4.523954025529966 (pred)\t3.03 (actual)\n",
      "Steering angle: 4.538141609096552 (pred)\t3.4300000000000006 (actual)\n",
      "Steering angle: 4.604163071387542 (pred)\t4.03 (actual)\n",
      "Steering angle: 4.50923795607635 (pred)\t4.24 (actual)\n",
      "Steering angle: 4.523172395756823 (pred)\t4.24 (actual)\n",
      "Steering angle: 4.505068125588058 (pred)\t4.24 (actual)\n",
      "Steering angle: 4.375570727132378 (pred)\t4.24 (actual)\n",
      "Steering angle: 4.46412498349524 (pred)\t4.34 (actual)\n",
      "Steering angle: 4.503337099520283 (pred)\t4.34 (actual)\n"
     ]
    },
    {
     "name": "stdout",
     "output_type": "stream",
     "text": [
      "Steering angle: 4.438151054742151 (pred)\t4.24 (actual)\n",
      "Steering angle: 4.454198584197095 (pred)\t4.24 (actual)\n",
      "Steering angle: 4.364633459837072 (pred)\t4.13 (actual)\n",
      "Steering angle: 4.122925444828192 (pred)\t4.34 (actual)\n",
      "Steering angle: 3.908821639349917 (pred)\t4.74 (actual)\n",
      "Steering angle: 3.929656277639395 (pred)\t5.24 (actual)\n",
      "Steering angle: 4.021001946938676 (pred)\t5.75 (actual)\n",
      "Steering angle: 4.024395270295703 (pred)\t5.75 (actual)\n",
      "Steering angle: 4.0182656024024395 (pred)\t5.849999999999999 (actual)\n",
      "Steering angle: 4.128229940492353 (pred)\t5.849999999999999 (actual)\n",
      "Steering angle: 4.089923251419159 (pred)\t5.849999999999999 (actual)\n",
      "Steering angle: 4.234415903310778 (pred)\t5.55 (actual)\n",
      "Steering angle: 4.266903698097945 (pred)\t5.24 (actual)\n",
      "Steering angle: 4.496424094306583 (pred)\t4.84 (actual)\n",
      "Steering angle: 4.370159082875612 (pred)\t4.84 (actual)\n",
      "Steering angle: 4.368563379930768 (pred)\t4.84 (actual)\n",
      "Steering angle: 4.465383018962991 (pred)\t4.74 (actual)\n",
      "Steering angle: 4.586998806003299 (pred)\t4.74 (actual)\n",
      "Steering angle: 4.615382083986111 (pred)\t4.64 (actual)\n",
      "Steering angle: 4.859076830269819 (pred)\t4.84 (actual)\n",
      "Steering angle: 4.9856193181358215 (pred)\t5.24 (actual)\n",
      "Steering angle: 5.041285786758249 (pred)\t5.65 (actual)\n",
      "Steering angle: 5.142055836451679 (pred)\t5.849999999999999 (actual)\n",
      "Steering angle: 5.065850988995023 (pred)\t6.45 (actual)\n",
      "Steering angle: 5.4179536440115275 (pred)\t7.16 (actual)\n",
      "Steering angle: 5.574992072747991 (pred)\t7.659999999999998 (actual)\n",
      "Steering angle: 5.509216924153945 (pred)\t7.969999999999999 (actual)\n",
      "Steering angle: 5.392566257753413 (pred)\t8.570000000000002 (actual)\n",
      "Steering angle: 5.306838419046467 (pred)\t9.18 (actual)\n",
      "Steering angle: 5.016470428843123 (pred)\t10.18 (actual)\n",
      "Steering angle: 4.380713859577398 (pred)\t11.8 (actual)\n",
      "Steering angle: 3.641238733330913 (pred)\t13.01 (actual)\n",
      "Steering angle: 3.5798195378800424 (pred)\t14.12 (actual)\n",
      "Steering angle: 4.150187291126651 (pred)\t14.920000000000002 (actual)\n",
      "Steering angle: 3.848029540642219 (pred)\t15.83 (actual)\n",
      "Steering angle: 4.033607487938758 (pred)\t0.0 (actual)\n",
      "Steering angle: 4.075421906037576 (pred)\t17.140000000000004 (actual)\n",
      "Steering angle: 3.938432216949215 (pred)\t18.05 (actual)\n",
      "Steering angle: 4.03789471230341 (pred)\t18.96 (actual)\n",
      "Steering angle: 5.3091619640247405 (pred)\t19.87 (actual)\n",
      "Steering angle: 3.75788598463686 (pred)\t20.67 (actual)\n",
      "Steering angle: 4.194893867452146 (pred)\t21.28 (actual)\n",
      "Steering angle: 3.788101033977704 (pred)\t21.98 (actual)\n",
      "Steering angle: 3.6017073059621714 (pred)\t22.69 (actual)\n",
      "Steering angle: 3.7558147297710534 (pred)\t22.789999999999996 (actual)\n",
      "Steering angle: 4.971814225162757 (pred)\t22.89 (actual)\n",
      "Steering angle: 4.945455244495208 (pred)\t22.99 (actual)\n",
      "Steering angle: 5.4467813111772125 (pred)\t23.189999999999998 (actual)\n",
      "Steering angle: 6.5143142652408175 (pred)\t23.5 (actual)\n",
      "Steering angle: 8.152412194263317 (pred)\t23.9 (actual)\n",
      "Steering angle: 7.0256824175500325 (pred)\t24.810000000000002 (actual)\n",
      "Steering angle: 10.051131358993283 (pred)\t25.71 (actual)\n",
      "Steering angle: 12.977630069270088 (pred)\t26.42 (actual)\n",
      "Steering angle: 11.353761985609665 (pred)\t26.920000000000005 (actual)\n",
      "Steering angle: 14.768301617745978 (pred)\t27.23 (actual)\n",
      "Steering angle: 18.866532940516812 (pred)\t27.73 (actual)\n",
      "Steering angle: 32.383880289133074 (pred)\t28.44 (actual)\n",
      "Steering angle: 47.31749809800275 (pred)\t29.24 (actual)\n",
      "Steering angle: 49.341590507590176 (pred)\t29.95 (actual)\n",
      "Steering angle: 43.111430041068466 (pred)\t30.35 (actual)\n",
      "Steering angle: 45.69339522658961 (pred)\t30.449999999999992 (actual)\n",
      "Steering angle: 45.30095304744818 (pred)\t30.449999999999992 (actual)\n",
      "Steering angle: 39.90244324445639 (pred)\t30.449999999999992 (actual)\n",
      "Steering angle: 37.62645687337348 (pred)\t30.449999999999992 (actual)\n",
      "Steering angle: 22.85136092495063 (pred)\t30.449999999999992 (actual)\n",
      "Steering angle: 21.875036609516084 (pred)\t30.449999999999992 (actual)\n",
      "Steering angle: 21.952632681129305 (pred)\t30.449999999999992 (actual)\n",
      "Steering angle: 17.361183153108097 (pred)\t30.449999999999992 (actual)\n",
      "Steering angle: 17.2607810798562 (pred)\t30.449999999999992 (actual)\n",
      "Steering angle: 17.974653668885715 (pred)\t30.449999999999992 (actual)\n",
      "Steering angle: 18.379005990392347 (pred)\t30.35 (actual)\n",
      "Steering angle: 20.13013842753668 (pred)\t29.95 (actual)\n",
      "Steering angle: 15.809695437855945 (pred)\t29.450000000000003 (actual)\n",
      "Steering angle: 16.119505988418553 (pred)\t29.24 (actual)\n",
      "Steering angle: 14.027444658853035 (pred)\t29.14 (actual)\n",
      "Steering angle: 12.80215141043506 (pred)\t28.939999999999998 (actual)\n",
      "Steering angle: 13.130433353834322 (pred)\t28.54 (actual)\n",
      "Steering angle: 14.104320999282468 (pred)\t28.03 (actual)\n",
      "Steering angle: 12.213171391700167 (pred)\t27.33 (actual)\n",
      "Steering angle: 14.140348539606991 (pred)\t26.920000000000005 (actual)\n",
      "Steering angle: 13.685356341820238 (pred)\t26.62 (actual)\n",
      "Steering angle: 10.776313033741047 (pred)\t26.62 (actual)\n",
      "Steering angle: 17.63548355017581 (pred)\t26.62 (actual)\n",
      "Steering angle: 13.866098515184408 (pred)\t26.62 (actual)\n",
      "Steering angle: 9.758643021939474 (pred)\t26.520000000000003 (actual)\n",
      "Steering angle: 8.829792790104745 (pred)\t26.42 (actual)\n",
      "Steering angle: 8.049094484009471 (pred)\t26.12 (actual)\n",
      "Steering angle: 8.829792790104745 (pred)\t25.61 (actual)\n",
      "Steering angle: 8.617994600358173 (pred)\t24.91 (actual)\n",
      "Steering angle: 8.829792790104745 (pred)\t23.9 (actual)\n",
      "Steering angle: 7.828296666257762 (pred)\t23.39 (actual)\n",
      "Steering angle: 6.309120868421648 (pred)\t23.189999999999998 (actual)\n",
      "Steering angle: 4.187804557980496 (pred)\t22.89 (actual)\n",
      "Steering angle: 4.4179187537601035 (pred)\t22.179999999999996 (actual)\n",
      "Steering angle: 4.40615972933028 (pred)\t21.28 (actual)\n",
      "Steering angle: 3.702379598573105 (pred)\t19.66 (actual)\n",
      "Steering angle: 4.3753662483441005 (pred)\t18.66 (actual)\n",
      "Steering angle: 4.216881100164064 (pred)\t18.05 (actual)\n",
      "Steering angle: 3.904087464481452 (pred)\t17.65 (actual)\n",
      "Steering angle: 3.677618455284516 (pred)\t17.55 (actual)\n",
      "Steering angle: 3.8608015675033194 (pred)\t17.34 (actual)\n",
      "Steering angle: 3.8473951868230536 (pred)\t16.74 (actual)\n",
      "Steering angle: 4.102622707520329 (pred)\t16.24 (actual)\n",
      "Steering angle: 4.121216189988395 (pred)\t16.24 (actual)\n",
      "Steering angle: 4.12832257493297 (pred)\t16.24 (actual)\n",
      "Steering angle: 3.3971597889063916 (pred)\t16.24 (actual)\n",
      "Steering angle: 2.898364307311877 (pred)\t16.24 (actual)\n",
      "Steering angle: 2.52940453198037 (pred)\t16.03 (actual)\n",
      "Steering angle: 2.8466397116141935 (pred)\t15.83 (actual)\n",
      "Steering angle: 3.0009552427493493 (pred)\t15.63 (actual)\n",
      "Steering angle: 3.3317748148686825 (pred)\t15.63 (actual)\n",
      "Steering angle: 3.4139530896413373 (pred)\t15.33 (actual)\n",
      "Steering angle: 3.504421506519095 (pred)\t14.52 (actual)\n",
      "Steering angle: 3.2037467608582015 (pred)\t13.41 (actual)\n",
      "Steering angle: 2.7421337618881787 (pred)\t12.709999999999999 (actual)\n",
      "Steering angle: 2.029806076271556 (pred)\t11.8 (actual)\n",
      "Steering angle: 1.5131054672112647 (pred)\t11.290000000000001 (actual)\n",
      "Steering angle: 1.3724224600509254 (pred)\t10.69 (actual)\n",
      "Steering angle: 1.9726796547140386 (pred)\t9.78 (actual)\n",
      "Steering angle: 1.6518078262340061 (pred)\t8.87 (actual)\n",
      "Steering angle: 1.5915485890032746 (pred)\t8.27 (actual)\n",
      "Steering angle: 1.2455067663798045 (pred)\t7.87 (actual)\n",
      "Steering angle: 0.6427226151671982 (pred)\t7.460000000000001 (actual)\n",
      "Steering angle: 0.7200281902972834 (pred)\t7.06 (actual)\n",
      "Steering angle: 0.9484781677969346 (pred)\t6.45 (actual)\n",
      "Steering angle: 1.2210276885595963 (pred)\t6.150000000000001 (actual)\n",
      "Steering angle: 1.4815493529155712 (pred)\t5.75 (actual)\n",
      "Steering angle: 2.2945787863339233 (pred)\t5.139999999999999 (actual)\n",
      "Steering angle: 2.6448044199891436 (pred)\t4.84 (actual)\n",
      "Steering angle: 2.8448183989833273 (pred)\t4.64 (actual)\n",
      "Steering angle: 1.6708839042556172 (pred)\t4.64 (actual)\n",
      "Steering angle: 2.5014598802083206 (pred)\t4.44 (actual)\n",
      "Steering angle: 4.678922480061093 (pred)\t4.13 (actual)\n",
      "Steering angle: 27.030849300729813 (pred)\t4.03 (actual)\n",
      "Steering angle: 44.51075821708566 (pred)\t3.7300000000000004 (actual)\n",
      "Steering angle: 82.41367724239916 (pred)\t3.13 (actual)\n",
      "Steering angle: 52.49450486621103 (pred)\t2.7200000000000006 (actual)\n",
      "Steering angle: 40.32381127473282 (pred)\t2.22 (actual)\n"
     ]
    },
    {
     "name": "stdout",
     "output_type": "stream",
     "text": [
      "Steering angle: 18.041835409561962 (pred)\t1.71 (actual)\n",
      "Steering angle: 50.94920530234691 (pred)\t1.41 (actual)\n",
      "Steering angle: 39.84368312702677 (pred)\t1.21 (actual)\n",
      "Steering angle: 34.81449189774133 (pred)\t1.21 (actual)\n",
      "Steering angle: 16.75737393991146 (pred)\t1.21 (actual)\n",
      "Steering angle: 6.168239679053673 (pred)\t0.0 (actual)\n",
      "Steering angle: 4.064362975997679 (pred)\t0.91 (actual)\n",
      "Steering angle: 3.442478520936249 (pred)\t0.61 (actual)\n",
      "Steering angle: 4.9590029247139285 (pred)\t0.4 (actual)\n",
      "Steering angle: 5.05479120518148 (pred)\t0.4 (actual)\n",
      "Steering angle: 4.833090948685682 (pred)\t0.4 (actual)\n",
      "Steering angle: 4.60032663950811 (pred)\t1.41 (actual)\n",
      "Steering angle: 4.3455029537455125 (pred)\t2.32 (actual)\n",
      "Steering angle: 4.002440480982343 (pred)\t3.23 (actual)\n",
      "Steering angle: 3.9146174817474964 (pred)\t3.9300000000000006 (actual)\n",
      "Steering angle: 3.5588241767016577 (pred)\t4.13 (actual)\n",
      "Steering angle: 3.726900404580274 (pred)\t4.24 (actual)\n",
      "Steering angle: 3.470377922705047 (pred)\t4.24 (actual)\n",
      "Steering angle: 3.2635188135020408 (pred)\t4.24 (actual)\n",
      "Steering angle: 2.884657825194954 (pred)\t4.24 (actual)\n",
      "Steering angle: 2.290806600921372 (pred)\t4.24 (actual)\n",
      "Steering angle: 2.413053113242849 (pred)\t3.7300000000000004 (actual)\n",
      "Steering angle: 1.3908792320138865 (pred)\t3.23 (actual)\n",
      "Steering angle: 1.6497591963698255 (pred)\t2.52 (actual)\n",
      "Steering angle: 1.2003738368397123 (pred)\t2.12 (actual)\n",
      "Steering angle: -0.5711578673953615 (pred)\t1.71 (actual)\n",
      "Steering angle: -0.574036738769669 (pred)\t1.21 (actual)\n",
      "Steering angle: -1.5295496812465994 (pred)\t0.71 (actual)\n",
      "Steering angle: -1.3114440252449324 (pred)\t0.0 (actual)\n",
      "Steering angle: -1.3417019767115006 (pred)\t-0.3 (actual)\n",
      "Steering angle: -1.5572402286371831 (pred)\t-0.61 (actual)\n",
      "Steering angle: -1.6720917805216515 (pred)\t-0.61 (actual)\n",
      "Steering angle: -1.1953507663136969 (pred)\t0.0 (actual)\n",
      "Steering angle: -0.7710876963245369 (pred)\t0.0 (actual)\n",
      "Steering angle: -0.5707916518619724 (pred)\t-0.61 (actual)\n",
      "Steering angle: -0.13419436746946692 (pred)\t-0.61 (actual)\n",
      "Steering angle: 0.5178665436959535 (pred)\t-0.2 (actual)\n",
      "Steering angle: 1.2787684002555915 (pred)\t0.1 (actual)\n",
      "Steering angle: 1.3619694958564557 (pred)\t0.4 (actual)\n",
      "Steering angle: 0.9491748470922758 (pred)\t0.5 (actual)\n",
      "Steering angle: 0.9945043580144175 (pred)\t0.61 (actual)\n",
      "Steering angle: 0.858726547256058 (pred)\t0.71 (actual)\n",
      "Steering angle: 0.6683332632338073 (pred)\t0.71 (actual)\n",
      "Steering angle: 0.6669570334769025 (pred)\t0.71 (actual)\n",
      "Steering angle: 0.36564267795283467 (pred)\t0.71 (actual)\n",
      "Steering angle: 0.6056792976470455 (pred)\t0.71 (actual)\n",
      "Steering angle: 0.873908296872851 (pred)\t1.01 (actual)\n",
      "Steering angle: 1.2323491539957154 (pred)\t1.41 (actual)\n",
      "Steering angle: 1.3938721355308215 (pred)\t1.82 (actual)\n",
      "Steering angle: 2.317687023843369 (pred)\t2.02 (actual)\n",
      "Steering angle: 2.1132186942932787 (pred)\t2.02 (actual)\n",
      "Steering angle: 2.0046686322483818 (pred)\t2.02 (actual)\n",
      "Steering angle: 2.060359006532904 (pred)\t2.12 (actual)\n",
      "Steering angle: 0.9505595612247902 (pred)\t2.12 (actual)\n",
      "Steering angle: 1.0375533328057154 (pred)\t2.12 (actual)\n",
      "Steering angle: 2.5835854344583193 (pred)\t2.22 (actual)\n",
      "Steering angle: 2.3756091624391926 (pred)\t2.22 (actual)\n",
      "Steering angle: 2.7585940909010866 (pred)\t2.32 (actual)\n",
      "Steering angle: 2.6162634073251874 (pred)\t2.32 (actual)\n",
      "Steering angle: 2.1492618159868475 (pred)\t2.32 (actual)\n",
      "Steering angle: 1.2254198203610318 (pred)\t2.32 (actual)\n",
      "Steering angle: 1.3876310501767224 (pred)\t2.32 (actual)\n",
      "Steering angle: 1.6030500939570471 (pred)\t2.32 (actual)\n",
      "Steering angle: 0.7338195161703027 (pred)\t2.32 (actual)\n",
      "Steering angle: 0.8400589465633256 (pred)\t2.42 (actual)\n",
      "Steering angle: 1.6018481941065363 (pred)\t2.42 (actual)\n",
      "Steering angle: 2.06725386905662 (pred)\t2.42 (actual)\n",
      "Steering angle: 2.0333639644988977 (pred)\t2.62 (actual)\n",
      "Steering angle: 2.5433820872299777 (pred)\t2.92 (actual)\n",
      "Steering angle: 2.8342459064783823 (pred)\t3.23 (actual)\n",
      "Steering angle: 1.3023056590222786 (pred)\t4.03 (actual)\n",
      "Steering angle: 1.342584671940019 (pred)\t4.54 (actual)\n",
      "Steering angle: 0.5440580246462781 (pred)\t5.24 (actual)\n",
      "Steering angle: 1.3318875284827212 (pred)\t5.75 (actual)\n",
      "Steering angle: 2.354063117258976 (pred)\t6.050000000000001 (actual)\n",
      "Steering angle: 1.827951147852642 (pred)\t6.150000000000001 (actual)\n",
      "Steering angle: 0.7476696990640606 (pred)\t6.25 (actual)\n",
      "Steering angle: 0.8201952623530476 (pred)\t6.25 (actual)\n",
      "Steering angle: 0.5096858447001295 (pred)\t6.25 (actual)\n",
      "Steering angle: 0.6684502302233437 (pred)\t6.25 (actual)\n",
      "Steering angle: 0.654416379273936 (pred)\t5.949999999999999 (actual)\n",
      "Steering angle: 0.7484645623287208 (pred)\t5.65 (actual)\n",
      "Steering angle: 0.6992763146906393 (pred)\t5.65 (actual)\n",
      "Steering angle: 1.6285915863583098 (pred)\t5.65 (actual)\n",
      "Steering angle: 2.2308672086428674 (pred)\t5.65 (actual)\n",
      "Steering angle: 2.0354046969568507 (pred)\t5.55 (actual)\n",
      "Steering angle: 2.2417517554155175 (pred)\t5.340000000000001 (actual)\n",
      "Steering angle: 2.4551665655612664 (pred)\t5.139999999999999 (actual)\n",
      "Steering angle: 3.5510215393485645 (pred)\t4.94 (actual)\n",
      "Steering angle: 3.7061110162940474 (pred)\t4.64 (actual)\n",
      "Steering angle: 3.8385483843005948 (pred)\t4.54 (actual)\n",
      "Steering angle: 3.4074974936586173 (pred)\t4.44 (actual)\n",
      "Steering angle: 3.9803435383568826 (pred)\t4.44 (actual)\n",
      "Steering angle: 4.16386047607137 (pred)\t4.44 (actual)\n",
      "Steering angle: 4.219657572061673 (pred)\t4.44 (actual)\n",
      "Steering angle: 3.9969306527562587 (pred)\t4.34 (actual)\n",
      "Steering angle: 3.238988615984763 (pred)\t4.13 (actual)\n",
      "Steering angle: 3.384624897675537 (pred)\t3.9300000000000006 (actual)\n",
      "Steering angle: 3.25337982456598 (pred)\t3.4300000000000006 (actual)\n",
      "Steering angle: 2.419288862511659 (pred)\t2.42 (actual)\n",
      "Steering angle: 1.7523375386460158 (pred)\t1.21 (actual)\n",
      "Steering angle: 2.4829165569419707 (pred)\t0.3 (actual)\n",
      "Steering angle: 1.9579682810154775 (pred)\t-0.2 (actual)\n",
      "Steering angle: 2.4978010332473093 (pred)\t-0.2 (actual)\n",
      "Steering angle: 3.424603915878326 (pred)\t-0.2 (actual)\n",
      "Steering angle: 4.297149910176876 (pred)\t-0.3 (actual)\n",
      "Steering angle: 4.1700093538716745 (pred)\t-0.81 (actual)\n",
      "Steering angle: 4.366057981165842 (pred)\t-1.82 (actual)\n",
      "Steering angle: 4.468500573432279 (pred)\t-2.52 (actual)\n",
      "Steering angle: 3.0763306491086717 (pred)\t-3.23 (actual)\n",
      "Steering angle: 3.180211209638807 (pred)\t-3.63 (actual)\n",
      "Steering angle: 3.267894616882492 (pred)\t-3.63 (actual)\n",
      "Steering angle: 3.8920180933312163 (pred)\t-3.63 (actual)\n",
      "Steering angle: 3.366609633409394 (pred)\t-3.63 (actual)\n",
      "Steering angle: 1.7859805958982655 (pred)\t-3.63 (actual)\n",
      "Steering angle: 0.15761762077395294 (pred)\t-3.63 (actual)\n",
      "Steering angle: 0.6082106831473286 (pred)\t-3.7300000000000004 (actual)\n",
      "Steering angle: 1.5642185475348205 (pred)\t-3.7300000000000004 (actual)\n",
      "Steering angle: 1.652992650611592 (pred)\t-3.7300000000000004 (actual)\n",
      "Steering angle: 2.454927508940316 (pred)\t-3.7300000000000004 (actual)\n",
      "Steering angle: 0.33812752768570276 (pred)\t-3.7300000000000004 (actual)\n",
      "Steering angle: -0.29967812501145313 (pred)\t-3.7300000000000004 (actual)\n",
      "Steering angle: 1.7418210750366059 (pred)\t-3.7300000000000004 (actual)\n",
      "Steering angle: 0.14025274526326822 (pred)\t-3.7300000000000004 (actual)\n",
      "Steering angle: -1.3242541517549973 (pred)\t-3.829999999999999 (actual)\n",
      "Steering angle: -1.3214959292690756 (pred)\t-4.13 (actual)\n",
      "Steering angle: -1.280404017118398 (pred)\t-4.24 (actual)\n",
      "Steering angle: -1.1865168771176373 (pred)\t-4.24 (actual)\n",
      "Steering angle: -2.0349400306498784 (pred)\t-4.24 (actual)\n",
      "Steering angle: -2.972550193538559 (pred)\t-4.24 (actual)\n",
      "Steering angle: -2.9631112989924246 (pred)\t-4.44 (actual)\n",
      "Steering angle: -2.8065746757165453 (pred)\t-4.74 (actual)\n",
      "Steering angle: -3.018472330092905 (pred)\t-5.139999999999999 (actual)\n",
      "Steering angle: -3.1860706581730316 (pred)\t-5.849999999999999 (actual)\n",
      "Steering angle: -3.5457569576023658 (pred)\t-6.45 (actual)\n",
      "Steering angle: -2.9333496034577404 (pred)\t-6.96 (actual)\n",
      "Steering angle: -2.6722018028539454 (pred)\t-6.96 (actual)\n",
      "Steering angle: -2.9290453036201627 (pred)\t-6.45 (actual)\n",
      "Steering angle: -0.9446194310809948 (pred)\t-5.05 (actual)\n",
      "Steering angle: -0.23053393224844554 (pred)\t-5.949999999999999 (actual)\n",
      "Steering angle: 1.1110226894997808 (pred)\t-5.949999999999999 (actual)\n",
      "Steering angle: 0.6549072457596777 (pred)\t-5.949999999999999 (actual)\n",
      "Steering angle: 0.27692265610046807 (pred)\t-5.65 (actual)\n",
      "Steering angle: 1.182799013053329 (pred)\t-5.340000000000001 (actual)\n",
      "Steering angle: 1.375068838189188 (pred)\t-5.04 (actual)\n"
     ]
    },
    {
     "name": "stdout",
     "output_type": "stream",
     "text": [
      "Steering angle: 1.9301988662843212 (pred)\t-4.44 (actual)\n",
      "Steering angle: 2.354087876694717 (pred)\t-3.4300000000000006 (actual)\n",
      "Steering angle: 2.1288282378676966 (pred)\t-2.7200000000000006 (actual)\n",
      "Steering angle: 2.8604887739300406 (pred)\t-2.12 (actual)\n",
      "Steering angle: 2.8547932499358963 (pred)\t-1.51 (actual)\n",
      "Steering angle: 2.6548309242473107 (pred)\t-0.81 (actual)\n",
      "Steering angle: 2.345115142559436 (pred)\t0.2 (actual)\n",
      "Steering angle: 2.7315429132498394 (pred)\t1.11 (actual)\n",
      "Steering angle: 3.293601954814539 (pred)\t1.51 (actual)\n",
      "Steering angle: 2.5829431832329264 (pred)\t1.6100000000000003 (actual)\n",
      "Steering angle: 2.3372209379827824 (pred)\t1.82 (actual)\n",
      "Steering angle: 1.8827326800907291 (pred)\t2.12 (actual)\n",
      "Steering angle: 1.7150882482337049 (pred)\t2.42 (actual)\n",
      "Steering angle: 1.8020903441076812 (pred)\t2.7200000000000006 (actual)\n",
      "Steering angle: 0.9114362376589571 (pred)\t2.92 (actual)\n",
      "Steering angle: 1.3075086623442416 (pred)\t2.92 (actual)\n",
      "Steering angle: 1.034829154543938 (pred)\t3.03 (actual)\n",
      "Steering angle: 0.9713098893667005 (pred)\t3.03 (actual)\n",
      "Steering angle: 0.833188149784263 (pred)\t2.7200000000000006 (actual)\n",
      "Steering angle: 1.2082873580451126 (pred)\t2.32 (actual)\n",
      "Steering angle: 0.9340623065016822 (pred)\t2.02 (actual)\n",
      "Steering angle: 1.3030124768796691 (pred)\t1.92 (actual)\n",
      "Steering angle: 1.1446512326000442 (pred)\t1.82 (actual)\n",
      "Steering angle: 1.0013886550892614 (pred)\t1.51 (actual)\n",
      "Steering angle: 1.0635699502411171 (pred)\t1.11 (actual)\n",
      "Steering angle: 0.9231953688104861 (pred)\t0.5 (actual)\n",
      "Steering angle: 0.8820110356626018 (pred)\t0.0 (actual)\n",
      "Steering angle: 0.6365107181996302 (pred)\t-0.3 (actual)\n",
      "Steering angle: -0.36801873001035285 (pred)\t-0.3 (actual)\n",
      "Steering angle: -0.5523454453478837 (pred)\t-0.3 (actual)\n",
      "Steering angle: -0.813683850918204 (pred)\t-0.5 (actual)\n",
      "Steering angle: -1.0583478437338192 (pred)\t-0.71 (actual)\n",
      "Steering angle: -1.2947993878461403 (pred)\t-0.81 (actual)\n",
      "Steering angle: -2.107435018170159 (pred)\t-0.81 (actual)\n",
      "Steering angle: -2.4083404961589516 (pred)\t-0.81 (actual)\n",
      "Steering angle: -2.723194287649968 (pred)\t-0.81 (actual)\n",
      "Steering angle: -2.9077479200144167 (pred)\t-0.81 (actual)\n",
      "Steering angle: -3.134507852581313 (pred)\t-0.81 (actual)\n",
      "Steering angle: -3.040682397726494 (pred)\t-0.81 (actual)\n",
      "Steering angle: -2.9791575477869 (pred)\t-0.81 (actual)\n",
      "Steering angle: -2.545291765433231 (pred)\t-0.61 (actual)\n",
      "Steering angle: -2.353597170291534 (pred)\t-0.5 (actual)\n",
      "Steering angle: -1.9815979607793712 (pred)\t-0.2 (actual)\n",
      "Steering angle: -1.0752322848055023 (pred)\t0.0 (actual)\n",
      "Steering angle: -0.36037409414266897 (pred)\t0.0 (actual)\n",
      "Steering angle: 1.442852382564335 (pred)\t0.0 (actual)\n",
      "Steering angle: 1.6645793194865781 (pred)\t0.0 (actual)\n",
      "Steering angle: 2.0287657530835985 (pred)\t0.0 (actual)\n",
      "Steering angle: 2.108013236372083 (pred)\t0.1 (actual)\n",
      "Steering angle: 2.058537480458626 (pred)\t0.1 (actual)\n",
      "Steering angle: 1.4843578413249159 (pred)\t0.2 (actual)\n",
      "Steering angle: 0.28397648060494585 (pred)\t0.3 (actual)\n",
      "Steering angle: 0.15670493674611 (pred)\t0.5 (actual)\n",
      "Steering angle: 0.23101033794305392 (pred)\t0.71 (actual)\n",
      "Steering angle: 0.23178214931926536 (pred)\t0.81 (actual)\n",
      "Steering angle: 0.4894159243167943 (pred)\t0.91 (actual)\n",
      "Steering angle: 1.068204660479794 (pred)\t1.01 (actual)\n",
      "Steering angle: 1.2481182465202767 (pred)\t1.01 (actual)\n",
      "Steering angle: 1.2469640512722502 (pred)\t1.11 (actual)\n",
      "Steering angle: 1.020127492520603 (pred)\t1.11 (actual)\n",
      "Steering angle: 0.870805043112138 (pred)\t0.81 (actual)\n",
      "Steering angle: 0.9147350055846617 (pred)\t0.71 (actual)\n",
      "Steering angle: 0.45846033305953293 (pred)\t0.71 (actual)\n",
      "Steering angle: 0.636059125301616 (pred)\t0.71 (actual)\n",
      "Steering angle: 0.8762142327696708 (pred)\t0.71 (actual)\n",
      "Steering angle: 1.0505765825622257 (pred)\t0.71 (actual)\n",
      "Steering angle: 1.1186691929973158 (pred)\t0.71 (actual)\n",
      "Steering angle: 1.1231536390742523 (pred)\t0.71 (actual)\n",
      "Steering angle: 0.688955418607074 (pred)\t0.71 (actual)\n",
      "Steering angle: 0.07703769030836059 (pred)\t0.71 (actual)\n",
      "Steering angle: 0.10789646496815837 (pred)\t0.71 (actual)\n",
      "Steering angle: 0.002043080335480064 (pred)\t0.71 (actual)\n",
      "Steering angle: -0.4179579249311655 (pred)\t0.81 (actual)\n",
      "Steering angle: -0.530679711774633 (pred)\t0.91 (actual)\n",
      "Steering angle: -0.7556487473968106 (pred)\t0.91 (actual)\n",
      "Steering angle: -0.4733157810608991 (pred)\t0.91 (actual)\n",
      "Steering angle: -0.5801922866765843 (pred)\t0.91 (actual)\n",
      "Steering angle: 0.13646711291578864 (pred)\t0.91 (actual)\n",
      "Steering angle: -0.4470293444728554 (pred)\t0.91 (actual)\n",
      "Steering angle: -0.47501473725608684 (pred)\t0.91 (actual)\n",
      "Steering angle: -0.11740578917000201 (pred)\t0.91 (actual)\n",
      "Steering angle: -0.6686064708006078 (pred)\t0.81 (actual)\n",
      "Steering angle: -0.9903032580663308 (pred)\t0.5 (actual)\n",
      "Steering angle: -1.2912404324017406 (pred)\t0.3 (actual)\n",
      "Steering angle: -1.4356741739117689 (pred)\t0.0 (actual)\n",
      "Steering angle: -1.2670987018935074 (pred)\t-0.1 (actual)\n",
      "Steering angle: -1.8168574265366602 (pred)\t-0.3 (actual)\n",
      "Steering angle: -1.9477379382992677 (pred)\t-0.4 (actual)\n",
      "Steering angle: -1.7205472769278376 (pred)\t-0.4 (actual)\n",
      "Steering angle: -1.6945250032420296 (pred)\t-0.5 (actual)\n",
      "Steering angle: -1.7423033504250323 (pred)\t-0.5 (actual)\n",
      "Steering angle: -2.0125267648884813 (pred)\t-0.61 (actual)\n",
      "Steering angle: -1.709797306226178 (pred)\t-0.71 (actual)\n",
      "Steering angle: -1.6992512807042668 (pred)\t-0.81 (actual)\n",
      "Steering angle: -1.4171954172774168 (pred)\t-0.91 (actual)\n",
      "Steering angle: -1.631592067116355 (pred)\t-1.11 (actual)\n",
      "Steering angle: -1.7653523573877692 (pred)\t-1.6100000000000003 (actual)\n",
      "Steering angle: -1.6600706475824292 (pred)\t-2.12 (actual)\n",
      "Steering angle: -1.8722289163643073 (pred)\t-2.32 (actual)\n",
      "Steering angle: -1.578180201250267 (pred)\t-2.52 (actual)\n",
      "Steering angle: -1.7129922339321573 (pred)\t-2.52 (actual)\n",
      "Steering angle: -1.2730931533855456 (pred)\t-2.52 (actual)\n",
      "Steering angle: -1.1995644594230659 (pred)\t-2.52 (actual)\n",
      "Steering angle: -1.5693018091028967 (pred)\t-2.62 (actual)\n",
      "Steering angle: -2.12756678730536 (pred)\t-2.62 (actual)\n",
      "Steering angle: -2.2522243564038513 (pred)\t-2.62 (actual)\n",
      "Steering angle: -1.8054554929343818 (pred)\t-2.62 (actual)\n",
      "Steering angle: -1.2884762335002953 (pred)\t-2.62 (actual)\n",
      "Steering angle: -1.1692784401478773 (pred)\t-2.62 (actual)\n",
      "Steering angle: -0.7750456308660005 (pred)\t-2.62 (actual)\n",
      "Steering angle: 0.14250413302822046 (pred)\t-2.62 (actual)\n",
      "Steering angle: 0.9554607555628032 (pred)\t-2.62 (actual)\n",
      "Steering angle: 1.9251808116784774 (pred)\t-2.62 (actual)\n",
      "Steering angle: 1.9317403546026284 (pred)\t-2.62 (actual)\n",
      "Steering angle: 2.008684783480349 (pred)\t-2.52 (actual)\n",
      "Steering angle: 1.261863148451281 (pred)\t-2.32 (actual)\n",
      "Steering angle: 1.4142503250846719 (pred)\t-2.12 (actual)\n",
      "Steering angle: 2.20471185298995 (pred)\t-1.92 (actual)\n",
      "Steering angle: 2.808928956546084 (pred)\t-1.6100000000000003 (actual)\n",
      "Steering angle: 3.3953901295811235 (pred)\t-1.21 (actual)\n",
      "Steering angle: 3.7014716103003162 (pred)\t-0.81 (actual)\n",
      "Steering angle: 3.658590402030507 (pred)\t-0.2 (actual)\n",
      "Steering angle: 3.4724261256824045 (pred)\t0.5 (actual)\n",
      "Steering angle: 3.3756421316999123 (pred)\t1.71 (actual)\n",
      "Steering angle: 3.54631062981196 (pred)\t2.42 (actual)\n",
      "Steering angle: 3.8587789777353496 (pred)\t2.92 (actual)\n",
      "Steering angle: 4.026846027547268 (pred)\t3.23 (actual)\n",
      "Steering angle: 4.160347624403868 (pred)\t3.4300000000000006 (actual)\n",
      "Steering angle: 4.278201684758792 (pred)\t3.7300000000000004 (actual)\n",
      "Steering angle: 4.512960409174007 (pred)\t4.44 (actual)\n",
      "Steering angle: 4.534588203180853 (pred)\t5.55 (actual)\n",
      "Steering angle: 4.231463127155218 (pred)\t7.16 (actual)\n",
      "Steering angle: 4.410653993804148 (pred)\t8.469999999999999 (actual)\n",
      "Steering angle: 4.602815816573757 (pred)\t9.58 (actual)\n",
      "Steering angle: 4.774235635494505 (pred)\t10.49 (actual)\n",
      "Steering angle: 5.121455132141273 (pred)\t10.79 (actual)\n",
      "Steering angle: 6.70957827455408 (pred)\t10.99 (actual)\n",
      "Steering angle: 6.503151601702901 (pred)\t11.089999999999998 (actual)\n",
      "Steering angle: 6.304278691186933 (pred)\t11.19 (actual)\n",
      "Steering angle: 6.7906743912301115 (pred)\t11.6 (actual)\n",
      "Steering angle: 6.466226318389343 (pred)\t12.0 (actual)\n",
      "Steering angle: 6.301127412658618 (pred)\t12.4 (actual)\n",
      "Steering angle: 5.799292496883448 (pred)\t12.61 (actual)\n",
      "Steering angle: 6.038752952768571 (pred)\t12.81 (actual)\n",
      "Steering angle: 6.736140026462614 (pred)\t12.81 (actual)\n",
      "Steering angle: 6.0802164698987795 (pred)\t12.81 (actual)\n"
     ]
    },
    {
     "name": "stdout",
     "output_type": "stream",
     "text": [
      "Steering angle: 6.212682012435653 (pred)\t12.81 (actual)\n",
      "Steering angle: 5.917833418136781 (pred)\t12.709999999999999 (actual)\n",
      "Steering angle: 5.931790055932056 (pred)\t12.61 (actual)\n",
      "Steering angle: 5.977806747917724 (pred)\t12.4 (actual)\n",
      "Steering angle: 4.992304792672795 (pred)\t12.2 (actual)\n",
      "Steering angle: 4.839498946787623 (pred)\t11.5 (actual)\n",
      "Steering angle: 4.354358720891257 (pred)\t10.389999999999999 (actual)\n",
      "Steering angle: 4.503807101912544 (pred)\t9.68 (actual)\n",
      "Steering angle: 4.362211730889479 (pred)\t9.380000000000003 (actual)\n",
      "Steering angle: 4.604759432279448 (pred)\t8.77 (actual)\n",
      "Steering angle: 4.836485979590002 (pred)\t8.37 (actual)\n",
      "Steering angle: 4.847062100632943 (pred)\t7.969999999999999 (actual)\n",
      "Steering angle: 4.703107326138462 (pred)\t7.559999999999999 (actual)\n",
      "Steering angle: 4.655113721274898 (pred)\t7.06 (actual)\n",
      "Steering angle: 4.687801299095287 (pred)\t6.25 (actual)\n",
      "Steering angle: 4.746444876422193 (pred)\t5.340000000000001 (actual)\n",
      "Steering angle: 4.52632538183243 (pred)\t4.64 (actual)\n",
      "Steering angle: 4.504226304772854 (pred)\t4.13 (actual)\n",
      "Steering angle: 4.489942244784242 (pred)\t3.7300000000000004 (actual)\n",
      "Steering angle: 4.532344486038504 (pred)\t3.23 (actual)\n",
      "Steering angle: 4.396114228608484 (pred)\t2.7200000000000006 (actual)\n",
      "Steering angle: 4.291031768227838 (pred)\t2.32 (actual)\n",
      "Steering angle: 3.9670122897574873 (pred)\t2.02 (actual)\n",
      "Steering angle: 3.959590008563799 (pred)\t1.41 (actual)\n",
      "Steering angle: 4.046963495973895 (pred)\t0.81 (actual)\n",
      "Steering angle: 3.7025413886790695 (pred)\t-0.1 (actual)\n",
      "Steering angle: 3.748530759908058 (pred)\t-0.81 (actual)\n",
      "Steering angle: 3.7350509546942146 (pred)\t-1.51 (actual)\n",
      "Steering angle: 3.45037784815478 (pred)\t-1.71 (actual)\n",
      "Steering angle: 3.4050680807482085 (pred)\t-1.71 (actual)\n",
      "Steering angle: 3.1937529134420037 (pred)\t-1.71 (actual)\n",
      "Steering angle: 3.123112535724793 (pred)\t-1.71 (actual)\n",
      "Steering angle: 2.9175925704859322 (pred)\t-1.71 (actual)\n",
      "Steering angle: 3.320178861205293 (pred)\t-1.71 (actual)\n",
      "Steering angle: 3.1098794710947164 (pred)\t-1.6100000000000003 (actual)\n",
      "Steering angle: 3.3173381428408026 (pred)\t-1.6100000000000003 (actual)\n",
      "Steering angle: 3.476034173111464 (pred)\t-1.6100000000000003 (actual)\n",
      "Steering angle: 3.677206936387023 (pred)\t-1.6100000000000003 (actual)\n",
      "Steering angle: 3.8658789593775778 (pred)\t-1.41 (actual)\n",
      "Steering angle: 3.730936192606105 (pred)\t-1.41 (actual)\n",
      "Steering angle: 3.7192108922353087 (pred)\t-1.21 (actual)\n",
      "Steering angle: 3.1759890855146815 (pred)\t-1.11 (actual)\n",
      "Steering angle: 2.4898596576767003 (pred)\t-0.71 (actual)\n",
      "Steering angle: 1.5157005122090466 (pred)\t-0.3 (actual)\n",
      "Steering angle: 0.5644302911454576 (pred)\t0.0 (actual)\n",
      "Steering angle: 0.2901202090829459 (pred)\t0.1 (actual)\n",
      "Steering angle: -1.622850278752385 (pred)\t0.1 (actual)\n",
      "Steering angle: -2.1982980919158965 (pred)\t0.1 (actual)\n",
      "Steering angle: -4.140035495585896 (pred)\t0.1 (actual)\n",
      "Steering angle: -3.5069369371243635 (pred)\t0.1 (actual)\n",
      "Steering angle: -3.246251028063191 (pred)\t0.2 (actual)\n",
      "Steering angle: -4.534781582911729 (pred)\t0.0 (actual)\n",
      "Steering angle: -3.9833893758398853 (pred)\t-0.1 (actual)\n",
      "Steering angle: -4.753983697718595 (pred)\t-0.1 (actual)\n",
      "Steering angle: -5.597422413982312 (pred)\t-0.2 (actual)\n",
      "Steering angle: -5.556632097372173 (pred)\t-0.3 (actual)\n",
      "Steering angle: -5.581673705303555 (pred)\t-0.5 (actual)\n",
      "Steering angle: -9.251287178880817 (pred)\t-1.31 (actual)\n",
      "Steering angle: -14.26741481760497 (pred)\t-2.32 (actual)\n",
      "Steering angle: -14.239687664669303 (pred)\t-3.13 (actual)\n",
      "Steering angle: -10.120129929988751 (pred)\t-3.9300000000000006 (actual)\n",
      "Steering angle: -4.323502487542078 (pred)\t-4.34 (actual)\n",
      "Steering angle: -2.718011241286986 (pred)\t-4.64 (actual)\n",
      "Steering angle: -2.986338851368934 (pred)\t-4.94 (actual)\n",
      "Steering angle: -3.090886636003615 (pred)\t-5.139999999999999 (actual)\n",
      "Steering angle: -2.9516135292983545 (pred)\t-5.55 (actual)\n",
      "Steering angle: 0.8669547374109549 (pred)\t-5.949999999999999 (actual)\n",
      "Steering angle: 1.0194334812679062 (pred)\t-6.050000000000001 (actual)\n",
      "Steering angle: 0.8688935506398865 (pred)\t-6.050000000000001 (actual)\n",
      "Steering angle: 1.1739847606511333 (pred)\t-6.150000000000001 (actual)\n",
      "Steering angle: 1.88366692190314 (pred)\t-6.25 (actual)\n",
      "Steering angle: 1.389260690624005 (pred)\t-6.25 (actual)\n",
      "Steering angle: 0.650898084799439 (pred)\t-6.45 (actual)\n",
      "Steering angle: 1.2144612087245694 (pred)\t-6.55 (actual)\n",
      "Steering angle: 1.1298781737555414 (pred)\t-6.659999999999999 (actual)\n",
      "Steering angle: 1.7703431979586388 (pred)\t-6.860000000000001 (actual)\n",
      "Steering angle: 1.550764675695482 (pred)\t-7.06 (actual)\n",
      "Steering angle: 2.2153187098841567 (pred)\t-7.36 (actual)\n",
      "Steering angle: 2.507756460849426 (pred)\t-7.559999999999999 (actual)\n",
      "Steering angle: 3.3365138989356136 (pred)\t-7.659999999999998 (actual)\n",
      "Steering angle: 2.2004113951337807 (pred)\t-7.659999999999998 (actual)\n",
      "Steering angle: 1.2389771055332723 (pred)\t-7.659999999999998 (actual)\n",
      "Steering angle: -0.28571561752236035 (pred)\t-7.659999999999998 (actual)\n",
      "Steering angle: -0.3498258274649363 (pred)\t-7.659999999999998 (actual)\n",
      "Steering angle: -0.1808120360608171 (pred)\t-7.659999999999998 (actual)\n",
      "Steering angle: -0.7115096103809553 (pred)\t-7.659999999999998 (actual)\n",
      "Steering angle: 0.0148104114415264 (pred)\t-7.659999999999998 (actual)\n",
      "Steering angle: 0.10647578562079572 (pred)\t-7.760000000000002 (actual)\n",
      "Steering angle: -0.06591814900968646 (pred)\t-7.87 (actual)\n",
      "Steering angle: -0.34644661805349897 (pred)\t-7.969999999999999 (actual)\n",
      "Steering angle: -0.8226736071655573 (pred)\t-8.17 (actual)\n",
      "Steering angle: -0.5344959732516719 (pred)\t-8.27 (actual)\n",
      "Steering angle: -1.17312597108471 (pred)\t-8.37 (actual)\n",
      "Steering angle: -0.9347291037194047 (pred)\t-8.37 (actual)\n",
      "Steering angle: -0.7351129298835211 (pred)\t-8.469999999999999 (actual)\n",
      "Steering angle: -1.366601431330782 (pred)\t-8.570000000000002 (actual)\n",
      "Steering angle: -1.2197847008523597 (pred)\t-8.67 (actual)\n",
      "Steering angle: -1.2735089411512701 (pred)\t-8.77 (actual)\n",
      "Steering angle: -1.4429360523816677 (pred)\t-8.77 (actual)\n",
      "Steering angle: -1.9511630647246176 (pred)\t-8.87 (actual)\n",
      "Steering angle: -2.098759183820362 (pred)\t-8.97 (actual)\n",
      "Steering angle: -2.29090734621163 (pred)\t-8.97 (actual)\n",
      "Steering angle: -2.5224168215726235 (pred)\t-8.97 (actual)\n",
      "Steering angle: -2.6957352196392246 (pred)\t-8.97 (actual)\n",
      "Steering angle: -3.4770766307335372 (pred)\t-9.08 (actual)\n",
      "Steering angle: -3.8152036514911374 (pred)\t-9.28 (actual)\n",
      "Steering angle: -3.956803718269257 (pred)\t-9.380000000000003 (actual)\n",
      "Steering angle: -3.946744130282297 (pred)\t-9.58 (actual)\n",
      "Steering angle: -4.114307880529751 (pred)\t-9.58 (actual)\n",
      "Steering angle: -4.496465075441604 (pred)\t-9.78 (actual)\n",
      "Steering angle: -5.286953603938445 (pred)\t-9.88 (actual)\n",
      "Steering angle: -5.342984633907821 (pred)\t-10.08 (actual)\n",
      "Steering angle: -5.8576009680542 (pred)\t-10.08 (actual)\n",
      "Steering angle: -5.987631121265141 (pred)\t-10.08 (actual)\n",
      "Steering angle: -6.656535452346585 (pred)\t-10.08 (actual)\n",
      "Steering angle: -6.5719051396618955 (pred)\t-9.88 (actual)\n",
      "Steering angle: -6.329528619888 (pred)\t-9.78 (actual)\n",
      "Steering angle: -3.9963022753526176 (pred)\t-9.58 (actual)\n",
      "Steering angle: -3.0901436394879647 (pred)\t-9.48 (actual)\n",
      "Steering angle: -1.5645198229102415 (pred)\t-9.48 (actual)\n",
      "Steering angle: -1.2943178595096545 (pred)\t-9.380000000000003 (actual)\n",
      "Steering angle: -1.273118766594933 (pred)\t-9.380000000000003 (actual)\n",
      "Steering angle: -1.7325751333345243 (pred)\t-9.28 (actual)\n",
      "Steering angle: -1.8975074464825246 (pred)\t-9.28 (actual)\n",
      "Steering angle: -2.1096821504070933 (pred)\t-9.28 (actual)\n",
      "Steering angle: -2.2706995912219123 (pred)\t-9.28 (actual)\n",
      "Steering angle: -2.5157264378371846 (pred)\t-9.28 (actual)\n",
      "Steering angle: -2.734773379283844 (pred)\t-9.28 (actual)\n",
      "Steering angle: -2.666091344867723 (pred)\t-9.28 (actual)\n",
      "Steering angle: -2.2996216003755086 (pred)\t-9.28 (actual)\n",
      "Steering angle: -1.6526998062509275 (pred)\t-9.08 (actual)\n",
      "Steering angle: -1.0701262915140946 (pred)\t-8.97 (actual)\n",
      "Steering angle: -0.6601663313380289 (pred)\t-8.87 (actual)\n",
      "Steering angle: -0.37711302016851905 (pred)\t-8.87 (actual)\n",
      "Steering angle: -0.024038850783859877 (pred)\t-8.87 (actual)\n",
      "Steering angle: 0.02447000647521693 (pred)\t-8.87 (actual)\n",
      "Steering angle: 0.15515021493628584 (pred)\t-8.87 (actual)\n",
      "Steering angle: 0.31640344401981607 (pred)\t-8.87 (actual)\n",
      "Steering angle: 0.2630907492988253 (pred)\t-8.87 (actual)\n",
      "Steering angle: 0.32376718835788315 (pred)\t-8.87 (actual)\n",
      "Steering angle: 0.3807987076385343 (pred)\t-8.87 (actual)\n",
      "Steering angle: 0.29770251947445336 (pred)\t-8.87 (actual)\n",
      "Steering angle: 0.13020298901345392 (pred)\t-8.77 (actual)\n",
      "Steering angle: 0.3892945291511046 (pred)\t-8.77 (actual)\n",
      "Steering angle: 0.2725206258608213 (pred)\t-8.87 (actual)\n"
     ]
    },
    {
     "name": "stdout",
     "output_type": "stream",
     "text": [
      "Steering angle: 0.44735377845843105 (pred)\t-8.87 (actual)\n",
      "Steering angle: 0.5820312617497574 (pred)\t-8.87 (actual)\n",
      "Steering angle: 0.17314089318945974 (pred)\t-8.87 (actual)\n",
      "Steering angle: 0.0509147880591605 (pred)\t-8.87 (actual)\n",
      "Steering angle: 0.23763388721024734 (pred)\t-8.87 (actual)\n",
      "Steering angle: -0.08192810575408972 (pred)\t-8.87 (actual)\n",
      "Steering angle: 0.14879388348015593 (pred)\t-8.87 (actual)\n",
      "Steering angle: 1.0977374379555769 (pred)\t-8.97 (actual)\n",
      "Steering angle: 1.026184589653935 (pred)\t-8.97 (actual)\n",
      "Steering angle: 0.6514905503490847 (pred)\t0.0 (actual)\n",
      "Steering angle: 1.0985732823552572 (pred)\t-9.380000000000003 (actual)\n",
      "Steering angle: 0.7861518386215587 (pred)\t-9.68 (actual)\n",
      "Steering angle: 1.0497382835633124 (pred)\t-9.88 (actual)\n",
      "Steering angle: 0.8999332386013036 (pred)\t-10.08 (actual)\n",
      "Steering angle: -0.10856582350681962 (pred)\t-10.08 (actual)\n",
      "Steering angle: -0.5327782340362665 (pred)\t-10.08 (actual)\n",
      "Steering angle: -0.7450606735228215 (pred)\t-10.08 (actual)\n",
      "Steering angle: -1.3874484493381303 (pred)\t-10.08 (actual)\n",
      "Steering angle: -1.2402310855762044 (pred)\t-10.08 (actual)\n",
      "Steering angle: -1.1580892029052212 (pred)\t-10.08 (actual)\n",
      "Steering angle: -1.422659568613427 (pred)\t-10.08 (actual)\n",
      "Steering angle: -1.4265632351675008 (pred)\t-10.08 (actual)\n",
      "Steering angle: -1.5924841114761548 (pred)\t-10.08 (actual)\n",
      "Steering angle: -1.8782303047672213 (pred)\t-10.08 (actual)\n",
      "Steering angle: -2.049428996313591 (pred)\t-10.08 (actual)\n",
      "Steering angle: -2.3507946582977133 (pred)\t-10.08 (actual)\n",
      "Steering angle: -2.2787807722270954 (pred)\t-10.08 (actual)\n",
      "Steering angle: -2.834414740216929 (pred)\t-10.08 (actual)\n",
      "Steering angle: -3.9160193780746413 (pred)\t-10.08 (actual)\n",
      "Steering angle: -3.594338385621374 (pred)\t-9.88 (actual)\n",
      "Steering angle: -3.388331342517327 (pred)\t-9.78 (actual)\n",
      "Steering angle: -3.519026798842109 (pred)\t-9.78 (actual)\n",
      "Steering angle: -3.6196318567784003 (pred)\t-9.78 (actual)\n",
      "Steering angle: -3.054071916377246 (pred)\t-9.78 (actual)\n",
      "Steering angle: -2.8932807255786837 (pred)\t-9.78 (actual)\n",
      "Steering angle: -3.5822229106942407 (pred)\t-9.78 (actual)\n",
      "Steering angle: -3.4831429059335663 (pred)\t-9.78 (actual)\n",
      "Steering angle: -5.129260757702129 (pred)\t-9.78 (actual)\n",
      "Steering angle: -5.260338064290197 (pred)\t-9.78 (actual)\n",
      "Steering angle: -5.45549407123721 (pred)\t-9.78 (actual)\n",
      "Steering angle: -5.167228071750937 (pred)\t-9.78 (actual)\n",
      "Steering angle: -4.459747259124084 (pred)\t-9.78 (actual)\n",
      "Steering angle: -3.2287670244484277 (pred)\t-9.68 (actual)\n",
      "Steering angle: -1.7504122790737184 (pred)\t-9.68 (actual)\n",
      "Steering angle: -1.0920219570024514 (pred)\t-9.68 (actual)\n",
      "Steering angle: -0.47605036468899004 (pred)\t-9.88 (actual)\n",
      "Steering angle: -0.009688623337663087 (pred)\t-10.08 (actual)\n",
      "Steering angle: 0.17154775156555427 (pred)\t-10.08 (actual)\n",
      "Steering angle: -0.018979388156172932 (pred)\t-10.08 (actual)\n",
      "Steering angle: -0.8774214153446176 (pred)\t-10.08 (actual)\n",
      "Steering angle: -1.0680330519768972 (pred)\t-10.18 (actual)\n",
      "Steering angle: -0.9985159202130365 (pred)\t-10.389999999999999 (actual)\n",
      "Steering angle: -1.035782819706801 (pred)\t-10.79 (actual)\n",
      "Steering angle: -1.2680616518447734 (pred)\t-11.39 (actual)\n",
      "Steering angle: -1.0124168492778933 (pred)\t-11.8 (actual)\n",
      "Steering angle: -1.1655853355193102 (pred)\t-12.4 (actual)\n",
      "Steering angle: -1.409901842460901 (pred)\t-12.709999999999999 (actual)\n",
      "Steering angle: -1.4757370753753019 (pred)\t-13.01 (actual)\n",
      "Steering angle: -1.4937895855167629 (pred)\t-13.41 (actual)\n",
      "Steering angle: -1.251356183073686 (pred)\t-13.610000000000001 (actual)\n",
      "Steering angle: -1.7246633196764165 (pred)\t-13.71 (actual)\n",
      "Steering angle: -1.4128119299341495 (pred)\t-13.92 (actual)\n",
      "Steering angle: -1.1241959899746197 (pred)\t-13.92 (actual)\n",
      "Steering angle: -0.9367207441926981 (pred)\t-14.22 (actual)\n",
      "Steering angle: -1.307284226596983 (pred)\t-14.82 (actual)\n",
      "Steering angle: -1.1602455149705353 (pred)\t-15.83 (actual)\n",
      "Steering angle: -1.1746659652991365 (pred)\t-16.64 (actual)\n",
      "Steering angle: -0.8899813861763306 (pred)\t-16.939999999999998 (actual)\n",
      "Steering angle: -0.6285410080161361 (pred)\t-16.939999999999998 (actual)\n",
      "Steering angle: -0.6712863595544857 (pred)\t-16.939999999999998 (actual)\n",
      "Steering angle: -0.800447584636954 (pred)\t-16.939999999999998 (actual)\n",
      "Steering angle: -1.825813725529251 (pred)\t-17.140000000000004 (actual)\n",
      "Steering angle: -1.746166569452615 (pred)\t-17.75 (actual)\n",
      "Steering angle: -1.376064978590952 (pred)\t-17.95 (actual)\n",
      "Steering angle: -1.375250585254134 (pred)\t-17.95 (actual)\n",
      "Steering angle: -1.2185127915628564 (pred)\t-17.95 (actual)\n",
      "Steering angle: -0.8592524184612962 (pred)\t-17.95 (actual)\n",
      "Steering angle: -0.49267130986909874 (pred)\t-17.95 (actual)\n",
      "Steering angle: -0.4992051328621564 (pred)\t-18.05 (actual)\n",
      "Steering angle: -0.33450413901143744 (pred)\t-18.05 (actual)\n",
      "Steering angle: -0.7471156533284962 (pred)\t-18.05 (actual)\n",
      "Steering angle: -0.5320345971903814 (pred)\t-18.05 (actual)\n",
      "Steering angle: -1.758120040830372 (pred)\t-17.95 (actual)\n",
      "Steering angle: -1.905765572075893 (pred)\t-17.75 (actual)\n",
      "Steering angle: -2.175391985317201 (pred)\t-17.239999999999995 (actual)\n",
      "Steering angle: -2.339205107936671 (pred)\t-16.64 (actual)\n",
      "Steering angle: -2.3419600220497134 (pred)\t-15.929999999999998 (actual)\n",
      "Steering angle: -2.2282723770884973 (pred)\t-15.33 (actual)\n",
      "Steering angle: -2.5376201823348374 (pred)\t-14.72 (actual)\n",
      "Steering angle: -2.475351055219124 (pred)\t-14.12 (actual)\n",
      "Steering angle: -2.7141664851145038 (pred)\t-13.21 (actual)\n",
      "Steering angle: -2.9496639371771387 (pred)\t-12.100000000000001 (actual)\n",
      "Steering angle: -2.7711078512341962 (pred)\t-11.19 (actual)\n",
      "Steering angle: -3.0396226511880844 (pred)\t-10.08 (actual)\n",
      "Steering angle: -2.817088684726722 (pred)\t-8.97 (actual)\n",
      "Steering angle: -2.8616665546750446 (pred)\t-7.760000000000002 (actual)\n",
      "Steering angle: -2.8487186504428164 (pred)\t-6.96 (actual)\n",
      "Steering angle: -3.0081583175593627 (pred)\t-6.659999999999999 (actual)\n",
      "Steering angle: -2.761919752696648 (pred)\t-5.949999999999999 (actual)\n",
      "Steering angle: -2.4507420970829794 (pred)\t-5.139999999999999 (actual)\n",
      "Steering angle: -2.213234434970245 (pred)\t-3.829999999999999 (actual)\n",
      "Steering angle: -2.183301130932664 (pred)\t-2.82 (actual)\n",
      "Steering angle: -2.4522048247824197 (pred)\t-2.02 (actual)\n",
      "Steering angle: -2.6256483006881965 (pred)\t-1.21 (actual)\n",
      "Steering angle: -2.7573230353852294 (pred)\t-0.81 (actual)\n",
      "Steering angle: -2.704280853507968 (pred)\t-0.4 (actual)\n",
      "Steering angle: -2.7743861285923908 (pred)\t-0.1 (actual)\n",
      "Steering angle: -2.4654474943660167 (pred)\t0.2 (actual)\n"
     ]
    }
   ],
   "source": [
    "#if we enter q button then program execution will be stops\n",
    "while(cv2.waitKey(10) != ord('q')):\n",
    "    # read the image\n",
    "    full_image = scipy.misc.imread(\"driving_dataset/\" + str(i) + \".jpg\", mode=\"RGB\")\n",
    "    # image resize into  66x200 then each pixel value   divide by 255.0\n",
    "    image = scipy.misc.imresize(full_image[-150:], [66, 200]) / 255.0\n",
    "    #degrees convert into radians\n",
    "    degrees = model.y.eval(feed_dict={model.x: [image], model.keep_prob: 1.0})[0][0] * 180.0 / scipy.pi\n",
    "    #call(\"clear\")\n",
    "    #print(\"Predicted Steering angle: \" + str(degrees))\n",
    "    print(\"Steering angle: \" + str(degrees) + \" (pred)\\t\" + str(ys[i]*180/scipy.pi) + \" (actual)\")\n",
    "    cv2.imshow(\"frame\", cv2.cvtColor(full_image, cv2.COLOR_RGB2BGR))\n",
    "    #make smooth angle transitions by turning the steering wheel based on the difference of the current angle\n",
    "    #and the predicted angle\n",
    "    smoothed_angle += 0.2 * pow(abs((degrees - smoothed_angle)), 2.0 / 3.0) * (degrees - smoothed_angle) / abs(degrees - smoothed_angle)\n",
    "    M = cv2.getRotationMatrix2D((cols/2,rows/2),-smoothed_angle,1)\n",
    "    dst = cv2.warpAffine(img,M,(cols,rows))\n",
    "    # smoothed angle  execute o steering wheel image\n",
    "    cv2.imshow(\"steering wheel\", dst)\n",
    "    i += 1\n",
    "\n",
    "cv2.destroyAllWindows()\n"
   ]
  },
  {
   "cell_type": "markdown",
   "metadata": {},
   "source": [
    "# Summary(Conclusion):\n",
    "\n",
    "1. Initially we have Dataset of  front dash camera recorded sequence of images and corresponding angles\n",
    "2. so train the model using above dataset and our aim to predict sequence of steering angles\n",
    "3. so initially we have 2.2GB datset provided by sullychen wich is 25 minjuts recorded video\n",
    "4. our dataset is data.txt then we have load the data and splitted into train and validation then we loaded the data Batch wise \n",
    "5. we have performed mean baseline model  then we got MSE<0.19\n",
    "6. then we have build end0-end CNN model which is input 66x200x3 for eacg image(each pixel divided by 0-255 after  the noermalized we created 5-CNN layers  then flatten layer at output  layer we applied sigmoid function \n",
    "7. then we have trained the model after train the model we store that model(in model.ckpt formated) into other folder.\n",
    "8. then we did run the model using opencv then we could observe steering image angle rotaion for each image.\n",
    "9. as per assignment we have changed  data split percentage(70%train and 30%test), adam optimezer with 1e(power)-3, we have changed dropout rate 0.5 and at final layer we have changed sigmoid activation finction\n",
    "10. then we got output there is no any angle rotation in steering_wheele image."
   ]
  }
 ],
 "metadata": {
  "kernelspec": {
   "display_name": "Python 3",
   "language": "python",
   "name": "python3"
  },
  "language_info": {
   "codemirror_mode": {
    "name": "ipython",
    "version": 3
   },
   "file_extension": ".py",
   "mimetype": "text/x-python",
   "name": "python",
   "nbconvert_exporter": "python",
   "pygments_lexer": "ipython3",
   "version": "3.6.8"
  }
 },
 "nbformat": 4,
 "nbformat_minor": 2
}
